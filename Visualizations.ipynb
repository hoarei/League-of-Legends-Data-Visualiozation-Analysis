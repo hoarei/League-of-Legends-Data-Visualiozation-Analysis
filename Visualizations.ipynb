{
  "nbformat": 4,
  "nbformat_minor": 0,
  "metadata": {
    "colab": {
      "provenance": []
    },
    "kernelspec": {
      "name": "python3",
      "display_name": "Python 3"
    },
    "language_info": {
      "name": "python"
    }
  },
  "cells": [
    {
      "cell_type": "code",
      "metadata": {
        "id": "vpTinJpkxKe9",
        "colab": {
          "base_uri": "https://localhost:8080/"
        },
        "outputId": "b4a89e7d-90bc-4617-f703-f807142a9355"
      },
      "source": [
        "import os\n",
        "import pandas as pd\n",
        "import numpy as np\n",
        "%matplotlib inline\n",
        "import matplotlib.pyplot as plt\n",
        "from matplotlib import style\n",
        "import seaborn as sns\n",
        "from google.colab import drive\n",
        "drive.mount('/content/gdrive')\n",
        "os.chdir('/content/gdrive/MyDrive/Riddle/Riddle 2021-2022/MA 440/JakobNickIsabelleJosephine/Data')\n",
        "!pwd\n",
        "!ls"
      ],
      "execution_count": null,
      "outputs": [
        {
          "output_type": "stream",
          "name": "stdout",
          "text": [
            "Mounted at /content/gdrive\n",
            "/content/gdrive/.shortcut-targets-by-id/1Ewo5aokoBL9BxKJ7M-uqDj1SF8fxJl0h/JakobNickIsabelleJosephine/Data\n",
            "MatchTimelinesFirst15.csv\n"
          ]
        }
      ]
    },
    {
      "cell_type": "code",
      "metadata": {
        "colab": {
          "base_uri": "https://localhost:8080/"
        },
        "id": "WXDPn0KI_wTQ",
        "outputId": "c2db48db-4441-44aa-ae26-4a81ae755737"
      },
      "source": [
        "df = pd.read_csv('/content/gdrive/MyDrive/Riddle/Riddle 2021-2022/MA 440/JakobNickIsabelleJosephine/Data/MatchTimelinesFirst15.csv')\n",
        "print(df)"
      ],
      "execution_count": null,
      "outputs": [
        {
          "output_type": "stream",
          "name": "stdout",
          "text": [
            "       Unnamed: 0       matchId  ...  redDragonKills  redTowersDestroyed\n",
            "0               0  3.493251e+09  ...             0.0                 1.0\n",
            "1               1  3.464936e+09  ...             0.0                 0.0\n",
            "2               2  3.428426e+09  ...             0.0                 4.0\n",
            "3               3  3.428347e+09  ...             0.0                 0.0\n",
            "4               4  3.428351e+09  ...             0.0                 2.0\n",
            "...           ...           ...  ...             ...                 ...\n",
            "48646       48646  3.475682e+09  ...             0.0                 0.0\n",
            "48647       48647  3.500988e+09  ...             0.0                 1.0\n",
            "48648       48648  3.496593e+09  ...             0.0                 1.0\n",
            "48649       48649  3.491706e+09  ...             0.0                 0.0\n",
            "48650       48650  3.478247e+09  ...             0.0                 0.0\n",
            "\n",
            "[48651 rows x 19 columns]\n"
          ]
        }
      ]
    },
    {
      "cell_type": "code",
      "metadata": {
        "id": "pRnqFlb3_8yV"
      },
      "source": [],
      "execution_count": null,
      "outputs": []
    },
    {
      "cell_type": "markdown",
      "metadata": {
        "id": "w6S4cAOEhEhV"
      },
      "source": [
        "Decision Tree"
      ]
    },
    {
      "cell_type": "markdown",
      "metadata": {
        "id": "p29ldqcqhHAz"
      },
      "source": []
    }
  ]
}