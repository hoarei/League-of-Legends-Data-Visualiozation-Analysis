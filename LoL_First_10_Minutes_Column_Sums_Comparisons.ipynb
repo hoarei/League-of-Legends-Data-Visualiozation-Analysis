{
  "nbformat": 4,
  "nbformat_minor": 0,
  "metadata": {
    "colab": {
      "provenance": [],
      "collapsed_sections": []
    },
    "kernelspec": {
      "display_name": "Python 3",
      "name": "python3"
    },
    "language_info": {
      "name": "python"
    }
  },
  "cells": [
    {
      "cell_type": "code",
      "metadata": {
        "colab": {
          "base_uri": "https://localhost:8080/"
        },
        "id": "Z3QpktdiZD_Z",
        "outputId": "96a6c664-e008-4143-e17b-b5a9d85823d9"
      },
      "source": [
        "import os\n",
        "import pandas as pd\n",
        "import numpy as np\n",
        "%matplotlib inline\n",
        "import matplotlib.pyplot as plt\n",
        "from matplotlib import style\n",
        "import seaborn as sns\n",
        "from google.colab import drive\n",
        "drive.mount('/content/gdrive')\n",
        "os.chdir('/content/gdrive/MyDrive')\n",
        "!pwd\n",
        "!ls"
      ],
      "execution_count": null,
      "outputs": [
        {
          "output_type": "stream",
          "name": "stdout",
          "text": [
            "Drive already mounted at /content/gdrive; to attempt to forcibly remount, call drive.mount(\"/content/gdrive\", force_remount=True).\n",
            "/content/gdrive/MyDrive\n",
            " Ball   Goof  'Ranger Handbook.pdf'\n"
          ]
        }
      ]
    },
    {
      "cell_type": "markdown",
      "metadata": {
        "id": "8BiGVuFOh-gk"
      },
      "source": [
        "Preliminary Work"
      ]
    },
    {
      "cell_type": "code",
      "metadata": {
        "id": "iSI_tR-DWjHL",
        "colab": {
          "base_uri": "https://localhost:8080/",
          "height": 380
        },
        "outputId": "73db5b55-a0d4-455d-d8e9-87390940b9b0"
      },
      "source": [],
      "execution_count": null,
      "outputs": [
        {
          "output_type": "error",
          "ename": "ValueError",
          "evalue": "ignored",
          "traceback": [
            "\u001b[0;31m---------------------------------------------------------------------------\u001b[0m",
            "\u001b[0;31mValueError\u001b[0m                                Traceback (most recent call last)",
            "\u001b[0;32m<ipython-input-32-d2265b17a951>\u001b[0m in \u001b[0;36m<module>\u001b[0;34m()\u001b[0m\n\u001b[1;32m      3\u001b[0m \u001b[0;32mimport\u001b[0m \u001b[0mjson\u001b[0m\u001b[0;34m\u001b[0m\u001b[0;34m\u001b[0m\u001b[0m\n\u001b[1;32m      4\u001b[0m \u001b[0;34m\u001b[0m\u001b[0m\n\u001b[0;32m----> 5\u001b[0;31m \u001b[0mdf2\u001b[0m \u001b[0;34m=\u001b[0m \u001b[0mpd\u001b[0m\u001b[0;34m.\u001b[0m\u001b[0mread_json\u001b[0m\u001b[0;34m(\u001b[0m\u001b[0;34m'/content/gdrive/MyDrive/Riddle/Riddle 2021-2022/MA 440/JakobNickIsabelleJosephine/GameMetaDeta.json'\u001b[0m\u001b[0;34m)\u001b[0m\u001b[0;34m\u001b[0m\u001b[0;34m\u001b[0m\u001b[0m\n\u001b[0m\u001b[1;32m      6\u001b[0m \u001b[0;34m\u001b[0m\u001b[0m\n\u001b[1;32m      7\u001b[0m \u001b[0mprint\u001b[0m\u001b[0;34m(\u001b[0m\u001b[0mdf2\u001b[0m\u001b[0;34m)\u001b[0m\u001b[0;34m\u001b[0m\u001b[0;34m\u001b[0m\u001b[0m\n",
            "\u001b[0;32m/usr/local/lib/python3.7/dist-packages/pandas/util/_decorators.py\u001b[0m in \u001b[0;36mwrapper\u001b[0;34m(*args, **kwargs)\u001b[0m\n\u001b[1;32m    197\u001b[0m                 \u001b[0;32melse\u001b[0m\u001b[0;34m:\u001b[0m\u001b[0;34m\u001b[0m\u001b[0;34m\u001b[0m\u001b[0m\n\u001b[1;32m    198\u001b[0m                     \u001b[0mkwargs\u001b[0m\u001b[0;34m[\u001b[0m\u001b[0mnew_arg_name\u001b[0m\u001b[0;34m]\u001b[0m \u001b[0;34m=\u001b[0m \u001b[0mnew_arg_value\u001b[0m\u001b[0;34m\u001b[0m\u001b[0;34m\u001b[0m\u001b[0m\n\u001b[0;32m--> 199\u001b[0;31m             \u001b[0;32mreturn\u001b[0m \u001b[0mfunc\u001b[0m\u001b[0;34m(\u001b[0m\u001b[0;34m*\u001b[0m\u001b[0margs\u001b[0m\u001b[0;34m,\u001b[0m \u001b[0;34m**\u001b[0m\u001b[0mkwargs\u001b[0m\u001b[0;34m)\u001b[0m\u001b[0;34m\u001b[0m\u001b[0;34m\u001b[0m\u001b[0m\n\u001b[0m\u001b[1;32m    200\u001b[0m \u001b[0;34m\u001b[0m\u001b[0m\n\u001b[1;32m    201\u001b[0m         \u001b[0;32mreturn\u001b[0m \u001b[0mcast\u001b[0m\u001b[0;34m(\u001b[0m\u001b[0mF\u001b[0m\u001b[0;34m,\u001b[0m \u001b[0mwrapper\u001b[0m\u001b[0;34m)\u001b[0m\u001b[0;34m\u001b[0m\u001b[0;34m\u001b[0m\u001b[0m\n",
            "\u001b[0;32m/usr/local/lib/python3.7/dist-packages/pandas/util/_decorators.py\u001b[0m in \u001b[0;36mwrapper\u001b[0;34m(*args, **kwargs)\u001b[0m\n\u001b[1;32m    294\u001b[0m                 )\n\u001b[1;32m    295\u001b[0m                 \u001b[0mwarnings\u001b[0m\u001b[0;34m.\u001b[0m\u001b[0mwarn\u001b[0m\u001b[0;34m(\u001b[0m\u001b[0mmsg\u001b[0m\u001b[0;34m,\u001b[0m \u001b[0mFutureWarning\u001b[0m\u001b[0;34m,\u001b[0m \u001b[0mstacklevel\u001b[0m\u001b[0;34m=\u001b[0m\u001b[0mstacklevel\u001b[0m\u001b[0;34m)\u001b[0m\u001b[0;34m\u001b[0m\u001b[0;34m\u001b[0m\u001b[0m\n\u001b[0;32m--> 296\u001b[0;31m             \u001b[0;32mreturn\u001b[0m \u001b[0mfunc\u001b[0m\u001b[0;34m(\u001b[0m\u001b[0;34m*\u001b[0m\u001b[0margs\u001b[0m\u001b[0;34m,\u001b[0m \u001b[0;34m**\u001b[0m\u001b[0mkwargs\u001b[0m\u001b[0;34m)\u001b[0m\u001b[0;34m\u001b[0m\u001b[0;34m\u001b[0m\u001b[0m\n\u001b[0m\u001b[1;32m    297\u001b[0m \u001b[0;34m\u001b[0m\u001b[0m\n\u001b[1;32m    298\u001b[0m         \u001b[0;32mreturn\u001b[0m \u001b[0mwrapper\u001b[0m\u001b[0;34m\u001b[0m\u001b[0;34m\u001b[0m\u001b[0m\n",
            "\u001b[0;32m/usr/local/lib/python3.7/dist-packages/pandas/io/json/_json.py\u001b[0m in \u001b[0;36mread_json\u001b[0;34m(path_or_buf, orient, typ, dtype, convert_axes, convert_dates, keep_default_dates, numpy, precise_float, date_unit, encoding, lines, chunksize, compression, nrows)\u001b[0m\n\u001b[1;32m    616\u001b[0m         \u001b[0;32mreturn\u001b[0m \u001b[0mjson_reader\u001b[0m\u001b[0;34m\u001b[0m\u001b[0;34m\u001b[0m\u001b[0m\n\u001b[1;32m    617\u001b[0m \u001b[0;34m\u001b[0m\u001b[0m\n\u001b[0;32m--> 618\u001b[0;31m     \u001b[0mresult\u001b[0m \u001b[0;34m=\u001b[0m \u001b[0mjson_reader\u001b[0m\u001b[0;34m.\u001b[0m\u001b[0mread\u001b[0m\u001b[0;34m(\u001b[0m\u001b[0;34m)\u001b[0m\u001b[0;34m\u001b[0m\u001b[0;34m\u001b[0m\u001b[0m\n\u001b[0m\u001b[1;32m    619\u001b[0m     \u001b[0;32mif\u001b[0m \u001b[0mshould_close\u001b[0m\u001b[0;34m:\u001b[0m\u001b[0;34m\u001b[0m\u001b[0;34m\u001b[0m\u001b[0m\n\u001b[1;32m    620\u001b[0m         \u001b[0mfilepath_or_buffer\u001b[0m\u001b[0;34m.\u001b[0m\u001b[0mclose\u001b[0m\u001b[0;34m(\u001b[0m\u001b[0;34m)\u001b[0m\u001b[0;34m\u001b[0m\u001b[0;34m\u001b[0m\u001b[0m\n",
            "\u001b[0;32m/usr/local/lib/python3.7/dist-packages/pandas/io/json/_json.py\u001b[0m in \u001b[0;36mread\u001b[0;34m(self)\u001b[0m\n\u001b[1;32m    753\u001b[0m                 \u001b[0mobj\u001b[0m \u001b[0;34m=\u001b[0m \u001b[0mself\u001b[0m\u001b[0;34m.\u001b[0m\u001b[0m_get_object_parser\u001b[0m\u001b[0;34m(\u001b[0m\u001b[0mself\u001b[0m\u001b[0;34m.\u001b[0m\u001b[0m_combine_lines\u001b[0m\u001b[0;34m(\u001b[0m\u001b[0mdata\u001b[0m\u001b[0;34m)\u001b[0m\u001b[0;34m)\u001b[0m\u001b[0;34m\u001b[0m\u001b[0;34m\u001b[0m\u001b[0m\n\u001b[1;32m    754\u001b[0m         \u001b[0;32melse\u001b[0m\u001b[0;34m:\u001b[0m\u001b[0;34m\u001b[0m\u001b[0;34m\u001b[0m\u001b[0m\n\u001b[0;32m--> 755\u001b[0;31m             \u001b[0mobj\u001b[0m \u001b[0;34m=\u001b[0m \u001b[0mself\u001b[0m\u001b[0;34m.\u001b[0m\u001b[0m_get_object_parser\u001b[0m\u001b[0;34m(\u001b[0m\u001b[0mself\u001b[0m\u001b[0;34m.\u001b[0m\u001b[0mdata\u001b[0m\u001b[0;34m)\u001b[0m\u001b[0;34m\u001b[0m\u001b[0;34m\u001b[0m\u001b[0m\n\u001b[0m\u001b[1;32m    756\u001b[0m         \u001b[0mself\u001b[0m\u001b[0;34m.\u001b[0m\u001b[0mclose\u001b[0m\u001b[0;34m(\u001b[0m\u001b[0;34m)\u001b[0m\u001b[0;34m\u001b[0m\u001b[0;34m\u001b[0m\u001b[0m\n\u001b[1;32m    757\u001b[0m         \u001b[0;32mreturn\u001b[0m \u001b[0mobj\u001b[0m\u001b[0;34m\u001b[0m\u001b[0;34m\u001b[0m\u001b[0m\n",
            "\u001b[0;32m/usr/local/lib/python3.7/dist-packages/pandas/io/json/_json.py\u001b[0m in \u001b[0;36m_get_object_parser\u001b[0;34m(self, json)\u001b[0m\n\u001b[1;32m    775\u001b[0m         \u001b[0mobj\u001b[0m \u001b[0;34m=\u001b[0m \u001b[0;32mNone\u001b[0m\u001b[0;34m\u001b[0m\u001b[0;34m\u001b[0m\u001b[0m\n\u001b[1;32m    776\u001b[0m         \u001b[0;32mif\u001b[0m \u001b[0mtyp\u001b[0m \u001b[0;34m==\u001b[0m \u001b[0;34m\"frame\"\u001b[0m\u001b[0;34m:\u001b[0m\u001b[0;34m\u001b[0m\u001b[0;34m\u001b[0m\u001b[0m\n\u001b[0;32m--> 777\u001b[0;31m             \u001b[0mobj\u001b[0m \u001b[0;34m=\u001b[0m \u001b[0mFrameParser\u001b[0m\u001b[0;34m(\u001b[0m\u001b[0mjson\u001b[0m\u001b[0;34m,\u001b[0m \u001b[0;34m**\u001b[0m\u001b[0mkwargs\u001b[0m\u001b[0;34m)\u001b[0m\u001b[0;34m.\u001b[0m\u001b[0mparse\u001b[0m\u001b[0;34m(\u001b[0m\u001b[0;34m)\u001b[0m\u001b[0;34m\u001b[0m\u001b[0;34m\u001b[0m\u001b[0m\n\u001b[0m\u001b[1;32m    778\u001b[0m \u001b[0;34m\u001b[0m\u001b[0m\n\u001b[1;32m    779\u001b[0m         \u001b[0;32mif\u001b[0m \u001b[0mtyp\u001b[0m \u001b[0;34m==\u001b[0m \u001b[0;34m\"series\"\u001b[0m \u001b[0;32mor\u001b[0m \u001b[0mobj\u001b[0m \u001b[0;32mis\u001b[0m \u001b[0;32mNone\u001b[0m\u001b[0;34m:\u001b[0m\u001b[0;34m\u001b[0m\u001b[0;34m\u001b[0m\u001b[0m\n",
            "\u001b[0;32m/usr/local/lib/python3.7/dist-packages/pandas/io/json/_json.py\u001b[0m in \u001b[0;36mparse\u001b[0;34m(self)\u001b[0m\n\u001b[1;32m    884\u001b[0m \u001b[0;34m\u001b[0m\u001b[0m\n\u001b[1;32m    885\u001b[0m         \u001b[0;32melse\u001b[0m\u001b[0;34m:\u001b[0m\u001b[0;34m\u001b[0m\u001b[0;34m\u001b[0m\u001b[0m\n\u001b[0;32m--> 886\u001b[0;31m             \u001b[0mself\u001b[0m\u001b[0;34m.\u001b[0m\u001b[0m_parse_no_numpy\u001b[0m\u001b[0;34m(\u001b[0m\u001b[0;34m)\u001b[0m\u001b[0;34m\u001b[0m\u001b[0;34m\u001b[0m\u001b[0m\n\u001b[0m\u001b[1;32m    887\u001b[0m \u001b[0;34m\u001b[0m\u001b[0m\n\u001b[1;32m    888\u001b[0m         \u001b[0;32mif\u001b[0m \u001b[0mself\u001b[0m\u001b[0;34m.\u001b[0m\u001b[0mobj\u001b[0m \u001b[0;32mis\u001b[0m \u001b[0;32mNone\u001b[0m\u001b[0;34m:\u001b[0m\u001b[0;34m\u001b[0m\u001b[0;34m\u001b[0m\u001b[0m\n",
            "\u001b[0;32m/usr/local/lib/python3.7/dist-packages/pandas/io/json/_json.py\u001b[0m in \u001b[0;36m_parse_no_numpy\u001b[0;34m(self)\u001b[0m\n\u001b[1;32m   1117\u001b[0m         \u001b[0;32mif\u001b[0m \u001b[0morient\u001b[0m \u001b[0;34m==\u001b[0m \u001b[0;34m\"columns\"\u001b[0m\u001b[0;34m:\u001b[0m\u001b[0;34m\u001b[0m\u001b[0;34m\u001b[0m\u001b[0m\n\u001b[1;32m   1118\u001b[0m             self.obj = DataFrame(\n\u001b[0;32m-> 1119\u001b[0;31m                 \u001b[0mloads\u001b[0m\u001b[0;34m(\u001b[0m\u001b[0mjson\u001b[0m\u001b[0;34m,\u001b[0m \u001b[0mprecise_float\u001b[0m\u001b[0;34m=\u001b[0m\u001b[0mself\u001b[0m\u001b[0;34m.\u001b[0m\u001b[0mprecise_float\u001b[0m\u001b[0;34m)\u001b[0m\u001b[0;34m,\u001b[0m \u001b[0mdtype\u001b[0m\u001b[0;34m=\u001b[0m\u001b[0;32mNone\u001b[0m\u001b[0;34m\u001b[0m\u001b[0;34m\u001b[0m\u001b[0m\n\u001b[0m\u001b[1;32m   1120\u001b[0m             )\n\u001b[1;32m   1121\u001b[0m         \u001b[0;32melif\u001b[0m \u001b[0morient\u001b[0m \u001b[0;34m==\u001b[0m \u001b[0;34m\"split\"\u001b[0m\u001b[0;34m:\u001b[0m\u001b[0;34m\u001b[0m\u001b[0;34m\u001b[0m\u001b[0m\n",
            "\u001b[0;31mValueError\u001b[0m: Expected object or value"
          ]
        }
      ]
    },
    {
      "cell_type": "code",
      "metadata": {
        "id": "7XQPfEVTYZgG",
        "colab": {
          "base_uri": "https://localhost:8080/"
        },
        "outputId": "7970feaf-61a0-4bc6-c0fd-c7846078b54c"
      },
      "source": [
        "from google.colab import drive\n",
        "drive.mount('/content/drive')"
      ],
      "execution_count": null,
      "outputs": [
        {
          "output_type": "stream",
          "name": "stdout",
          "text": [
            "Mounted at /content/drive\n"
          ]
        }
      ]
    },
    {
      "cell_type": "code",
      "metadata": {
        "colab": {
          "base_uri": "https://localhost:8080/"
        },
        "id": "TOtKF0JfZW6K",
        "outputId": "29c9787d-4f52-4c10-ea04-e89d03e43050"
      },
      "source": [
        "!pip install tensorboard\n",
        "!conda install -c conda-forge tensorboard"
      ],
      "execution_count": null,
      "outputs": [
        {
          "output_type": "stream",
          "name": "stdout",
          "text": [
            "Looking in indexes: https://pypi.org/simple, https://us-python.pkg.dev/colab-wheels/public/simple/\n",
            "Requirement already satisfied: tensorboard in /usr/local/lib/python3.7/dist-packages (2.8.0)\n",
            "Requirement already satisfied: protobuf>=3.6.0 in /usr/local/lib/python3.7/dist-packages (from tensorboard) (3.17.3)\n",
            "Requirement already satisfied: setuptools>=41.0.0 in /usr/local/lib/python3.7/dist-packages (from tensorboard) (57.4.0)\n",
            "Requirement already satisfied: numpy>=1.12.0 in /usr/local/lib/python3.7/dist-packages (from tensorboard) (1.21.6)\n",
            "Requirement already satisfied: tensorboard-data-server<0.7.0,>=0.6.0 in /usr/local/lib/python3.7/dist-packages (from tensorboard) (0.6.1)\n",
            "Requirement already satisfied: wheel>=0.26 in /usr/local/lib/python3.7/dist-packages (from tensorboard) (0.37.1)\n",
            "Requirement already satisfied: requests<3,>=2.21.0 in /usr/local/lib/python3.7/dist-packages (from tensorboard) (2.23.0)\n",
            "Requirement already satisfied: absl-py>=0.4 in /usr/local/lib/python3.7/dist-packages (from tensorboard) (1.2.0)\n",
            "Requirement already satisfied: grpcio>=1.24.3 in /usr/local/lib/python3.7/dist-packages (from tensorboard) (1.48.1)\n",
            "Requirement already satisfied: tensorboard-plugin-wit>=1.6.0 in /usr/local/lib/python3.7/dist-packages (from tensorboard) (1.8.1)\n",
            "Requirement already satisfied: werkzeug>=0.11.15 in /usr/local/lib/python3.7/dist-packages (from tensorboard) (1.0.1)\n",
            "Requirement already satisfied: markdown>=2.6.8 in /usr/local/lib/python3.7/dist-packages (from tensorboard) (3.4.1)\n",
            "Requirement already satisfied: google-auth-oauthlib<0.5,>=0.4.1 in /usr/local/lib/python3.7/dist-packages (from tensorboard) (0.4.6)\n",
            "Requirement already satisfied: google-auth<3,>=1.6.3 in /usr/local/lib/python3.7/dist-packages (from tensorboard) (1.35.0)\n",
            "Requirement already satisfied: cachetools<5.0,>=2.0.0 in /usr/local/lib/python3.7/dist-packages (from google-auth<3,>=1.6.3->tensorboard) (4.2.4)\n",
            "Requirement already satisfied: six>=1.9.0 in /usr/local/lib/python3.7/dist-packages (from google-auth<3,>=1.6.3->tensorboard) (1.15.0)\n",
            "Requirement already satisfied: rsa<5,>=3.1.4 in /usr/local/lib/python3.7/dist-packages (from google-auth<3,>=1.6.3->tensorboard) (4.9)\n",
            "Requirement already satisfied: pyasn1-modules>=0.2.1 in /usr/local/lib/python3.7/dist-packages (from google-auth<3,>=1.6.3->tensorboard) (0.2.8)\n",
            "Requirement already satisfied: requests-oauthlib>=0.7.0 in /usr/local/lib/python3.7/dist-packages (from google-auth-oauthlib<0.5,>=0.4.1->tensorboard) (1.3.1)\n",
            "Requirement already satisfied: importlib-metadata>=4.4 in /usr/local/lib/python3.7/dist-packages (from markdown>=2.6.8->tensorboard) (4.12.0)\n",
            "Requirement already satisfied: typing-extensions>=3.6.4 in /usr/local/lib/python3.7/dist-packages (from importlib-metadata>=4.4->markdown>=2.6.8->tensorboard) (4.1.1)\n",
            "Requirement already satisfied: zipp>=0.5 in /usr/local/lib/python3.7/dist-packages (from importlib-metadata>=4.4->markdown>=2.6.8->tensorboard) (3.8.1)\n",
            "Requirement already satisfied: pyasn1<0.5.0,>=0.4.6 in /usr/local/lib/python3.7/dist-packages (from pyasn1-modules>=0.2.1->google-auth<3,>=1.6.3->tensorboard) (0.4.8)\n",
            "Requirement already satisfied: urllib3!=1.25.0,!=1.25.1,<1.26,>=1.21.1 in /usr/local/lib/python3.7/dist-packages (from requests<3,>=2.21.0->tensorboard) (1.24.3)\n",
            "Requirement already satisfied: idna<3,>=2.5 in /usr/local/lib/python3.7/dist-packages (from requests<3,>=2.21.0->tensorboard) (2.10)\n",
            "Requirement already satisfied: chardet<4,>=3.0.2 in /usr/local/lib/python3.7/dist-packages (from requests<3,>=2.21.0->tensorboard) (3.0.4)\n",
            "Requirement already satisfied: certifi>=2017.4.17 in /usr/local/lib/python3.7/dist-packages (from requests<3,>=2.21.0->tensorboard) (2022.6.15)\n",
            "Requirement already satisfied: oauthlib>=3.0.0 in /usr/local/lib/python3.7/dist-packages (from requests-oauthlib>=0.7.0->google-auth-oauthlib<0.5,>=0.4.1->tensorboard) (3.2.0)\n",
            "/bin/bash: conda: command not found\n"
          ]
        }
      ]
    },
    {
      "cell_type": "code",
      "metadata": {
        "colab": {
          "base_uri": "https://localhost:8080/",
          "height": 269
        },
        "id": "sPSA4unxZlK_",
        "outputId": "2591d838-1c45-4174-e7f5-2570f23583cf"
      },
      "source": [
        "!print(df)\n",
        "column_name = \"blueWins\"\n",
        "column_sum = df[column_name].sum()\n",
        "print(column_sum)\n",
        "#Blue won 49.88987854% of all matches (4930/9880)\n",
        "#Red won 50.01012146% of all matches (4950/9880) (Advantage: Red)"
      ],
      "execution_count": null,
      "outputs": [
        {
          "output_type": "stream",
          "name": "stdout",
          "text": [
            "/bin/bash: -c: line 0: syntax error near unexpected token `df'\n",
            "/bin/bash: -c: line 0: `print(df)'\n"
          ]
        },
        {
          "output_type": "error",
          "ename": "NameError",
          "evalue": "ignored",
          "traceback": [
            "\u001b[0;31m---------------------------------------------------------------------------\u001b[0m",
            "\u001b[0;31mNameError\u001b[0m                                 Traceback (most recent call last)",
            "\u001b[0;32m<ipython-input-8-4b62ffe31f5d>\u001b[0m in \u001b[0;36m<module>\u001b[0;34m\u001b[0m\n\u001b[1;32m      1\u001b[0m \u001b[0mget_ipython\u001b[0m\u001b[0;34m(\u001b[0m\u001b[0;34m)\u001b[0m\u001b[0;34m.\u001b[0m\u001b[0msystem\u001b[0m\u001b[0;34m(\u001b[0m\u001b[0;34m'print(df)'\u001b[0m\u001b[0;34m)\u001b[0m\u001b[0;34m\u001b[0m\u001b[0;34m\u001b[0m\u001b[0m\n\u001b[1;32m      2\u001b[0m \u001b[0mcolumn_name\u001b[0m \u001b[0;34m=\u001b[0m \u001b[0;34m\"blueWins\"\u001b[0m\u001b[0;34m\u001b[0m\u001b[0;34m\u001b[0m\u001b[0m\n\u001b[0;32m----> 3\u001b[0;31m \u001b[0mcolumn_sum\u001b[0m \u001b[0;34m=\u001b[0m \u001b[0mdf\u001b[0m\u001b[0;34m[\u001b[0m\u001b[0mcolumn_name\u001b[0m\u001b[0;34m]\u001b[0m\u001b[0;34m.\u001b[0m\u001b[0msum\u001b[0m\u001b[0;34m(\u001b[0m\u001b[0;34m)\u001b[0m\u001b[0;34m\u001b[0m\u001b[0;34m\u001b[0m\u001b[0m\n\u001b[0m\u001b[1;32m      4\u001b[0m \u001b[0mprint\u001b[0m\u001b[0;34m(\u001b[0m\u001b[0mcolumn_sum\u001b[0m\u001b[0;34m)\u001b[0m\u001b[0;34m\u001b[0m\u001b[0;34m\u001b[0m\u001b[0m\n\u001b[1;32m      5\u001b[0m \u001b[0;31m#Blue won 49.88987854% of all matches (4930/9880)\u001b[0m\u001b[0;34m\u001b[0m\u001b[0;34m\u001b[0m\u001b[0;34m\u001b[0m\u001b[0m\n",
            "\u001b[0;31mNameError\u001b[0m: name 'df' is not defined"
          ]
        }
      ]
    },
    {
      "cell_type": "code",
      "metadata": {
        "colab": {
          "base_uri": "https://localhost:8080/"
        },
        "id": "GXm3M2z4aGmm",
        "outputId": "9d5f71b3-6fb5-4104-9fd6-e33e71c5ea15"
      },
      "source": [
        "print(df)\n",
        "column_name = \"blueWardsPlaced\"\n",
        "column_sum = df[column_name].sum()\n",
        "print(column_sum)\n",
        "print(column_sum/9880)\n",
        "#Blue placed 220186 Wards (first 10 minutes)\n",
        "#Red placed 220973 Wards (first 10 minutes) (Advantage: Red)\n",
        "\n",
        "#Blue placed an average of 22.28603238866397 wards per match (first 10 minutes)\n",
        "#Red placed an average of 22.365688259109312 wards per match (first 10 minutes) (Advantage: Red)"
      ],
      "execution_count": null,
      "outputs": [
        {
          "name": "stdout",
          "output_type": "stream",
          "text": [
            "      blueWins  ...  redTotalJungleMinionsKilled\n",
            "0            0  ...                           55\n",
            "1            0  ...                           52\n",
            "2            0  ...                           28\n",
            "3            0  ...                           47\n",
            "4            0  ...                           67\n",
            "...        ...  ...                          ...\n",
            "9874         1  ...                           34\n",
            "9875         1  ...                           56\n",
            "9876         0  ...                           60\n",
            "9877         0  ...                           40\n",
            "9878         1  ...                           46\n",
            "\n",
            "[9879 rows x 26 columns]\n",
            "220186\n",
            "22.28603238866397\n"
          ]
        }
      ]
    },
    {
      "cell_type": "code",
      "metadata": {
        "colab": {
          "base_uri": "https://localhost:8080/"
        },
        "id": "bnomVqYgaLj-",
        "outputId": "8672a62e-ca42-469a-afb0-6e8e2bc9ffd4"
      },
      "source": [
        "print(df)\n",
        "column_name = \"redWardsPlaced\"\n",
        "column_sum = df[column_name].sum()\n",
        "print(column_sum)\n",
        "print(column_sum/9880)"
      ],
      "execution_count": null,
      "outputs": [
        {
          "name": "stdout",
          "output_type": "stream",
          "text": [
            "      blueWins  ...  redTotalJungleMinionsKilled\n",
            "0            0  ...                           55\n",
            "1            0  ...                           52\n",
            "2            0  ...                           28\n",
            "3            0  ...                           47\n",
            "4            0  ...                           67\n",
            "...        ...  ...                          ...\n",
            "9874         1  ...                           34\n",
            "9875         1  ...                           56\n",
            "9876         0  ...                           60\n",
            "9877         0  ...                           40\n",
            "9878         1  ...                           46\n",
            "\n",
            "[9879 rows x 26 columns]\n",
            "220973\n",
            "22.365688259109312\n"
          ]
        }
      ]
    },
    {
      "cell_type": "code",
      "metadata": {
        "colab": {
          "base_uri": "https://localhost:8080/"
        },
        "id": "AmLRCHvOapI3",
        "outputId": "e2b693a3-7ed7-4350-bd9c-c00e14b5e214"
      },
      "source": [
        "print(df)\n",
        "column_name = \"blueFirstBlood\"\n",
        "column_sum = df[column_name].sum()\n",
        "print(column_sum)\n",
        "#Blue got first blood 4987 times out of the 9880 matches (50.4757085% of matches) \n",
        "#Red got first blood 4893 times out of the 9880 matches (49.5242915% of matches) (Advantage: Blue)"
      ],
      "execution_count": null,
      "outputs": [
        {
          "name": "stdout",
          "output_type": "stream",
          "text": [
            "      blueWins  ...  redTotalJungleMinionsKilled\n",
            "0            0  ...                           55\n",
            "1            0  ...                           52\n",
            "2            0  ...                           28\n",
            "3            0  ...                           47\n",
            "4            0  ...                           67\n",
            "...        ...  ...                          ...\n",
            "9874         1  ...                           34\n",
            "9875         1  ...                           56\n",
            "9876         0  ...                           60\n",
            "9877         0  ...                           40\n",
            "9878         1  ...                           46\n",
            "\n",
            "[9879 rows x 26 columns]\n",
            "4987\n"
          ]
        }
      ]
    },
    {
      "cell_type": "code",
      "metadata": {
        "colab": {
          "base_uri": "https://localhost:8080/"
        },
        "id": "Xk_dHhePbVsM",
        "outputId": "6b2d61d4-42ab-4184-f26e-ac03b5e108fa"
      },
      "source": [
        "print(df)\n",
        "column_name = \"blueKills\"\n",
        "column_sum = df[column_name].sum()\n",
        "print(column_sum)\n",
        "print(column_sum/9880)\n",
        "#Blue got 61091 kills during the course of 9880 matches (first 10 minutes)\n",
        "#Red got 60634 kills (first 10 minutes) (Advantage: Blue)\n",
        "\n",
        "#Blue got an average of 6.1832995951417 kills during the first 10 minutes of a match\n",
        "#Red got an average of 6.137044534412955 kills during the first 10 minutes of a match (Advantage: Blue)"
      ],
      "execution_count": null,
      "outputs": [
        {
          "name": "stdout",
          "output_type": "stream",
          "text": [
            "      blueWins  ...  redTotalJungleMinionsKilled\n",
            "0            0  ...                           55\n",
            "1            0  ...                           52\n",
            "2            0  ...                           28\n",
            "3            0  ...                           47\n",
            "4            0  ...                           67\n",
            "...        ...  ...                          ...\n",
            "9874         1  ...                           34\n",
            "9875         1  ...                           56\n",
            "9876         0  ...                           60\n",
            "9877         0  ...                           40\n",
            "9878         1  ...                           46\n",
            "\n",
            "[9879 rows x 26 columns]\n",
            "61091\n",
            "6.1832995951417\n"
          ]
        }
      ]
    },
    {
      "cell_type": "code",
      "metadata": {
        "colab": {
          "base_uri": "https://localhost:8080/"
        },
        "id": "X_6AC0lMbZls",
        "outputId": "6f8ad61b-e9b6-4b07-f233-9c5124702a05"
      },
      "source": [
        "print(df)\n",
        "column_name = \"redKills\"\n",
        "column_sum = df[column_name].sum()\n",
        "print(column_sum)\n",
        "print(column_sum/9880)"
      ],
      "execution_count": null,
      "outputs": [
        {
          "name": "stdout",
          "output_type": "stream",
          "text": [
            "      blueWins  ...  redTotalJungleMinionsKilled\n",
            "0            0  ...                           55\n",
            "1            0  ...                           52\n",
            "2            0  ...                           28\n",
            "3            0  ...                           47\n",
            "4            0  ...                           67\n",
            "...        ...  ...                          ...\n",
            "9874         1  ...                           34\n",
            "9875         1  ...                           56\n",
            "9876         0  ...                           60\n",
            "9877         0  ...                           40\n",
            "9878         1  ...                           46\n",
            "\n",
            "[9879 rows x 26 columns]\n",
            "60634\n",
            "6.137044534412955\n"
          ]
        }
      ]
    },
    {
      "cell_type": "code",
      "metadata": {
        "colab": {
          "base_uri": "https://localhost:8080/"
        },
        "id": "TCAwbGSCbz4t",
        "outputId": "11efc048-48e7-4ff3-ae8d-54ab64d8613a"
      },
      "source": [
        "print(df)\n",
        "column_name = \"blueAssists\"\n",
        "column_sum = df[column_name].sum()\n",
        "print(column_sum)\n",
        "print(column_sum/9880)\n",
        "#Blue got 65647 assists during the course of 9880 matches\n",
        "#Red got 65815 assists (Advantage: Red)\n",
        "\n",
        "#Blue got an average of 6.6444331983805665 assists during the first 10 minutes of a match\n",
        "#Red got an average of 6.661437246963563 assists during the first 10 minutes of a match (Advantage: Red)"
      ],
      "execution_count": null,
      "outputs": [
        {
          "name": "stdout",
          "output_type": "stream",
          "text": [
            "      blueWins  ...  redTotalJungleMinionsKilled\n",
            "0            0  ...                           55\n",
            "1            0  ...                           52\n",
            "2            0  ...                           28\n",
            "3            0  ...                           47\n",
            "4            0  ...                           67\n",
            "...        ...  ...                          ...\n",
            "9874         1  ...                           34\n",
            "9875         1  ...                           56\n",
            "9876         0  ...                           60\n",
            "9877         0  ...                           40\n",
            "9878         1  ...                           46\n",
            "\n",
            "[9879 rows x 26 columns]\n",
            "65647\n",
            "6.6444331983805665\n"
          ]
        }
      ]
    },
    {
      "cell_type": "code",
      "metadata": {
        "colab": {
          "base_uri": "https://localhost:8080/"
        },
        "id": "Rh7IAcf1b6sQ",
        "outputId": "a620e06d-ab02-4949-c9db-95139d0851a4"
      },
      "source": [
        "print(df)\n",
        "column_name = \"redAssists\"\n",
        "column_sum = df[column_name].sum()\n",
        "print(column_sum)\n",
        "print(column_sum/9880)"
      ],
      "execution_count": null,
      "outputs": [
        {
          "name": "stdout",
          "output_type": "stream",
          "text": [
            "      blueWins  ...  redTotalJungleMinionsKilled\n",
            "0            0  ...                           55\n",
            "1            0  ...                           52\n",
            "2            0  ...                           28\n",
            "3            0  ...                           47\n",
            "4            0  ...                           67\n",
            "...        ...  ...                          ...\n",
            "9874         1  ...                           34\n",
            "9875         1  ...                           56\n",
            "9876         0  ...                           60\n",
            "9877         0  ...                           40\n",
            "9878         1  ...                           46\n",
            "\n",
            "[9879 rows x 26 columns]\n",
            "65815\n",
            "6.661437246963563\n"
          ]
        }
      ]
    },
    {
      "cell_type": "code",
      "metadata": {
        "colab": {
          "base_uri": "https://localhost:8080/"
        },
        "id": "Spo_VUTscFmu",
        "outputId": "4f6e697e-7c58-4aaa-fa2a-dad60a205e70"
      },
      "source": [
        "print(df)\n",
        "column_name = \"blueEliteMonsters\"\n",
        "column_sum = df[column_name].sum()\n",
        "print(column_sum)\n",
        "#Blue: 5433 Elite Monsters (kills) during the course of 9880 matches (first 10 minutes)\n",
        "#Red: 5662 Elite Monsters (first 10 minutes) (Advantage: Red)"
      ],
      "execution_count": null,
      "outputs": [
        {
          "name": "stdout",
          "output_type": "stream",
          "text": [
            "      blueWins  ...  redTotalJungleMinionsKilled\n",
            "0            0  ...                           55\n",
            "1            0  ...                           52\n",
            "2            0  ...                           28\n",
            "3            0  ...                           47\n",
            "4            0  ...                           67\n",
            "...        ...  ...                          ...\n",
            "9874         1  ...                           34\n",
            "9875         1  ...                           56\n",
            "9876         0  ...                           60\n",
            "9877         0  ...                           40\n",
            "9878         1  ...                           46\n",
            "\n",
            "[9879 rows x 26 columns]\n",
            "5433\n"
          ]
        }
      ]
    },
    {
      "cell_type": "code",
      "metadata": {
        "colab": {
          "base_uri": "https://localhost:8080/"
        },
        "id": "kOAMDwLrcLjk",
        "outputId": "79af689a-0073-409f-c6fb-2359686db85a"
      },
      "source": [
        "print(df)\n",
        "column_name = \"redEliteMonsters\"\n",
        "column_sum = df[column_name].sum()\n",
        "print(column_sum)"
      ],
      "execution_count": null,
      "outputs": [
        {
          "name": "stdout",
          "output_type": "stream",
          "text": [
            "      blueWins  ...  redTotalJungleMinionsKilled\n",
            "0            0  ...                           55\n",
            "1            0  ...                           52\n",
            "2            0  ...                           28\n",
            "3            0  ...                           47\n",
            "4            0  ...                           67\n",
            "...        ...  ...                          ...\n",
            "9874         1  ...                           34\n",
            "9875         1  ...                           56\n",
            "9876         0  ...                           60\n",
            "9877         0  ...                           40\n",
            "9878         1  ...                           46\n",
            "\n",
            "[9879 rows x 26 columns]\n",
            "5662\n"
          ]
        }
      ]
    },
    {
      "cell_type": "code",
      "metadata": {
        "colab": {
          "base_uri": "https://localhost:8080/"
        },
        "id": "k46cIz94cZnn",
        "outputId": "a97302f2-e67a-422b-9d0f-562f22b45290"
      },
      "source": [
        "print(df)\n",
        "column_name = \"blueDragons\"\n",
        "column_sum = df[column_name].sum()\n",
        "print(column_sum)\n",
        "#Blue got 3576 dragons (kills) during the course of 9880 matches (first 10 mninutes)\n",
        "#Red got 4081 dragons (Advantage: Red)"
      ],
      "execution_count": null,
      "outputs": [
        {
          "name": "stdout",
          "output_type": "stream",
          "text": [
            "      blueWins  ...  redTotalJungleMinionsKilled\n",
            "0            0  ...                           55\n",
            "1            0  ...                           52\n",
            "2            0  ...                           28\n",
            "3            0  ...                           47\n",
            "4            0  ...                           67\n",
            "...        ...  ...                          ...\n",
            "9874         1  ...                           34\n",
            "9875         1  ...                           56\n",
            "9876         0  ...                           60\n",
            "9877         0  ...                           40\n",
            "9878         1  ...                           46\n",
            "\n",
            "[9879 rows x 26 columns]\n",
            "3576\n"
          ]
        }
      ]
    },
    {
      "cell_type": "code",
      "metadata": {
        "colab": {
          "base_uri": "https://localhost:8080/"
        },
        "id": "hipTnXjfcaHV",
        "outputId": "d1cf3de9-7d12-4c43-f380-59db83812cb3"
      },
      "source": [
        "print(df)\n",
        "column_name = \"redDragons\"\n",
        "column_sum = df[column_name].sum()\n",
        "print(column_sum)"
      ],
      "execution_count": null,
      "outputs": [
        {
          "name": "stdout",
          "output_type": "stream",
          "text": [
            "      blueWins  ...  redTotalJungleMinionsKilled\n",
            "0            0  ...                           55\n",
            "1            0  ...                           52\n",
            "2            0  ...                           28\n",
            "3            0  ...                           47\n",
            "4            0  ...                           67\n",
            "...        ...  ...                          ...\n",
            "9874         1  ...                           34\n",
            "9875         1  ...                           56\n",
            "9876         0  ...                           60\n",
            "9877         0  ...                           40\n",
            "9878         1  ...                           46\n",
            "\n",
            "[9879 rows x 26 columns]\n",
            "4081\n"
          ]
        }
      ]
    },
    {
      "cell_type": "code",
      "metadata": {
        "colab": {
          "base_uri": "https://localhost:8080/"
        },
        "id": "tOJ1r-1vc4Ww",
        "outputId": "8cb9e8a8-2dd5-4a37-e012-c393601c9030"
      },
      "source": [
        "print(df)\n",
        "column_name = \"blueHeralds\"\n",
        "column_sum = df[column_name].sum()\n",
        "print(column_sum)\n",
        "#Blue got 1857 Heralds (kills) during the course of all 9880 matches (first 10 minutes)\n",
        "#Red got 1581 Heralds (kills) during the course of all 9880 matches (Advantage: Blue)"
      ],
      "execution_count": null,
      "outputs": [
        {
          "name": "stdout",
          "output_type": "stream",
          "text": [
            "      blueWins  ...  redTotalJungleMinionsKilled\n",
            "0            0  ...                           55\n",
            "1            0  ...                           52\n",
            "2            0  ...                           28\n",
            "3            0  ...                           47\n",
            "4            0  ...                           67\n",
            "...        ...  ...                          ...\n",
            "9874         1  ...                           34\n",
            "9875         1  ...                           56\n",
            "9876         0  ...                           60\n",
            "9877         0  ...                           40\n",
            "9878         1  ...                           46\n",
            "\n",
            "[9879 rows x 26 columns]\n",
            "1857\n"
          ]
        }
      ]
    },
    {
      "cell_type": "code",
      "metadata": {
        "colab": {
          "base_uri": "https://localhost:8080/"
        },
        "id": "zrp2etFUc5Cs",
        "outputId": "45d5dbf6-b11e-4ff1-b2c3-c2d77b1b0e0f"
      },
      "source": [
        "print(df)\n",
        "column_name = \"redHeralds\"\n",
        "column_sum = df[column_name].sum()\n",
        "print(column_sum)"
      ],
      "execution_count": null,
      "outputs": [
        {
          "name": "stdout",
          "output_type": "stream",
          "text": [
            "      blueWins  ...  redTotalJungleMinionsKilled\n",
            "0            0  ...                           55\n",
            "1            0  ...                           52\n",
            "2            0  ...                           28\n",
            "3            0  ...                           47\n",
            "4            0  ...                           67\n",
            "...        ...  ...                          ...\n",
            "9874         1  ...                           34\n",
            "9875         1  ...                           56\n",
            "9876         0  ...                           60\n",
            "9877         0  ...                           40\n",
            "9878         1  ...                           46\n",
            "\n",
            "[9879 rows x 26 columns]\n",
            "1581\n"
          ]
        }
      ]
    },
    {
      "cell_type": "code",
      "metadata": {
        "colab": {
          "base_uri": "https://localhost:8080/"
        },
        "id": "1apEn8-ndPD2",
        "outputId": "c08f36ac-390c-4ca0-d481-baa8e5bdd505"
      },
      "source": [
        "print(df)\n",
        "column_name = \"blueTowersDestroyed\"\n",
        "column_sum = df[column_name].sum()\n",
        "print(column_sum)\n",
        "#Blue destroyed 508 towers during the course of all 9880 matches (first 10 minutes)\n",
        "#Red destroyed 425 towers (Advantage: Blue)"
      ],
      "execution_count": null,
      "outputs": [
        {
          "name": "stdout",
          "output_type": "stream",
          "text": [
            "      blueWins  ...  redTotalJungleMinionsKilled\n",
            "0            0  ...                           55\n",
            "1            0  ...                           52\n",
            "2            0  ...                           28\n",
            "3            0  ...                           47\n",
            "4            0  ...                           67\n",
            "...        ...  ...                          ...\n",
            "9874         1  ...                           34\n",
            "9875         1  ...                           56\n",
            "9876         0  ...                           60\n",
            "9877         0  ...                           40\n",
            "9878         1  ...                           46\n",
            "\n",
            "[9879 rows x 26 columns]\n",
            "508\n"
          ]
        }
      ]
    },
    {
      "cell_type": "code",
      "metadata": {
        "colab": {
          "base_uri": "https://localhost:8080/"
        },
        "id": "AL2-5QihdPNf",
        "outputId": "3e586eda-2c14-4d1a-dc29-5cfc22887175"
      },
      "source": [
        "print(df)\n",
        "column_name = \"redTowersDestroyed\"\n",
        "column_sum = df[column_name].sum()\n",
        "print(column_sum)"
      ],
      "execution_count": null,
      "outputs": [
        {
          "name": "stdout",
          "output_type": "stream",
          "text": [
            "      blueWins  ...  redTotalJungleMinionsKilled\n",
            "0            0  ...                           55\n",
            "1            0  ...                           52\n",
            "2            0  ...                           28\n",
            "3            0  ...                           47\n",
            "4            0  ...                           67\n",
            "...        ...  ...                          ...\n",
            "9874         1  ...                           34\n",
            "9875         1  ...                           56\n",
            "9876         0  ...                           60\n",
            "9877         0  ...                           40\n",
            "9878         1  ...                           46\n",
            "\n",
            "[9879 rows x 26 columns]\n",
            "425\n"
          ]
        }
      ]
    },
    {
      "cell_type": "code",
      "metadata": {
        "colab": {
          "base_uri": "https://localhost:8080/"
        },
        "id": "NgplPfQVd-zr",
        "outputId": "e0454697-4dfd-4356-866f-83a1567f924a"
      },
      "source": [
        "print(df)\n",
        "column_name = \"blueTotalGold\"\n",
        "column_sum = df[column_name].sum()\n",
        "print(column_sum)\n",
        "print(column_sum/9880)\n",
        "#Blue: 163037637 gold (first 10 minutes)\n",
        "#Red: 162895240 gold (Advantage: Blue)\n",
        "\n",
        "#Blue: Earned an average of 16501.78512145749 gold during the course of the first 10 minutes of all matches\n",
        "#Red: Earned an average of 16487.372469635626 gold during the course of the first 10 minutes of all matches (Advantage: Blue)"
      ],
      "execution_count": null,
      "outputs": [
        {
          "name": "stdout",
          "output_type": "stream",
          "text": [
            "      blueWins  ...  redTotalJungleMinionsKilled\n",
            "0            0  ...                           55\n",
            "1            0  ...                           52\n",
            "2            0  ...                           28\n",
            "3            0  ...                           47\n",
            "4            0  ...                           67\n",
            "...        ...  ...                          ...\n",
            "9874         1  ...                           34\n",
            "9875         1  ...                           56\n",
            "9876         0  ...                           60\n",
            "9877         0  ...                           40\n",
            "9878         1  ...                           46\n",
            "\n",
            "[9879 rows x 26 columns]\n",
            "163037637\n",
            "16501.78512145749\n"
          ]
        }
      ]
    },
    {
      "cell_type": "code",
      "metadata": {
        "colab": {
          "base_uri": "https://localhost:8080/"
        },
        "id": "RuPWISxVd-6X",
        "outputId": "af4e0dd9-fbc8-4fb8-feb2-197f16b46761"
      },
      "source": [
        "print(df)\n",
        "column_name = \"redTotalGold\"\n",
        "column_sum = df[column_name].sum()\n",
        "print(column_sum)\n",
        "print(column_sum/9880)"
      ],
      "execution_count": null,
      "outputs": [
        {
          "name": "stdout",
          "output_type": "stream",
          "text": [
            "      blueWins  ...  redTotalJungleMinionsKilled\n",
            "0            0  ...                           55\n",
            "1            0  ...                           52\n",
            "2            0  ...                           28\n",
            "3            0  ...                           47\n",
            "4            0  ...                           67\n",
            "...        ...  ...                          ...\n",
            "9874         1  ...                           34\n",
            "9875         1  ...                           56\n",
            "9876         0  ...                           60\n",
            "9877         0  ...                           40\n",
            "9878         1  ...                           46\n",
            "\n",
            "[9879 rows x 26 columns]\n",
            "162895240\n",
            "16487.372469635626\n"
          ]
        }
      ]
    },
    {
      "cell_type": "code",
      "metadata": {
        "colab": {
          "base_uri": "https://localhost:8080/"
        },
        "id": "EYL0ACIKeYuA",
        "outputId": "c46676ef-e1fb-4434-c89c-09e415b9a196"
      },
      "source": [
        "print(df)\n",
        "column_name = \"blueAvgLevel\"\n",
        "column_sum = df[column_name].sum()\n",
        "print(column_sum)\n",
        "print(column_sum/9880)\n",
        "#Blue Average Level across all 9880 matches: 6.915303643724696\n",
        "#Red Average Level across all 9880 matches: 6.924615384615384 (Advantage: Red)"
      ],
      "execution_count": null,
      "outputs": [
        {
          "name": "stdout",
          "output_type": "stream",
          "text": [
            "      blueWins  ...  redTotalJungleMinionsKilled\n",
            "0            0  ...                           55\n",
            "1            0  ...                           52\n",
            "2            0  ...                           28\n",
            "3            0  ...                           47\n",
            "4            0  ...                           67\n",
            "...        ...  ...                          ...\n",
            "9874         1  ...                           34\n",
            "9875         1  ...                           56\n",
            "9876         0  ...                           60\n",
            "9877         0  ...                           40\n",
            "9878         1  ...                           46\n",
            "\n",
            "[9879 rows x 26 columns]\n",
            "68323.2\n",
            "6.915303643724696\n"
          ]
        }
      ]
    },
    {
      "cell_type": "code",
      "metadata": {
        "colab": {
          "base_uri": "https://localhost:8080/"
        },
        "id": "aYAYCqOfeY25",
        "outputId": "47e93d17-dc94-417c-8c0b-c20f94a9bb5e"
      },
      "source": [
        "print(df)\n",
        "column_name = \"redAvgLevel\"\n",
        "column_sum = df[column_name].sum()\n",
        "print(column_sum)\n",
        "print(column_sum/9880)"
      ],
      "execution_count": null,
      "outputs": [
        {
          "name": "stdout",
          "output_type": "stream",
          "text": [
            "      blueWins  ...  redTotalJungleMinionsKilled\n",
            "0            0  ...                           55\n",
            "1            0  ...                           52\n",
            "2            0  ...                           28\n",
            "3            0  ...                           47\n",
            "4            0  ...                           67\n",
            "...        ...  ...                          ...\n",
            "9874         1  ...                           34\n",
            "9875         1  ...                           56\n",
            "9876         0  ...                           60\n",
            "9877         0  ...                           40\n",
            "9878         1  ...                           46\n",
            "\n",
            "[9879 rows x 26 columns]\n",
            "68415.2\n",
            "6.924615384615384\n"
          ]
        }
      ]
    },
    {
      "cell_type": "code",
      "metadata": {
        "colab": {
          "base_uri": "https://localhost:8080/"
        },
        "id": "K3q0GdsLglQE",
        "outputId": "90593990-9fbb-41fc-b56a-f6475316ea74"
      },
      "source": [
        "print(df)\n",
        "column_name = \"blueTotalExperience\"\n",
        "column_sum = df[column_name].sum()\n",
        "print(column_sum)\n",
        "print(column_sum/9880)\n",
        "#Blue: Total Experience of 177111800 during the course of the first 10 minutes of all matches\n",
        "#Red: Total Experience of 177443935 during the course of the first 10 minutes of all matches (Advantage: Red)\n",
        "\n",
        "#Blue: An average of 17926.295546558704 experience for the first 10 minutes of all matches\n",
        "#Red: An average of 17959.912449392712 experience for the first 10 minutes of all matches (Advantage: Red)"
      ],
      "execution_count": null,
      "outputs": [
        {
          "name": "stdout",
          "output_type": "stream",
          "text": [
            "      blueWins  ...  redTotalJungleMinionsKilled\n",
            "0            0  ...                           55\n",
            "1            0  ...                           52\n",
            "2            0  ...                           28\n",
            "3            0  ...                           47\n",
            "4            0  ...                           67\n",
            "...        ...  ...                          ...\n",
            "9874         1  ...                           34\n",
            "9875         1  ...                           56\n",
            "9876         0  ...                           60\n",
            "9877         0  ...                           40\n",
            "9878         1  ...                           46\n",
            "\n",
            "[9879 rows x 26 columns]\n",
            "177111800\n",
            "17926.295546558704\n"
          ]
        }
      ]
    },
    {
      "cell_type": "code",
      "metadata": {
        "colab": {
          "base_uri": "https://localhost:8080/"
        },
        "id": "xJ2fH0wsgleU",
        "outputId": "dbde8c41-fa52-4617-a2e4-51f5bc22606f"
      },
      "source": [
        "print(df)\n",
        "column_name = \"redTotalExperience\"\n",
        "column_sum = df[column_name].sum()\n",
        "print(column_sum)\n",
        "print(column_sum/9880)"
      ],
      "execution_count": null,
      "outputs": [
        {
          "name": "stdout",
          "output_type": "stream",
          "text": [
            "      blueWins  ...  redTotalJungleMinionsKilled\n",
            "0            0  ...                           55\n",
            "1            0  ...                           52\n",
            "2            0  ...                           28\n",
            "3            0  ...                           47\n",
            "4            0  ...                           67\n",
            "...        ...  ...                          ...\n",
            "9874         1  ...                           34\n",
            "9875         1  ...                           56\n",
            "9876         0  ...                           60\n",
            "9877         0  ...                           40\n",
            "9878         1  ...                           46\n",
            "\n",
            "[9879 rows x 26 columns]\n",
            "177443935\n",
            "17959.912449392712\n"
          ]
        }
      ]
    },
    {
      "cell_type": "code",
      "metadata": {
        "colab": {
          "base_uri": "https://localhost:8080/"
        },
        "id": "b64WGI04j9mi",
        "outputId": "b19c02f1-98b7-484f-8bef-12ced96f4b24"
      },
      "source": [
        "print(df)\n",
        "column_name = \"blueTotalMinionsKilled\"\n",
        "column_sum = df[column_name].sum()\n",
        "print(column_sum)\n",
        "print(column_sum/9880)\n",
        "#Blue killed a total of 2140775 minions for the first 10 minutes across all matches\n",
        "#Red killed a total of 2147193 minions for the first 10 minutes across all matches (Advantage: Red)\n",
        "\n",
        "#Blue killed 216.67763157894737 minions on average during the first 10 minutes of all matches\n",
        "#Red killed 217.3272267206478 minions on average during the first 10 minutes of all matches (Advantage: Red)"
      ],
      "execution_count": null,
      "outputs": [
        {
          "name": "stdout",
          "output_type": "stream",
          "text": [
            "      blueWins  ...  redTotalJungleMinionsKilled\n",
            "0            0  ...                           55\n",
            "1            0  ...                           52\n",
            "2            0  ...                           28\n",
            "3            0  ...                           47\n",
            "4            0  ...                           67\n",
            "...        ...  ...                          ...\n",
            "9874         1  ...                           34\n",
            "9875         1  ...                           56\n",
            "9876         0  ...                           60\n",
            "9877         0  ...                           40\n",
            "9878         1  ...                           46\n",
            "\n",
            "[9879 rows x 26 columns]\n",
            "2140775\n",
            "216.67763157894737\n"
          ]
        }
      ]
    },
    {
      "cell_type": "code",
      "metadata": {
        "colab": {
          "base_uri": "https://localhost:8080/"
        },
        "id": "rHVRwuKWj9rH",
        "outputId": "fd36e848-a730-4887-d1f5-76b60ab0bf90"
      },
      "source": [
        "print(df)\n",
        "column_name = \"redTotalMinionsKilled\"\n",
        "column_sum = df[column_name].sum()\n",
        "print(column_sum)\n",
        "print(column_sum/9880)"
      ],
      "execution_count": null,
      "outputs": [
        {
          "name": "stdout",
          "output_type": "stream",
          "text": [
            "      blueWins  ...  redTotalJungleMinionsKilled\n",
            "0            0  ...                           55\n",
            "1            0  ...                           52\n",
            "2            0  ...                           28\n",
            "3            0  ...                           47\n",
            "4            0  ...                           67\n",
            "...        ...  ...                          ...\n",
            "9874         1  ...                           34\n",
            "9875         1  ...                           56\n",
            "9876         0  ...                           60\n",
            "9877         0  ...                           40\n",
            "9878         1  ...                           46\n",
            "\n",
            "[9879 rows x 26 columns]\n",
            "2147193\n",
            "217.3272267206478\n"
          ]
        }
      ]
    },
    {
      "cell_type": "code",
      "metadata": {
        "colab": {
          "base_uri": "https://localhost:8080/"
        },
        "id": "q3Xs6FiClbdu",
        "outputId": "7a8d1998-074b-479d-a6a1-d7d3c92bc0a8"
      },
      "source": [
        "print(df)\n",
        "column_name = \"blueTotalJungleMinionsKilled\"\n",
        "column_sum = df[column_name].sum()\n",
        "print(column_sum)\n",
        "print(column_sum/9880)\n",
        "#Blue: Killed a total of 498985 jungle minions in the first 10 minutes across all matches\n",
        "#Red: Killed a total of 506922 jungle minions in the first 10 minutes across all matches (Advantage: Red)\n",
        "\n",
        "#Blue: Killed an average of 50.50455465587044 jungle minions in the first 10 minutes across all matches\n",
        "#Red: Killed an average of 51.30789473684211 jungle minions in the first 10 minutes across all matches (Advantage: Red)\n",
        "\n",
        "#Total Advantage:\n",
        "#Red: 9\n",
        "#Blue: 5"
      ],
      "execution_count": null,
      "outputs": [
        {
          "name": "stdout",
          "output_type": "stream",
          "text": [
            "      blueWins  ...  redTotalJungleMinionsKilled\n",
            "0            0  ...                           55\n",
            "1            0  ...                           52\n",
            "2            0  ...                           28\n",
            "3            0  ...                           47\n",
            "4            0  ...                           67\n",
            "...        ...  ...                          ...\n",
            "9874         1  ...                           34\n",
            "9875         1  ...                           56\n",
            "9876         0  ...                           60\n",
            "9877         0  ...                           40\n",
            "9878         1  ...                           46\n",
            "\n",
            "[9879 rows x 26 columns]\n",
            "498985\n",
            "50.50455465587044\n"
          ]
        }
      ]
    },
    {
      "cell_type": "code",
      "metadata": {
        "colab": {
          "base_uri": "https://localhost:8080/"
        },
        "id": "-RzZEY1Ilipc",
        "outputId": "d06be30c-89af-4b98-f846-8dd6bec01d90"
      },
      "source": [
        "print(df)\n",
        "column_name = \"redTotalJungleMinionsKilled\"\n",
        "column_sum = df[column_name].sum()\n",
        "print(column_sum)\n",
        "print(column_sum/9880)"
      ],
      "execution_count": null,
      "outputs": [
        {
          "name": "stdout",
          "output_type": "stream",
          "text": [
            "      blueWins  ...  redTotalJungleMinionsKilled\n",
            "0            0  ...                           55\n",
            "1            0  ...                           52\n",
            "2            0  ...                           28\n",
            "3            0  ...                           47\n",
            "4            0  ...                           67\n",
            "...        ...  ...                          ...\n",
            "9874         1  ...                           34\n",
            "9875         1  ...                           56\n",
            "9876         0  ...                           60\n",
            "9877         0  ...                           40\n",
            "9878         1  ...                           46\n",
            "\n",
            "[9879 rows x 26 columns]\n",
            "506922\n",
            "51.30789473684211\n"
          ]
        }
      ]
    },
    {
      "cell_type": "markdown",
      "metadata": {
        "id": "LliSXEtBhOno"
      },
      "source": [
        "Decision Tree"
      ]
    },
    {
      "cell_type": "code",
      "metadata": {
        "id": "VU7PfiqXLMaQ",
        "colab": {
          "base_uri": "https://localhost:8080/"
        },
        "outputId": "2a4ff5cb-60c6-4fc9-c377-faf3446e1597"
      },
      "source": [
        "import os\n",
        "import pandas as pd\n",
        "import numpy as np\n",
        "%matplotlib inline\n",
        "import matplotlib.pyplot as plt\n",
        "from matplotlib import style\n",
        "import seaborn as sns\n",
        "from google.colab import drive\n",
        "drive.mount('/content/gdrive')"
      ],
      "execution_count": null,
      "outputs": [
        {
          "output_type": "stream",
          "name": "stdout",
          "text": [
            "Mounted at /content/gdrive\n"
          ]
        }
      ]
    },
    {
      "cell_type": "code",
      "metadata": {
        "colab": {
          "base_uri": "https://localhost:8080/"
        },
        "id": "ZRGLtN5AcLVy",
        "outputId": "812de967-e32b-430a-f603-6b8814225256"
      },
      "source": [
        "os.chdir('/content/gdrive/MyDrive/MA440')\n",
        "!pwd\n",
        "!ls\n",
        "from sklearn.tree import DecisionTreeClassifier\n",
        "\n",
        "df = pd.read_csv('/content/gdrive/MyDrive/MA440/LoL First 10 Minutes #1.csv')\n",
        "print(df)"
      ],
      "execution_count": null,
      "outputs": [
        {
          "output_type": "stream",
          "name": "stdout",
          "text": [
            "/content/gdrive/MyDrive/MA440\n",
            " Cereals.csv\t\t        polynomial.csv\n",
            " images\t\t\t       'Python Machine Learning Source Code'\n",
            " knn.csv\t\t        sonar_test.csv\n",
            "'LoL First 10 Minutes #1.csv'   sonar_train.csv\n",
            " Matchdatachallenger1.csv       svm.csv\n",
            " myfirstdata.csv\t        twomillion.csv\n",
            " my_small_df.csv\n",
            "      blueWins  ...  redTotalJungleMinionsKilled\n",
            "0            0  ...                           55\n",
            "1            0  ...                           52\n",
            "2            0  ...                           28\n",
            "3            0  ...                           47\n",
            "4            0  ...                           67\n",
            "...        ...  ...                          ...\n",
            "9874         1  ...                           34\n",
            "9875         1  ...                           56\n",
            "9876         0  ...                           60\n",
            "9877         0  ...                           40\n",
            "9878         1  ...                           46\n",
            "\n",
            "[9879 rows x 26 columns]\n"
          ]
        }
      ]
    },
    {
      "cell_type": "code",
      "metadata": {
        "colab": {
          "base_uri": "https://localhost:8080/",
          "height": 235
        },
        "id": "pyq-kgmKcfjg",
        "outputId": "25c37659-f711-4696-a911-c303be4e2fb0"
      },
      "source": [
        "column_name = \"blueWins\"\n",
        "y = df[column_name]\n",
        "x = df.drop(column_name, axis=1).copy()\n",
        "\n",
        "tree_clf = DecisionTreeClassifier(max_depth=5, random_state=42)\n",
        "tree_clf.fit(x, y)\n",
        "\n",
        "tree_clf.predict(x.iloc[2:90])\n",
        "\n",
        "print(tree_clf.feature_importances_)"
      ],
      "execution_count": null,
      "outputs": [
        {
          "output_type": "error",
          "ename": "NameError",
          "evalue": "ignored",
          "traceback": [
            "\u001b[0;31m---------------------------------------------------------------------------\u001b[0m",
            "\u001b[0;31mNameError\u001b[0m                                 Traceback (most recent call last)",
            "\u001b[0;32m<ipython-input-20-dd72b06ddf3d>\u001b[0m in \u001b[0;36m<module>\u001b[0;34m()\u001b[0m\n\u001b[1;32m      3\u001b[0m \u001b[0mx\u001b[0m \u001b[0;34m=\u001b[0m \u001b[0mdf\u001b[0m\u001b[0;34m.\u001b[0m\u001b[0mdrop\u001b[0m\u001b[0;34m(\u001b[0m\u001b[0mcolumn_name\u001b[0m\u001b[0;34m,\u001b[0m \u001b[0maxis\u001b[0m\u001b[0;34m=\u001b[0m\u001b[0;36m1\u001b[0m\u001b[0;34m)\u001b[0m\u001b[0;34m.\u001b[0m\u001b[0mcopy\u001b[0m\u001b[0;34m(\u001b[0m\u001b[0;34m)\u001b[0m\u001b[0;34m\u001b[0m\u001b[0;34m\u001b[0m\u001b[0m\n\u001b[1;32m      4\u001b[0m \u001b[0;34m\u001b[0m\u001b[0m\n\u001b[0;32m----> 5\u001b[0;31m \u001b[0mtree_clf\u001b[0m \u001b[0;34m=\u001b[0m \u001b[0mDecisionTreeClassifier\u001b[0m\u001b[0;34m(\u001b[0m\u001b[0mmax_depth\u001b[0m\u001b[0;34m=\u001b[0m\u001b[0;36m5\u001b[0m\u001b[0;34m,\u001b[0m \u001b[0mrandom_state\u001b[0m\u001b[0;34m=\u001b[0m\u001b[0;36m42\u001b[0m\u001b[0;34m)\u001b[0m\u001b[0;34m\u001b[0m\u001b[0;34m\u001b[0m\u001b[0m\n\u001b[0m\u001b[1;32m      6\u001b[0m \u001b[0mtree_clf\u001b[0m\u001b[0;34m.\u001b[0m\u001b[0mfit\u001b[0m\u001b[0;34m(\u001b[0m\u001b[0mx\u001b[0m\u001b[0;34m,\u001b[0m \u001b[0my\u001b[0m\u001b[0;34m)\u001b[0m\u001b[0;34m\u001b[0m\u001b[0;34m\u001b[0m\u001b[0m\n\u001b[1;32m      7\u001b[0m \u001b[0;34m\u001b[0m\u001b[0m\n",
            "\u001b[0;31mNameError\u001b[0m: name 'DecisionTreeClassifier' is not defined"
          ]
        }
      ]
    },
    {
      "cell_type": "code",
      "metadata": {
        "id": "ZDxXIsMkcm1Y"
      },
      "source": [
        "# To plot pretty figures\n",
        "%matplotlib inline\n",
        "import matplotlib as mpl\n",
        "import matplotlib.pyplot as plt\n",
        "mpl.rc('axes', labelsize=14)\n",
        "mpl.rc('xtick', labelsize=12)\n",
        "mpl.rc('ytick', labelsize=12)\n",
        " \n",
        "# Where to save the figures\n",
        "PROJECT_ROOT_DIR = \".\"\n",
        "CHAPTER_ID = \"decision_trees\"\n",
        "IMAGES_PATH = os.path.join(PROJECT_ROOT_DIR, \"images\", CHAPTER_ID)\n",
        "os.makedirs(IMAGES_PATH, exist_ok=True)\n",
        " \n",
        "def save_fig(fig_id, tight_layout=True, fig_extension=\"png\", resolution=300):\n",
        "    path = os.path.join(IMAGES_PATH, fig_id + \".\" + fig_extension)\n",
        "    print(\"Saving figure\", fig_id)\n",
        "    if tight_layout:\n",
        "        plt.tight_layout()\n",
        "    plt.savefig(path, format=fig_extension, dpi=resolution)"
      ],
      "execution_count": null,
      "outputs": []
    },
    {
      "cell_type": "code",
      "metadata": {
        "colab": {
          "base_uri": "https://localhost:8080/",
          "height": 816
        },
        "id": "wptFNqyicto7",
        "outputId": "358a0a69-0dbe-4a9b-9e47-c37b6d7427b8"
      },
      "source": [
        "import graphviz\n",
        "from graphviz import Source\n",
        "from sklearn.tree import export_graphviz\n",
        " \n",
        "export_graphviz(tree_clf,\n",
        "        out_file=os.path.join(IMAGES_PATH, \"blueWins.dot\"),\n",
        "        feature_names=x.columns,\n",
        "        \n",
        "        rounded=True,\n",
        "        filled=True )\n",
        " \n",
        "Source.from_file(os.path.join(IMAGES_PATH, \"blueWins.dot\"))"
      ],
      "execution_count": null,
      "outputs": [
        {
          "output_type": "execute_result",
          "data": {
            "text/plain": [
              "<graphviz.files.Source at 0x7fca46cfd590>"
            ],
            "image/svg+xml": "<?xml version=\"1.0\" encoding=\"UTF-8\" standalone=\"no\"?>\n<!DOCTYPE svg PUBLIC \"-//W3C//DTD SVG 1.1//EN\"\n \"http://www.w3.org/Graphics/SVG/1.1/DTD/svg11.dtd\">\n<!-- Generated by graphviz version 2.40.1 (20161225.0304)\n -->\n<!-- Title: Tree Pages: 1 -->\n<svg width=\"4474pt\" height=\"581pt\"\n viewBox=\"0.00 0.00 4473.50 581.00\" xmlns=\"http://www.w3.org/2000/svg\" xmlns:xlink=\"http://www.w3.org/1999/xlink\">\n<g id=\"graph0\" class=\"graph\" transform=\"scale(1 1) rotate(0) translate(4 577)\">\n<title>Tree</title>\n<polygon fill=\"#ffffff\" stroke=\"transparent\" points=\"-4,4 -4,-577 4469.5,-577 4469.5,4 -4,4\"/>\n<!-- 0 -->\n<g id=\"node1\" class=\"node\">\n<title>0</title>\n<path fill=\"#fffffe\" stroke=\"#000000\" d=\"M2461,-573C2461,-573 2302,-573 2302,-573 2296,-573 2290,-567 2290,-561 2290,-561 2290,-517 2290,-517 2290,-511 2296,-505 2302,-505 2302,-505 2461,-505 2461,-505 2467,-505 2473,-511 2473,-517 2473,-517 2473,-561 2473,-561 2473,-567 2467,-573 2461,-573\"/>\n<text text-anchor=\"middle\" x=\"2381.5\" y=\"-557.8\" font-family=\"Helvetica,sans-Serif\" font-size=\"14.00\" fill=\"#000000\">blueTotalGold &lt;= 16270.5</text>\n<text text-anchor=\"middle\" x=\"2381.5\" y=\"-542.8\" font-family=\"Helvetica,sans-Serif\" font-size=\"14.00\" fill=\"#000000\">gini = 0.5</text>\n<text text-anchor=\"middle\" x=\"2381.5\" y=\"-527.8\" font-family=\"Helvetica,sans-Serif\" font-size=\"14.00\" fill=\"#000000\">samples = 9879</text>\n<text text-anchor=\"middle\" x=\"2381.5\" y=\"-512.8\" font-family=\"Helvetica,sans-Serif\" font-size=\"14.00\" fill=\"#000000\">value = [4949, 4930]</text>\n</g>\n<!-- 1 -->\n<g id=\"node2\" class=\"node\">\n<title>1</title>\n<path fill=\"#f0b890\" stroke=\"#000000\" d=\"M1735.5,-469C1735.5,-469 1583.5,-469 1583.5,-469 1577.5,-469 1571.5,-463 1571.5,-457 1571.5,-457 1571.5,-413 1571.5,-413 1571.5,-407 1577.5,-401 1583.5,-401 1583.5,-401 1735.5,-401 1735.5,-401 1741.5,-401 1747.5,-407 1747.5,-413 1747.5,-413 1747.5,-457 1747.5,-457 1747.5,-463 1741.5,-469 1735.5,-469\"/>\n<text text-anchor=\"middle\" x=\"1659.5\" y=\"-453.8\" font-family=\"Helvetica,sans-Serif\" font-size=\"14.00\" fill=\"#000000\">redTotalGold &lt;= 16233.5</text>\n<text text-anchor=\"middle\" x=\"1659.5\" y=\"-438.8\" font-family=\"Helvetica,sans-Serif\" font-size=\"14.00\" fill=\"#000000\">gini = 0.424</text>\n<text text-anchor=\"middle\" x=\"1659.5\" y=\"-423.8\" font-family=\"Helvetica,sans-Serif\" font-size=\"14.00\" fill=\"#000000\">samples = 4612</text>\n<text text-anchor=\"middle\" x=\"1659.5\" y=\"-408.8\" font-family=\"Helvetica,sans-Serif\" font-size=\"14.00\" fill=\"#000000\">value = [3205, 1407]</text>\n</g>\n<!-- 0&#45;&gt;1 -->\n<g id=\"edge1\" class=\"edge\">\n<title>0&#45;&gt;1</title>\n<path fill=\"none\" stroke=\"#000000\" d=\"M2289.6918,-525.7756C2153.2422,-506.1208 1898.0033,-469.355 1757.8603,-449.1682\"/>\n<polygon fill=\"#000000\" stroke=\"#000000\" points=\"1757.9559,-445.646 1747.559,-447.6844 1756.9578,-452.5745 1757.9559,-445.646\"/>\n<text text-anchor=\"middle\" x=\"1762.5357\" y=\"-464.0018\" font-family=\"Helvetica,sans-Serif\" font-size=\"14.00\" fill=\"#000000\">True</text>\n</g>\n<!-- 32 -->\n<g id=\"node33\" class=\"node\">\n<title>32</title>\n<path fill=\"#9bcef2\" stroke=\"#000000\" d=\"M2789.5,-469C2789.5,-469 2637.5,-469 2637.5,-469 2631.5,-469 2625.5,-463 2625.5,-457 2625.5,-457 2625.5,-413 2625.5,-413 2625.5,-407 2631.5,-401 2637.5,-401 2637.5,-401 2789.5,-401 2789.5,-401 2795.5,-401 2801.5,-407 2801.5,-413 2801.5,-413 2801.5,-457 2801.5,-457 2801.5,-463 2795.5,-469 2789.5,-469\"/>\n<text text-anchor=\"middle\" x=\"2713.5\" y=\"-453.8\" font-family=\"Helvetica,sans-Serif\" font-size=\"14.00\" fill=\"#000000\">redTotalGold &lt;= 15959.5</text>\n<text text-anchor=\"middle\" x=\"2713.5\" y=\"-438.8\" font-family=\"Helvetica,sans-Serif\" font-size=\"14.00\" fill=\"#000000\">gini = 0.443</text>\n<text text-anchor=\"middle\" x=\"2713.5\" y=\"-423.8\" font-family=\"Helvetica,sans-Serif\" font-size=\"14.00\" fill=\"#000000\">samples = 5267</text>\n<text text-anchor=\"middle\" x=\"2713.5\" y=\"-408.8\" font-family=\"Helvetica,sans-Serif\" font-size=\"14.00\" fill=\"#000000\">value = [1744, 3523]</text>\n</g>\n<!-- 0&#45;&gt;32 -->\n<g id=\"edge32\" class=\"edge\">\n<title>0&#45;&gt;32</title>\n<path fill=\"none\" stroke=\"#000000\" d=\"M2473.0993,-510.3062C2517.3556,-496.4428 2570.5076,-479.7928 2615.5669,-465.6778\"/>\n<polygon fill=\"#000000\" stroke=\"#000000\" points=\"2616.8517,-468.9432 2625.3482,-462.6138 2614.7591,-462.2632 2616.8517,-468.9432\"/>\n<text text-anchor=\"middle\" x=\"2613.7632\" y=\"-481.0676\" font-family=\"Helvetica,sans-Serif\" font-size=\"14.00\" fill=\"#000000\">False</text>\n</g>\n<!-- 2 -->\n<g id=\"node3\" class=\"node\">\n<title>2</title>\n<path fill=\"#fefaf7\" stroke=\"#000000\" d=\"M898.5,-365C898.5,-365 778.5,-365 778.5,-365 772.5,-365 766.5,-359 766.5,-353 766.5,-353 766.5,-309 766.5,-309 766.5,-303 772.5,-297 778.5,-297 778.5,-297 898.5,-297 898.5,-297 904.5,-297 910.5,-303 910.5,-309 910.5,-309 910.5,-353 910.5,-353 910.5,-359 904.5,-365 898.5,-365\"/>\n<text text-anchor=\"middle\" x=\"838.5\" y=\"-349.8\" font-family=\"Helvetica,sans-Serif\" font-size=\"14.00\" fill=\"#000000\">blueDragons &lt;= 0.5</text>\n<text text-anchor=\"middle\" x=\"838.5\" y=\"-334.8\" font-family=\"Helvetica,sans-Serif\" font-size=\"14.00\" fill=\"#000000\">gini = 0.5</text>\n<text text-anchor=\"middle\" x=\"838.5\" y=\"-319.8\" font-family=\"Helvetica,sans-Serif\" font-size=\"14.00\" fill=\"#000000\">samples = 1628</text>\n<text text-anchor=\"middle\" x=\"838.5\" y=\"-304.8\" font-family=\"Helvetica,sans-Serif\" font-size=\"14.00\" fill=\"#000000\">value = [831, 797]</text>\n</g>\n<!-- 1&#45;&gt;2 -->\n<g id=\"edge2\" class=\"edge\">\n<title>1&#45;&gt;2</title>\n<path fill=\"none\" stroke=\"#000000\" d=\"M1571.2489,-423.8208C1411.3771,-403.5691 1076.0486,-361.0914 920.7146,-341.4145\"/>\n<polygon fill=\"#000000\" stroke=\"#000000\" points=\"921.1077,-337.9364 910.7471,-340.1519 920.2279,-344.8809 921.1077,-337.9364\"/>\n</g>\n<!-- 17 -->\n<g id=\"node18\" class=\"node\">\n<title>17</title>\n<path fill=\"#eca16c\" stroke=\"#000000\" d=\"M1735.5,-365C1735.5,-365 1583.5,-365 1583.5,-365 1577.5,-365 1571.5,-359 1571.5,-353 1571.5,-353 1571.5,-309 1571.5,-309 1571.5,-303 1577.5,-297 1583.5,-297 1583.5,-297 1735.5,-297 1735.5,-297 1741.5,-297 1747.5,-303 1747.5,-309 1747.5,-309 1747.5,-353 1747.5,-353 1747.5,-359 1741.5,-365 1735.5,-365\"/>\n<text text-anchor=\"middle\" x=\"1659.5\" y=\"-349.8\" font-family=\"Helvetica,sans-Serif\" font-size=\"14.00\" fill=\"#000000\">redTotalGold &lt;= 17892.5</text>\n<text text-anchor=\"middle\" x=\"1659.5\" y=\"-334.8\" font-family=\"Helvetica,sans-Serif\" font-size=\"14.00\" fill=\"#000000\">gini = 0.325</text>\n<text text-anchor=\"middle\" x=\"1659.5\" y=\"-319.8\" font-family=\"Helvetica,sans-Serif\" font-size=\"14.00\" fill=\"#000000\">samples = 2984</text>\n<text text-anchor=\"middle\" x=\"1659.5\" y=\"-304.8\" font-family=\"Helvetica,sans-Serif\" font-size=\"14.00\" fill=\"#000000\">value = [2374, 610]</text>\n</g>\n<!-- 1&#45;&gt;17 -->\n<g id=\"edge17\" class=\"edge\">\n<title>1&#45;&gt;17</title>\n<path fill=\"none\" stroke=\"#000000\" d=\"M1659.5,-400.9465C1659.5,-392.776 1659.5,-383.9318 1659.5,-375.3697\"/>\n<polygon fill=\"#000000\" stroke=\"#000000\" points=\"1663.0001,-375.13 1659.5,-365.13 1656.0001,-375.13 1663.0001,-375.13\"/>\n</g>\n<!-- 3 -->\n<g id=\"node4\" class=\"node\">\n<title>3</title>\n<path fill=\"#f8dbc6\" stroke=\"#000000\" d=\"M512,-261C512,-261 353,-261 353,-261 347,-261 341,-255 341,-249 341,-249 341,-205 341,-205 341,-199 347,-193 353,-193 353,-193 512,-193 512,-193 518,-193 524,-199 524,-205 524,-205 524,-249 524,-249 524,-255 518,-261 512,-261\"/>\n<text text-anchor=\"middle\" x=\"432.5\" y=\"-245.8\" font-family=\"Helvetica,sans-Serif\" font-size=\"14.00\" fill=\"#000000\">blueTotalGold &lt;= 15146.0</text>\n<text text-anchor=\"middle\" x=\"432.5\" y=\"-230.8\" font-family=\"Helvetica,sans-Serif\" font-size=\"14.00\" fill=\"#000000\">gini = 0.486</text>\n<text text-anchor=\"middle\" x=\"432.5\" y=\"-215.8\" font-family=\"Helvetica,sans-Serif\" font-size=\"14.00\" fill=\"#000000\">samples = 1019</text>\n<text text-anchor=\"middle\" x=\"432.5\" y=\"-200.8\" font-family=\"Helvetica,sans-Serif\" font-size=\"14.00\" fill=\"#000000\">value = [595, 424]</text>\n</g>\n<!-- 2&#45;&gt;3 -->\n<g id=\"edge3\" class=\"edge\">\n<title>2&#45;&gt;3</title>\n<path fill=\"none\" stroke=\"#000000\" d=\"M766.3832,-312.5267C701.8555,-295.9975 606.57,-271.5894 534.2895,-253.0742\"/>\n<polygon fill=\"#000000\" stroke=\"#000000\" points=\"534.8045,-249.5931 524.2487,-250.5021 533.0674,-256.3742 534.8045,-249.5931\"/>\n</g>\n<!-- 10 -->\n<g id=\"node11\" class=\"node\">\n<title>10</title>\n<path fill=\"#b6dbf5\" stroke=\"#000000\" d=\"M914.5,-261C914.5,-261 762.5,-261 762.5,-261 756.5,-261 750.5,-255 750.5,-249 750.5,-249 750.5,-205 750.5,-205 750.5,-199 756.5,-193 762.5,-193 762.5,-193 914.5,-193 914.5,-193 920.5,-193 926.5,-199 926.5,-205 926.5,-205 926.5,-249 926.5,-249 926.5,-255 920.5,-261 914.5,-261\"/>\n<text text-anchor=\"middle\" x=\"838.5\" y=\"-245.8\" font-family=\"Helvetica,sans-Serif\" font-size=\"14.00\" fill=\"#000000\">redTotalGold &lt;= 15762.0</text>\n<text text-anchor=\"middle\" x=\"838.5\" y=\"-230.8\" font-family=\"Helvetica,sans-Serif\" font-size=\"14.00\" fill=\"#000000\">gini = 0.475</text>\n<text text-anchor=\"middle\" x=\"838.5\" y=\"-215.8\" font-family=\"Helvetica,sans-Serif\" font-size=\"14.00\" fill=\"#000000\">samples = 609</text>\n<text text-anchor=\"middle\" x=\"838.5\" y=\"-200.8\" font-family=\"Helvetica,sans-Serif\" font-size=\"14.00\" fill=\"#000000\">value = [236, 373]</text>\n</g>\n<!-- 2&#45;&gt;10 -->\n<g id=\"edge10\" class=\"edge\">\n<title>2&#45;&gt;10</title>\n<path fill=\"none\" stroke=\"#000000\" d=\"M838.5,-296.9465C838.5,-288.776 838.5,-279.9318 838.5,-271.3697\"/>\n<polygon fill=\"#000000\" stroke=\"#000000\" points=\"842.0001,-271.13 838.5,-261.13 835.0001,-271.13 842.0001,-271.13\"/>\n</g>\n<!-- 4 -->\n<g id=\"node5\" class=\"node\">\n<title>4</title>\n<path fill=\"#efb286\" stroke=\"#000000\" d=\"M263.5,-157C263.5,-157 111.5,-157 111.5,-157 105.5,-157 99.5,-151 99.5,-145 99.5,-145 99.5,-101 99.5,-101 99.5,-95 105.5,-89 111.5,-89 111.5,-89 263.5,-89 263.5,-89 269.5,-89 275.5,-95 275.5,-101 275.5,-101 275.5,-145 275.5,-145 275.5,-151 269.5,-157 263.5,-157\"/>\n<text text-anchor=\"middle\" x=\"187.5\" y=\"-141.8\" font-family=\"Helvetica,sans-Serif\" font-size=\"14.00\" fill=\"#000000\">redTotalGold &lt;= 14138.5</text>\n<text text-anchor=\"middle\" x=\"187.5\" y=\"-126.8\" font-family=\"Helvetica,sans-Serif\" font-size=\"14.00\" fill=\"#000000\">gini = 0.402</text>\n<text text-anchor=\"middle\" x=\"187.5\" y=\"-111.8\" font-family=\"Helvetica,sans-Serif\" font-size=\"14.00\" fill=\"#000000\">samples = 344</text>\n<text text-anchor=\"middle\" x=\"187.5\" y=\"-96.8\" font-family=\"Helvetica,sans-Serif\" font-size=\"14.00\" fill=\"#000000\">value = [248, 96]</text>\n</g>\n<!-- 3&#45;&gt;4 -->\n<g id=\"edge4\" class=\"edge\">\n<title>3&#45;&gt;4</title>\n<path fill=\"none\" stroke=\"#000000\" d=\"M352.2778,-192.9465C328.271,-182.7559 301.7951,-171.5171 277.2192,-161.0849\"/>\n<polygon fill=\"#000000\" stroke=\"#000000\" points=\"278.475,-157.8157 267.9024,-157.13 275.7398,-164.2592 278.475,-157.8157\"/>\n</g>\n<!-- 7 -->\n<g id=\"node8\" class=\"node\">\n<title>7</title>\n<path fill=\"#fef8f4\" stroke=\"#000000\" d=\"M508.5,-157C508.5,-157 356.5,-157 356.5,-157 350.5,-157 344.5,-151 344.5,-145 344.5,-145 344.5,-101 344.5,-101 344.5,-95 350.5,-89 356.5,-89 356.5,-89 508.5,-89 508.5,-89 514.5,-89 520.5,-95 520.5,-101 520.5,-101 520.5,-145 520.5,-145 520.5,-151 514.5,-157 508.5,-157\"/>\n<text text-anchor=\"middle\" x=\"432.5\" y=\"-141.8\" font-family=\"Helvetica,sans-Serif\" font-size=\"14.00\" fill=\"#000000\">redTotalGold &lt;= 15475.5</text>\n<text text-anchor=\"middle\" x=\"432.5\" y=\"-126.8\" font-family=\"Helvetica,sans-Serif\" font-size=\"14.00\" fill=\"#000000\">gini = 0.5</text>\n<text text-anchor=\"middle\" x=\"432.5\" y=\"-111.8\" font-family=\"Helvetica,sans-Serif\" font-size=\"14.00\" fill=\"#000000\">samples = 675</text>\n<text text-anchor=\"middle\" x=\"432.5\" y=\"-96.8\" font-family=\"Helvetica,sans-Serif\" font-size=\"14.00\" fill=\"#000000\">value = [347, 328]</text>\n</g>\n<!-- 3&#45;&gt;7 -->\n<g id=\"edge7\" class=\"edge\">\n<title>3&#45;&gt;7</title>\n<path fill=\"none\" stroke=\"#000000\" d=\"M432.5,-192.9465C432.5,-184.776 432.5,-175.9318 432.5,-167.3697\"/>\n<polygon fill=\"#000000\" stroke=\"#000000\" points=\"436.0001,-167.13 432.5,-157.13 429.0001,-167.13 436.0001,-167.13\"/>\n</g>\n<!-- 5 -->\n<g id=\"node6\" class=\"node\">\n<title>5</title>\n<path fill=\"#6ab6ec\" stroke=\"#000000\" d=\"M95,-53C95,-53 12,-53 12,-53 6,-53 0,-47 0,-41 0,-41 0,-12 0,-12 0,-6 6,0 12,0 12,0 95,0 95,0 101,0 107,-6 107,-12 107,-12 107,-41 107,-41 107,-47 101,-53 95,-53\"/>\n<text text-anchor=\"middle\" x=\"53.5\" y=\"-37.8\" font-family=\"Helvetica,sans-Serif\" font-size=\"14.00\" fill=\"#000000\">gini = 0.32</text>\n<text text-anchor=\"middle\" x=\"53.5\" y=\"-22.8\" font-family=\"Helvetica,sans-Serif\" font-size=\"14.00\" fill=\"#000000\">samples = 15</text>\n<text text-anchor=\"middle\" x=\"53.5\" y=\"-7.8\" font-family=\"Helvetica,sans-Serif\" font-size=\"14.00\" fill=\"#000000\">value = [3, 12]</text>\n</g>\n<!-- 4&#45;&gt;5 -->\n<g id=\"edge5\" class=\"edge\">\n<title>4&#45;&gt;5</title>\n<path fill=\"none\" stroke=\"#000000\" d=\"M140.2566,-88.9777C126.7783,-79.2713 112.1285,-68.7213 98.7709,-59.1018\"/>\n<polygon fill=\"#000000\" stroke=\"#000000\" points=\"100.8031,-56.2522 90.643,-53.2485 96.7124,-61.9325 100.8031,-56.2522\"/>\n</g>\n<!-- 6 -->\n<g id=\"node7\" class=\"node\">\n<title>6</title>\n<path fill=\"#eeac7d\" stroke=\"#000000\" d=\"M237.5,-53C237.5,-53 137.5,-53 137.5,-53 131.5,-53 125.5,-47 125.5,-41 125.5,-41 125.5,-12 125.5,-12 125.5,-6 131.5,0 137.5,0 137.5,0 237.5,0 237.5,0 243.5,0 249.5,-6 249.5,-12 249.5,-12 249.5,-41 249.5,-41 249.5,-47 243.5,-53 237.5,-53\"/>\n<text text-anchor=\"middle\" x=\"187.5\" y=\"-37.8\" font-family=\"Helvetica,sans-Serif\" font-size=\"14.00\" fill=\"#000000\">gini = 0.38</text>\n<text text-anchor=\"middle\" x=\"187.5\" y=\"-22.8\" font-family=\"Helvetica,sans-Serif\" font-size=\"14.00\" fill=\"#000000\">samples = 329</text>\n<text text-anchor=\"middle\" x=\"187.5\" y=\"-7.8\" font-family=\"Helvetica,sans-Serif\" font-size=\"14.00\" fill=\"#000000\">value = [245, 84]</text>\n</g>\n<!-- 4&#45;&gt;6 -->\n<g id=\"edge6\" class=\"edge\">\n<title>4&#45;&gt;6</title>\n<path fill=\"none\" stroke=\"#000000\" d=\"M187.5,-88.9777C187.5,-80.7364 187.5,-71.887 187.5,-63.5153\"/>\n<polygon fill=\"#000000\" stroke=\"#000000\" points=\"191.0001,-63.2484 187.5,-53.2485 184.0001,-63.2485 191.0001,-63.2484\"/>\n</g>\n<!-- 8 -->\n<g id=\"node9\" class=\"node\">\n<title>8</title>\n<path fill=\"#c7e3f8\" stroke=\"#000000\" d=\"M387.5,-53C387.5,-53 279.5,-53 279.5,-53 273.5,-53 267.5,-47 267.5,-41 267.5,-41 267.5,-12 267.5,-12 267.5,-6 273.5,0 279.5,0 279.5,0 387.5,0 387.5,0 393.5,0 399.5,-6 399.5,-12 399.5,-12 399.5,-41 399.5,-41 399.5,-47 393.5,-53 387.5,-53\"/>\n<text text-anchor=\"middle\" x=\"333.5\" y=\"-37.8\" font-family=\"Helvetica,sans-Serif\" font-size=\"14.00\" fill=\"#000000\">gini = 0.487</text>\n<text text-anchor=\"middle\" x=\"333.5\" y=\"-22.8\" font-family=\"Helvetica,sans-Serif\" font-size=\"14.00\" fill=\"#000000\">samples = 306</text>\n<text text-anchor=\"middle\" x=\"333.5\" y=\"-7.8\" font-family=\"Helvetica,sans-Serif\" font-size=\"14.00\" fill=\"#000000\">value = [128, 178]</text>\n</g>\n<!-- 7&#45;&gt;8 -->\n<g id=\"edge8\" class=\"edge\">\n<title>7&#45;&gt;8</title>\n<path fill=\"none\" stroke=\"#000000\" d=\"M397.5963,-88.9777C388.1082,-79.7292 377.8343,-69.7147 368.3491,-60.4691\"/>\n<polygon fill=\"#000000\" stroke=\"#000000\" points=\"370.5454,-57.7223 360.9414,-53.2485 365.6593,-62.7349 370.5454,-57.7223\"/>\n</g>\n<!-- 9 -->\n<g id=\"node10\" class=\"node\">\n<title>9</title>\n<path fill=\"#f7d7c1\" stroke=\"#000000\" d=\"M537.5,-53C537.5,-53 429.5,-53 429.5,-53 423.5,-53 417.5,-47 417.5,-41 417.5,-41 417.5,-12 417.5,-12 417.5,-6 423.5,0 429.5,0 429.5,0 537.5,0 537.5,0 543.5,0 549.5,-6 549.5,-12 549.5,-12 549.5,-41 549.5,-41 549.5,-47 543.5,-53 537.5,-53\"/>\n<text text-anchor=\"middle\" x=\"483.5\" y=\"-37.8\" font-family=\"Helvetica,sans-Serif\" font-size=\"14.00\" fill=\"#000000\">gini = 0.483</text>\n<text text-anchor=\"middle\" x=\"483.5\" y=\"-22.8\" font-family=\"Helvetica,sans-Serif\" font-size=\"14.00\" fill=\"#000000\">samples = 369</text>\n<text text-anchor=\"middle\" x=\"483.5\" y=\"-7.8\" font-family=\"Helvetica,sans-Serif\" font-size=\"14.00\" fill=\"#000000\">value = [219, 150]</text>\n</g>\n<!-- 7&#45;&gt;9 -->\n<g id=\"edge9\" class=\"edge\">\n<title>7&#45;&gt;9</title>\n<path fill=\"none\" stroke=\"#000000\" d=\"M450.4807,-88.9777C455.0782,-80.2786 460.0337,-70.9018 464.6725,-62.1247\"/>\n<polygon fill=\"#000000\" stroke=\"#000000\" points=\"467.7853,-63.7251 469.3635,-53.2485 461.5965,-60.4543 467.7853,-63.7251\"/>\n</g>\n<!-- 11 -->\n<g id=\"node12\" class=\"node\">\n<title>11</title>\n<path fill=\"#99cdf2\" stroke=\"#000000\" d=\"M831,-157C831,-157 672,-157 672,-157 666,-157 660,-151 660,-145 660,-145 660,-101 660,-101 660,-95 666,-89 672,-89 672,-89 831,-89 831,-89 837,-89 843,-95 843,-101 843,-101 843,-145 843,-145 843,-151 837,-157 831,-157\"/>\n<text text-anchor=\"middle\" x=\"751.5\" y=\"-141.8\" font-family=\"Helvetica,sans-Serif\" font-size=\"14.00\" fill=\"#000000\">blueTotalGold &lt;= 14497.5</text>\n<text text-anchor=\"middle\" x=\"751.5\" y=\"-126.8\" font-family=\"Helvetica,sans-Serif\" font-size=\"14.00\" fill=\"#000000\">gini = 0.44</text>\n<text text-anchor=\"middle\" x=\"751.5\" y=\"-111.8\" font-family=\"Helvetica,sans-Serif\" font-size=\"14.00\" fill=\"#000000\">samples = 419</text>\n<text text-anchor=\"middle\" x=\"751.5\" y=\"-96.8\" font-family=\"Helvetica,sans-Serif\" font-size=\"14.00\" fill=\"#000000\">value = [137, 282]</text>\n</g>\n<!-- 10&#45;&gt;11 -->\n<g id=\"edge11\" class=\"edge\">\n<title>10&#45;&gt;11</title>\n<path fill=\"none\" stroke=\"#000000\" d=\"M810.0129,-192.9465C802.5021,-183.968 794.3105,-174.1758 786.4995,-164.8385\"/>\n<polygon fill=\"#000000\" stroke=\"#000000\" points=\"789.152,-162.5544 780.0511,-157.13 783.7829,-167.0459 789.152,-162.5544\"/>\n</g>\n<!-- 14 -->\n<g id=\"node15\" class=\"node\">\n<title>14</title>\n<path fill=\"#fdf5ef\" stroke=\"#000000\" d=\"M977.5,-157C977.5,-157 873.5,-157 873.5,-157 867.5,-157 861.5,-151 861.5,-145 861.5,-145 861.5,-101 861.5,-101 861.5,-95 867.5,-89 873.5,-89 873.5,-89 977.5,-89 977.5,-89 983.5,-89 989.5,-95 989.5,-101 989.5,-101 989.5,-145 989.5,-145 989.5,-151 983.5,-157 977.5,-157\"/>\n<text text-anchor=\"middle\" x=\"925.5\" y=\"-141.8\" font-family=\"Helvetica,sans-Serif\" font-size=\"14.00\" fill=\"#000000\">redAssists &lt;= 8.5</text>\n<text text-anchor=\"middle\" x=\"925.5\" y=\"-126.8\" font-family=\"Helvetica,sans-Serif\" font-size=\"14.00\" fill=\"#000000\">gini = 0.499</text>\n<text text-anchor=\"middle\" x=\"925.5\" y=\"-111.8\" font-family=\"Helvetica,sans-Serif\" font-size=\"14.00\" fill=\"#000000\">samples = 190</text>\n<text text-anchor=\"middle\" x=\"925.5\" y=\"-96.8\" font-family=\"Helvetica,sans-Serif\" font-size=\"14.00\" fill=\"#000000\">value = [99, 91]</text>\n</g>\n<!-- 10&#45;&gt;14 -->\n<g id=\"edge14\" class=\"edge\">\n<title>10&#45;&gt;14</title>\n<path fill=\"none\" stroke=\"#000000\" d=\"M866.9871,-192.9465C874.4979,-183.968 882.6895,-174.1758 890.5005,-164.8385\"/>\n<polygon fill=\"#000000\" stroke=\"#000000\" points=\"893.2171,-167.0459 896.9489,-157.13 887.848,-162.5544 893.2171,-167.0459\"/>\n</g>\n<!-- 12 -->\n<g id=\"node13\" class=\"node\">\n<title>12</title>\n<path fill=\"#f3c3a1\" stroke=\"#000000\" d=\"M671.5,-53C671.5,-53 579.5,-53 579.5,-53 573.5,-53 567.5,-47 567.5,-41 567.5,-41 567.5,-12 567.5,-12 567.5,-6 573.5,0 579.5,0 579.5,0 671.5,0 671.5,0 677.5,0 683.5,-6 683.5,-12 683.5,-12 683.5,-41 683.5,-41 683.5,-47 677.5,-53 671.5,-53\"/>\n<text text-anchor=\"middle\" x=\"625.5\" y=\"-37.8\" font-family=\"Helvetica,sans-Serif\" font-size=\"14.00\" fill=\"#000000\">gini = 0.451</text>\n<text text-anchor=\"middle\" x=\"625.5\" y=\"-22.8\" font-family=\"Helvetica,sans-Serif\" font-size=\"14.00\" fill=\"#000000\">samples = 32</text>\n<text text-anchor=\"middle\" x=\"625.5\" y=\"-7.8\" font-family=\"Helvetica,sans-Serif\" font-size=\"14.00\" fill=\"#000000\">value = [21, 11]</text>\n</g>\n<!-- 11&#45;&gt;12 -->\n<g id=\"edge12\" class=\"edge\">\n<title>11&#45;&gt;12</title>\n<path fill=\"none\" stroke=\"#000000\" d=\"M707.0771,-88.9777C694.523,-79.3629 680.8881,-68.9203 668.424,-59.3743\"/>\n<polygon fill=\"#000000\" stroke=\"#000000\" points=\"670.4927,-56.5502 660.4255,-53.2485 666.2365,-62.1076 670.4927,-56.5502\"/>\n</g>\n<!-- 13 -->\n<g id=\"node14\" class=\"node\">\n<title>13</title>\n<path fill=\"#8ec7f0\" stroke=\"#000000\" d=\"M821.5,-53C821.5,-53 713.5,-53 713.5,-53 707.5,-53 701.5,-47 701.5,-41 701.5,-41 701.5,-12 701.5,-12 701.5,-6 707.5,0 713.5,0 713.5,0 821.5,0 821.5,0 827.5,0 833.5,-6 833.5,-12 833.5,-12 833.5,-41 833.5,-41 833.5,-47 827.5,-53 821.5,-53\"/>\n<text text-anchor=\"middle\" x=\"767.5\" y=\"-37.8\" font-family=\"Helvetica,sans-Serif\" font-size=\"14.00\" fill=\"#000000\">gini = 0.42</text>\n<text text-anchor=\"middle\" x=\"767.5\" y=\"-22.8\" font-family=\"Helvetica,sans-Serif\" font-size=\"14.00\" fill=\"#000000\">samples = 387</text>\n<text text-anchor=\"middle\" x=\"767.5\" y=\"-7.8\" font-family=\"Helvetica,sans-Serif\" font-size=\"14.00\" fill=\"#000000\">value = [116, 271]</text>\n</g>\n<!-- 11&#45;&gt;13 -->\n<g id=\"edge13\" class=\"edge\">\n<title>11&#45;&gt;13</title>\n<path fill=\"none\" stroke=\"#000000\" d=\"M757.141,-88.9777C758.5226,-80.6449 760.0073,-71.6903 761.409,-63.2364\"/>\n<polygon fill=\"#000000\" stroke=\"#000000\" points=\"764.8821,-63.6863 763.065,-53.2485 757.9764,-62.5413 764.8821,-63.6863\"/>\n</g>\n<!-- 15 -->\n<g id=\"node16\" class=\"node\">\n<title>15</title>\n<path fill=\"#f9e3d4\" stroke=\"#000000\" d=\"M955.5,-53C955.5,-53 863.5,-53 863.5,-53 857.5,-53 851.5,-47 851.5,-41 851.5,-41 851.5,-12 851.5,-12 851.5,-6 857.5,0 863.5,0 863.5,0 955.5,0 955.5,0 961.5,0 967.5,-6 967.5,-12 967.5,-12 967.5,-41 967.5,-41 967.5,-47 961.5,-53 955.5,-53\"/>\n<text text-anchor=\"middle\" x=\"909.5\" y=\"-37.8\" font-family=\"Helvetica,sans-Serif\" font-size=\"14.00\" fill=\"#000000\">gini = 0.492</text>\n<text text-anchor=\"middle\" x=\"909.5\" y=\"-22.8\" font-family=\"Helvetica,sans-Serif\" font-size=\"14.00\" fill=\"#000000\">samples = 171</text>\n<text text-anchor=\"middle\" x=\"909.5\" y=\"-7.8\" font-family=\"Helvetica,sans-Serif\" font-size=\"14.00\" fill=\"#000000\">value = [96, 75]</text>\n</g>\n<!-- 14&#45;&gt;15 -->\n<g id=\"edge15\" class=\"edge\">\n<title>14&#45;&gt;15</title>\n<path fill=\"none\" stroke=\"#000000\" d=\"M919.859,-88.9777C918.4774,-80.6449 916.9927,-71.6903 915.591,-63.2364\"/>\n<polygon fill=\"#000000\" stroke=\"#000000\" points=\"919.0236,-62.5413 913.935,-53.2485 912.1179,-63.6863 919.0236,-62.5413\"/>\n</g>\n<!-- 16 -->\n<g id=\"node17\" class=\"node\">\n<title>16</title>\n<path fill=\"#5eafea\" stroke=\"#000000\" d=\"M1081,-53C1081,-53 998,-53 998,-53 992,-53 986,-47 986,-41 986,-41 986,-12 986,-12 986,-6 992,0 998,0 998,0 1081,0 1081,0 1087,0 1093,-6 1093,-12 1093,-12 1093,-41 1093,-41 1093,-47 1087,-53 1081,-53\"/>\n<text text-anchor=\"middle\" x=\"1039.5\" y=\"-37.8\" font-family=\"Helvetica,sans-Serif\" font-size=\"14.00\" fill=\"#000000\">gini = 0.266</text>\n<text text-anchor=\"middle\" x=\"1039.5\" y=\"-22.8\" font-family=\"Helvetica,sans-Serif\" font-size=\"14.00\" fill=\"#000000\">samples = 19</text>\n<text text-anchor=\"middle\" x=\"1039.5\" y=\"-7.8\" font-family=\"Helvetica,sans-Serif\" font-size=\"14.00\" fill=\"#000000\">value = [3, 16]</text>\n</g>\n<!-- 14&#45;&gt;16 -->\n<g id=\"edge16\" class=\"edge\">\n<title>14&#45;&gt;16</title>\n<path fill=\"none\" stroke=\"#000000\" d=\"M965.6921,-88.9777C976.8342,-79.546 988.9173,-69.3178 1000.0185,-59.9208\"/>\n<polygon fill=\"#000000\" stroke=\"#000000\" points=\"1002.5295,-62.3809 1007.9008,-53.2485 998.0068,-57.038 1002.5295,-62.3809\"/>\n</g>\n<!-- 18 -->\n<g id=\"node19\" class=\"node\">\n<title>18</title>\n<path fill=\"#eeaf81\" stroke=\"#000000\" d=\"M1611,-261C1611,-261 1452,-261 1452,-261 1446,-261 1440,-255 1440,-249 1440,-249 1440,-205 1440,-205 1440,-199 1446,-193 1452,-193 1452,-193 1611,-193 1611,-193 1617,-193 1623,-199 1623,-205 1623,-205 1623,-249 1623,-249 1623,-255 1617,-261 1611,-261\"/>\n<text text-anchor=\"middle\" x=\"1531.5\" y=\"-245.8\" font-family=\"Helvetica,sans-Serif\" font-size=\"14.00\" fill=\"#000000\">blueTotalGold &lt;= 14782.5</text>\n<text text-anchor=\"middle\" x=\"1531.5\" y=\"-230.8\" font-family=\"Helvetica,sans-Serif\" font-size=\"14.00\" fill=\"#000000\">gini = 0.39</text>\n<text text-anchor=\"middle\" x=\"1531.5\" y=\"-215.8\" font-family=\"Helvetica,sans-Serif\" font-size=\"14.00\" fill=\"#000000\">samples = 1888</text>\n<text text-anchor=\"middle\" x=\"1531.5\" y=\"-200.8\" font-family=\"Helvetica,sans-Serif\" font-size=\"14.00\" fill=\"#000000\">value = [1387, 501]</text>\n</g>\n<!-- 17&#45;&gt;18 -->\n<g id=\"edge18\" class=\"edge\">\n<title>17&#45;&gt;18</title>\n<path fill=\"none\" stroke=\"#000000\" d=\"M1617.588,-296.9465C1605.985,-287.519 1593.2779,-277.1946 1581.2741,-267.4415\"/>\n<polygon fill=\"#000000\" stroke=\"#000000\" points=\"1583.4744,-264.7196 1573.5061,-261.13 1579.0602,-270.1524 1583.4744,-264.7196\"/>\n</g>\n<!-- 25 -->\n<g id=\"node26\" class=\"node\">\n<title>25</title>\n<path fill=\"#e88f4f\" stroke=\"#000000\" d=\"M1840,-261C1840,-261 1681,-261 1681,-261 1675,-261 1669,-255 1669,-249 1669,-249 1669,-205 1669,-205 1669,-199 1675,-193 1681,-193 1681,-193 1840,-193 1840,-193 1846,-193 1852,-199 1852,-205 1852,-205 1852,-249 1852,-249 1852,-255 1846,-261 1840,-261\"/>\n<text text-anchor=\"middle\" x=\"1760.5\" y=\"-245.8\" font-family=\"Helvetica,sans-Serif\" font-size=\"14.00\" fill=\"#000000\">blueTotalGold &lt;= 14812.5</text>\n<text text-anchor=\"middle\" x=\"1760.5\" y=\"-230.8\" font-family=\"Helvetica,sans-Serif\" font-size=\"14.00\" fill=\"#000000\">gini = 0.179</text>\n<text text-anchor=\"middle\" x=\"1760.5\" y=\"-215.8\" font-family=\"Helvetica,sans-Serif\" font-size=\"14.00\" fill=\"#000000\">samples = 1096</text>\n<text text-anchor=\"middle\" x=\"1760.5\" y=\"-200.8\" font-family=\"Helvetica,sans-Serif\" font-size=\"14.00\" fill=\"#000000\">value = [987, 109]</text>\n</g>\n<!-- 17&#45;&gt;25 -->\n<g id=\"edge25\" class=\"edge\">\n<title>17&#45;&gt;25</title>\n<path fill=\"none\" stroke=\"#000000\" d=\"M1692.5712,-296.9465C1701.3779,-287.8782 1710.9907,-277.9799 1720.1403,-268.5585\"/>\n<polygon fill=\"#000000\" stroke=\"#000000\" points=\"1722.8985,-270.7422 1727.3545,-261.13 1717.8768,-265.8654 1722.8985,-270.7422\"/>\n</g>\n<!-- 19 -->\n<g id=\"node20\" class=\"node\">\n<title>19</title>\n<path fill=\"#e9975b\" stroke=\"#000000\" d=\"M1359,-157C1359,-157 1248,-157 1248,-157 1242,-157 1236,-151 1236,-145 1236,-145 1236,-101 1236,-101 1236,-95 1242,-89 1248,-89 1248,-89 1359,-89 1359,-89 1365,-89 1371,-95 1371,-101 1371,-101 1371,-145 1371,-145 1371,-151 1365,-157 1359,-157\"/>\n<text text-anchor=\"middle\" x=\"1303.5\" y=\"-141.8\" font-family=\"Helvetica,sans-Serif\" font-size=\"14.00\" fill=\"#000000\">blueAssists &lt;= 8.5</text>\n<text text-anchor=\"middle\" x=\"1303.5\" y=\"-126.8\" font-family=\"Helvetica,sans-Serif\" font-size=\"14.00\" fill=\"#000000\">gini = 0.25</text>\n<text text-anchor=\"middle\" x=\"1303.5\" y=\"-111.8\" font-family=\"Helvetica,sans-Serif\" font-size=\"14.00\" fill=\"#000000\">samples = 512</text>\n<text text-anchor=\"middle\" x=\"1303.5\" y=\"-96.8\" font-family=\"Helvetica,sans-Serif\" font-size=\"14.00\" fill=\"#000000\">value = [437, 75]</text>\n</g>\n<!-- 18&#45;&gt;19 -->\n<g id=\"edge19\" class=\"edge\">\n<title>18&#45;&gt;19</title>\n<path fill=\"none\" stroke=\"#000000\" d=\"M1456.8443,-192.9465C1432.3152,-181.7578 1405.0162,-169.3056 1380.3288,-158.0447\"/>\n<polygon fill=\"#000000\" stroke=\"#000000\" points=\"1381.5569,-154.758 1371.0062,-153.7923 1378.6518,-161.1268 1381.5569,-154.758\"/>\n</g>\n<!-- 22 -->\n<g id=\"node23\" class=\"node\">\n<title>22</title>\n<path fill=\"#f1ba92\" stroke=\"#000000\" d=\"M1607.5,-157C1607.5,-157 1455.5,-157 1455.5,-157 1449.5,-157 1443.5,-151 1443.5,-145 1443.5,-145 1443.5,-101 1443.5,-101 1443.5,-95 1449.5,-89 1455.5,-89 1455.5,-89 1607.5,-89 1607.5,-89 1613.5,-89 1619.5,-95 1619.5,-101 1619.5,-101 1619.5,-145 1619.5,-145 1619.5,-151 1613.5,-157 1607.5,-157\"/>\n<text text-anchor=\"middle\" x=\"1531.5\" y=\"-141.8\" font-family=\"Helvetica,sans-Serif\" font-size=\"14.00\" fill=\"#000000\">blueEliteMonsters &lt;= 0.5</text>\n<text text-anchor=\"middle\" x=\"1531.5\" y=\"-126.8\" font-family=\"Helvetica,sans-Serif\" font-size=\"14.00\" fill=\"#000000\">gini = 0.427</text>\n<text text-anchor=\"middle\" x=\"1531.5\" y=\"-111.8\" font-family=\"Helvetica,sans-Serif\" font-size=\"14.00\" fill=\"#000000\">samples = 1376</text>\n<text text-anchor=\"middle\" x=\"1531.5\" y=\"-96.8\" font-family=\"Helvetica,sans-Serif\" font-size=\"14.00\" fill=\"#000000\">value = [950, 426]</text>\n</g>\n<!-- 18&#45;&gt;22 -->\n<g id=\"edge22\" class=\"edge\">\n<title>18&#45;&gt;22</title>\n<path fill=\"none\" stroke=\"#000000\" d=\"M1531.5,-192.9465C1531.5,-184.776 1531.5,-175.9318 1531.5,-167.3697\"/>\n<polygon fill=\"#000000\" stroke=\"#000000\" points=\"1535.0001,-167.13 1531.5,-157.13 1528.0001,-167.13 1535.0001,-167.13\"/>\n</g>\n<!-- 20 -->\n<g id=\"node21\" class=\"node\">\n<title>20</title>\n<path fill=\"#e9965a\" stroke=\"#000000\" d=\"M1223.5,-53C1223.5,-53 1123.5,-53 1123.5,-53 1117.5,-53 1111.5,-47 1111.5,-41 1111.5,-41 1111.5,-12 1111.5,-12 1111.5,-6 1117.5,0 1123.5,0 1123.5,0 1223.5,0 1223.5,0 1229.5,0 1235.5,-6 1235.5,-12 1235.5,-12 1235.5,-41 1235.5,-41 1235.5,-47 1229.5,-53 1223.5,-53\"/>\n<text text-anchor=\"middle\" x=\"1173.5\" y=\"-37.8\" font-family=\"Helvetica,sans-Serif\" font-size=\"14.00\" fill=\"#000000\">gini = 0.243</text>\n<text text-anchor=\"middle\" x=\"1173.5\" y=\"-22.8\" font-family=\"Helvetica,sans-Serif\" font-size=\"14.00\" fill=\"#000000\">samples = 508</text>\n<text text-anchor=\"middle\" x=\"1173.5\" y=\"-7.8\" font-family=\"Helvetica,sans-Serif\" font-size=\"14.00\" fill=\"#000000\">value = [436, 72]</text>\n</g>\n<!-- 19&#45;&gt;20 -->\n<g id=\"edge20\" class=\"edge\">\n<title>19&#45;&gt;20</title>\n<path fill=\"none\" stroke=\"#000000\" d=\"M1257.6669,-88.9777C1244.7143,-79.3629 1230.6465,-68.9203 1217.7867,-59.3743\"/>\n<polygon fill=\"#000000\" stroke=\"#000000\" points=\"1219.6499,-56.3986 1209.5342,-53.2485 1215.4776,-62.0193 1219.6499,-56.3986\"/>\n</g>\n<!-- 21 -->\n<g id=\"node22\" class=\"node\">\n<title>21</title>\n<path fill=\"#7bbeee\" stroke=\"#000000\" d=\"M1341,-53C1341,-53 1266,-53 1266,-53 1260,-53 1254,-47 1254,-41 1254,-41 1254,-12 1254,-12 1254,-6 1260,0 1266,0 1266,0 1341,0 1341,0 1347,0 1353,-6 1353,-12 1353,-12 1353,-41 1353,-41 1353,-47 1347,-53 1341,-53\"/>\n<text text-anchor=\"middle\" x=\"1303.5\" y=\"-37.8\" font-family=\"Helvetica,sans-Serif\" font-size=\"14.00\" fill=\"#000000\">gini = 0.375</text>\n<text text-anchor=\"middle\" x=\"1303.5\" y=\"-22.8\" font-family=\"Helvetica,sans-Serif\" font-size=\"14.00\" fill=\"#000000\">samples = 4</text>\n<text text-anchor=\"middle\" x=\"1303.5\" y=\"-7.8\" font-family=\"Helvetica,sans-Serif\" font-size=\"14.00\" fill=\"#000000\">value = [1, 3]</text>\n</g>\n<!-- 19&#45;&gt;21 -->\n<g id=\"edge21\" class=\"edge\">\n<title>19&#45;&gt;21</title>\n<path fill=\"none\" stroke=\"#000000\" d=\"M1303.5,-88.9777C1303.5,-80.7364 1303.5,-71.887 1303.5,-63.5153\"/>\n<polygon fill=\"#000000\" stroke=\"#000000\" points=\"1307.0001,-63.2484 1303.5,-53.2485 1300.0001,-63.2485 1307.0001,-63.2484\"/>\n</g>\n<!-- 23 -->\n<g id=\"node24\" class=\"node\">\n<title>23</title>\n<path fill=\"#eead7e\" stroke=\"#000000\" d=\"M1491.5,-53C1491.5,-53 1383.5,-53 1383.5,-53 1377.5,-53 1371.5,-47 1371.5,-41 1371.5,-41 1371.5,-12 1371.5,-12 1371.5,-6 1377.5,0 1383.5,0 1383.5,0 1491.5,0 1491.5,0 1497.5,0 1503.5,-6 1503.5,-12 1503.5,-12 1503.5,-41 1503.5,-41 1503.5,-47 1497.5,-53 1491.5,-53\"/>\n<text text-anchor=\"middle\" x=\"1437.5\" y=\"-37.8\" font-family=\"Helvetica,sans-Serif\" font-size=\"14.00\" fill=\"#000000\">gini = 0.384</text>\n<text text-anchor=\"middle\" x=\"1437.5\" y=\"-22.8\" font-family=\"Helvetica,sans-Serif\" font-size=\"14.00\" fill=\"#000000\">samples = 837</text>\n<text text-anchor=\"middle\" x=\"1437.5\" y=\"-7.8\" font-family=\"Helvetica,sans-Serif\" font-size=\"14.00\" fill=\"#000000\">value = [620, 217]</text>\n</g>\n<!-- 22&#45;&gt;23 -->\n<g id=\"edge23\" class=\"edge\">\n<title>22&#45;&gt;23</title>\n<path fill=\"none\" stroke=\"#000000\" d=\"M1498.3591,-88.9777C1489.3502,-79.7292 1479.5952,-69.7147 1470.5891,-60.4691\"/>\n<polygon fill=\"#000000\" stroke=\"#000000\" points=\"1473.0404,-57.9696 1463.5555,-53.2485 1468.0261,-62.8539 1473.0404,-57.9696\"/>\n</g>\n<!-- 24 -->\n<g id=\"node25\" class=\"node\">\n<title>24</title>\n<path fill=\"#f5d1b6\" stroke=\"#000000\" d=\"M1641.5,-53C1641.5,-53 1533.5,-53 1533.5,-53 1527.5,-53 1521.5,-47 1521.5,-41 1521.5,-41 1521.5,-12 1521.5,-12 1521.5,-6 1527.5,0 1533.5,0 1533.5,0 1641.5,0 1641.5,0 1647.5,0 1653.5,-6 1653.5,-12 1653.5,-12 1653.5,-41 1653.5,-41 1653.5,-47 1647.5,-53 1641.5,-53\"/>\n<text text-anchor=\"middle\" x=\"1587.5\" y=\"-37.8\" font-family=\"Helvetica,sans-Serif\" font-size=\"14.00\" fill=\"#000000\">gini = 0.475</text>\n<text text-anchor=\"middle\" x=\"1587.5\" y=\"-22.8\" font-family=\"Helvetica,sans-Serif\" font-size=\"14.00\" fill=\"#000000\">samples = 539</text>\n<text text-anchor=\"middle\" x=\"1587.5\" y=\"-7.8\" font-family=\"Helvetica,sans-Serif\" font-size=\"14.00\" fill=\"#000000\">value = [330, 209]</text>\n</g>\n<!-- 22&#45;&gt;24 -->\n<g id=\"edge24\" class=\"edge\">\n<title>22&#45;&gt;24</title>\n<path fill=\"none\" stroke=\"#000000\" d=\"M1551.2435,-88.9777C1556.2917,-80.2786 1561.7331,-70.9018 1566.8266,-62.1247\"/>\n<polygon fill=\"#000000\" stroke=\"#000000\" points=\"1569.9855,-63.6544 1571.9776,-53.2485 1563.9311,-60.1409 1569.9855,-63.6544\"/>\n</g>\n<!-- 26 -->\n<g id=\"node27\" class=\"node\">\n<title>26</title>\n<path fill=\"#e6843d\" stroke=\"#000000\" d=\"M1823,-157C1823,-157 1698,-157 1698,-157 1692,-157 1686,-151 1686,-145 1686,-145 1686,-101 1686,-101 1686,-95 1692,-89 1698,-89 1698,-89 1823,-89 1823,-89 1829,-89 1835,-95 1835,-101 1835,-101 1835,-145 1835,-145 1835,-151 1829,-157 1823,-157\"/>\n<text text-anchor=\"middle\" x=\"1760.5\" y=\"-141.8\" font-family=\"Helvetica,sans-Serif\" font-size=\"14.00\" fill=\"#000000\">blueAvgLevel &lt;= 6.9</text>\n<text text-anchor=\"middle\" x=\"1760.5\" y=\"-126.8\" font-family=\"Helvetica,sans-Serif\" font-size=\"14.00\" fill=\"#000000\">gini = 0.042</text>\n<text text-anchor=\"middle\" x=\"1760.5\" y=\"-111.8\" font-family=\"Helvetica,sans-Serif\" font-size=\"14.00\" fill=\"#000000\">samples = 417</text>\n<text text-anchor=\"middle\" x=\"1760.5\" y=\"-96.8\" font-family=\"Helvetica,sans-Serif\" font-size=\"14.00\" fill=\"#000000\">value = [408, 9]</text>\n</g>\n<!-- 25&#45;&gt;26 -->\n<g id=\"edge26\" class=\"edge\">\n<title>25&#45;&gt;26</title>\n<path fill=\"none\" stroke=\"#000000\" d=\"M1760.5,-192.9465C1760.5,-184.776 1760.5,-175.9318 1760.5,-167.3697\"/>\n<polygon fill=\"#000000\" stroke=\"#000000\" points=\"1764.0001,-167.13 1760.5,-157.13 1757.0001,-167.13 1764.0001,-167.13\"/>\n</g>\n<!-- 29 -->\n<g id=\"node30\" class=\"node\">\n<title>29</title>\n<path fill=\"#e9975b\" stroke=\"#000000\" d=\"M2087,-157C2087,-157 1892,-157 1892,-157 1886,-157 1880,-151 1880,-145 1880,-145 1880,-101 1880,-101 1880,-95 1886,-89 1892,-89 1892,-89 2087,-89 2087,-89 2093,-89 2099,-95 2099,-101 2099,-101 2099,-145 2099,-145 2099,-151 2093,-157 2087,-157\"/>\n<text text-anchor=\"middle\" x=\"1989.5\" y=\"-141.8\" font-family=\"Helvetica,sans-Serif\" font-size=\"14.00\" fill=\"#000000\">redTotalExperience &lt;= 19026.5</text>\n<text text-anchor=\"middle\" x=\"1989.5\" y=\"-126.8\" font-family=\"Helvetica,sans-Serif\" font-size=\"14.00\" fill=\"#000000\">gini = 0.251</text>\n<text text-anchor=\"middle\" x=\"1989.5\" y=\"-111.8\" font-family=\"Helvetica,sans-Serif\" font-size=\"14.00\" fill=\"#000000\">samples = 679</text>\n<text text-anchor=\"middle\" x=\"1989.5\" y=\"-96.8\" font-family=\"Helvetica,sans-Serif\" font-size=\"14.00\" fill=\"#000000\">value = [579, 100]</text>\n</g>\n<!-- 25&#45;&gt;29 -->\n<g id=\"edge29\" class=\"edge\">\n<title>25&#45;&gt;29</title>\n<path fill=\"none\" stroke=\"#000000\" d=\"M1835.4832,-192.9465C1857.7245,-182.8457 1882.2332,-171.7151 1905.0324,-161.3608\"/>\n<polygon fill=\"#000000\" stroke=\"#000000\" points=\"1906.6906,-164.4518 1914.3484,-157.13 1903.7961,-158.0783 1906.6906,-164.4518\"/>\n</g>\n<!-- 27 -->\n<g id=\"node28\" class=\"node\">\n<title>27</title>\n<path fill=\"#e5833c\" stroke=\"#000000\" d=\"M1775.5,-53C1775.5,-53 1683.5,-53 1683.5,-53 1677.5,-53 1671.5,-47 1671.5,-41 1671.5,-41 1671.5,-12 1671.5,-12 1671.5,-6 1677.5,0 1683.5,0 1683.5,0 1775.5,0 1775.5,0 1781.5,0 1787.5,-6 1787.5,-12 1787.5,-12 1787.5,-41 1787.5,-41 1787.5,-47 1781.5,-53 1775.5,-53\"/>\n<text text-anchor=\"middle\" x=\"1729.5\" y=\"-37.8\" font-family=\"Helvetica,sans-Serif\" font-size=\"14.00\" fill=\"#000000\">gini = 0.034</text>\n<text text-anchor=\"middle\" x=\"1729.5\" y=\"-22.8\" font-family=\"Helvetica,sans-Serif\" font-size=\"14.00\" fill=\"#000000\">samples = 407</text>\n<text text-anchor=\"middle\" x=\"1729.5\" y=\"-7.8\" font-family=\"Helvetica,sans-Serif\" font-size=\"14.00\" fill=\"#000000\">value = [400, 7]</text>\n</g>\n<!-- 26&#45;&gt;27 -->\n<g id=\"edge27\" class=\"edge\">\n<title>26&#45;&gt;27</title>\n<path fill=\"none\" stroke=\"#000000\" d=\"M1749.5706,-88.9777C1746.8643,-80.5533 1743.9538,-71.4934 1741.2119,-62.9579\"/>\n<polygon fill=\"#000000\" stroke=\"#000000\" points=\"1744.4836,-61.6988 1738.0928,-53.2485 1737.8191,-63.8398 1744.4836,-61.6988\"/>\n</g>\n<!-- 28 -->\n<g id=\"node29\" class=\"node\">\n<title>28</title>\n<path fill=\"#eca06a\" stroke=\"#000000\" d=\"M1897.5,-53C1897.5,-53 1817.5,-53 1817.5,-53 1811.5,-53 1805.5,-47 1805.5,-41 1805.5,-41 1805.5,-12 1805.5,-12 1805.5,-6 1811.5,0 1817.5,0 1817.5,0 1897.5,0 1897.5,0 1903.5,0 1909.5,-6 1909.5,-12 1909.5,-12 1909.5,-41 1909.5,-41 1909.5,-47 1903.5,-53 1897.5,-53\"/>\n<text text-anchor=\"middle\" x=\"1857.5\" y=\"-37.8\" font-family=\"Helvetica,sans-Serif\" font-size=\"14.00\" fill=\"#000000\">gini = 0.32</text>\n<text text-anchor=\"middle\" x=\"1857.5\" y=\"-22.8\" font-family=\"Helvetica,sans-Serif\" font-size=\"14.00\" fill=\"#000000\">samples = 10</text>\n<text text-anchor=\"middle\" x=\"1857.5\" y=\"-7.8\" font-family=\"Helvetica,sans-Serif\" font-size=\"14.00\" fill=\"#000000\">value = [8, 2]</text>\n</g>\n<!-- 26&#45;&gt;28 -->\n<g id=\"edge28\" class=\"edge\">\n<title>26&#45;&gt;28</title>\n<path fill=\"none\" stroke=\"#000000\" d=\"M1794.6986,-88.9777C1803.995,-79.7292 1814.0614,-69.7147 1823.3549,-60.4691\"/>\n<polygon fill=\"#000000\" stroke=\"#000000\" points=\"1825.9921,-62.7825 1830.6129,-53.2485 1821.0551,-57.82 1825.9921,-62.7825\"/>\n</g>\n<!-- 30 -->\n<g id=\"node31\" class=\"node\">\n<title>30</title>\n<path fill=\"#eca470\" stroke=\"#000000\" d=\"M2039.5,-53C2039.5,-53 1939.5,-53 1939.5,-53 1933.5,-53 1927.5,-47 1927.5,-41 1927.5,-41 1927.5,-12 1927.5,-12 1927.5,-6 1933.5,0 1939.5,0 1939.5,0 2039.5,0 2039.5,0 2045.5,0 2051.5,-6 2051.5,-12 2051.5,-12 2051.5,-41 2051.5,-41 2051.5,-47 2045.5,-53 2039.5,-53\"/>\n<text text-anchor=\"middle\" x=\"1989.5\" y=\"-37.8\" font-family=\"Helvetica,sans-Serif\" font-size=\"14.00\" fill=\"#000000\">gini = 0.339</text>\n<text text-anchor=\"middle\" x=\"1989.5\" y=\"-22.8\" font-family=\"Helvetica,sans-Serif\" font-size=\"14.00\" fill=\"#000000\">samples = 259</text>\n<text text-anchor=\"middle\" x=\"1989.5\" y=\"-7.8\" font-family=\"Helvetica,sans-Serif\" font-size=\"14.00\" fill=\"#000000\">value = [203, 56]</text>\n</g>\n<!-- 29&#45;&gt;30 -->\n<g id=\"edge30\" class=\"edge\">\n<title>29&#45;&gt;30</title>\n<path fill=\"none\" stroke=\"#000000\" d=\"M1989.5,-88.9777C1989.5,-80.7364 1989.5,-71.887 1989.5,-63.5153\"/>\n<polygon fill=\"#000000\" stroke=\"#000000\" points=\"1993.0001,-63.2484 1989.5,-53.2485 1986.0001,-63.2485 1993.0001,-63.2484\"/>\n</g>\n<!-- 31 -->\n<g id=\"node32\" class=\"node\">\n<title>31</title>\n<path fill=\"#e89050\" stroke=\"#000000\" d=\"M2181.5,-53C2181.5,-53 2081.5,-53 2081.5,-53 2075.5,-53 2069.5,-47 2069.5,-41 2069.5,-41 2069.5,-12 2069.5,-12 2069.5,-6 2075.5,0 2081.5,0 2081.5,0 2181.5,0 2181.5,0 2187.5,0 2193.5,-6 2193.5,-12 2193.5,-12 2193.5,-41 2193.5,-41 2193.5,-47 2187.5,-53 2181.5,-53\"/>\n<text text-anchor=\"middle\" x=\"2131.5\" y=\"-37.8\" font-family=\"Helvetica,sans-Serif\" font-size=\"14.00\" fill=\"#000000\">gini = 0.188</text>\n<text text-anchor=\"middle\" x=\"2131.5\" y=\"-22.8\" font-family=\"Helvetica,sans-Serif\" font-size=\"14.00\" fill=\"#000000\">samples = 420</text>\n<text text-anchor=\"middle\" x=\"2131.5\" y=\"-7.8\" font-family=\"Helvetica,sans-Serif\" font-size=\"14.00\" fill=\"#000000\">value = [376, 44]</text>\n</g>\n<!-- 29&#45;&gt;31 -->\n<g id=\"edge31\" class=\"edge\">\n<title>29&#45;&gt;31</title>\n<path fill=\"none\" stroke=\"#000000\" d=\"M2039.5639,-88.9777C2053.8469,-79.2713 2069.3713,-68.7213 2083.5263,-59.1018\"/>\n<polygon fill=\"#000000\" stroke=\"#000000\" points=\"2085.8359,-61.764 2092.1395,-53.2485 2081.9014,-55.9744 2085.8359,-61.764\"/>\n</g>\n<!-- 33 -->\n<g id=\"node34\" class=\"node\">\n<title>33</title>\n<path fill=\"#63b2eb\" stroke=\"#000000\" d=\"M2789.5,-365C2789.5,-365 2637.5,-365 2637.5,-365 2631.5,-365 2625.5,-359 2625.5,-353 2625.5,-353 2625.5,-309 2625.5,-309 2625.5,-303 2631.5,-297 2637.5,-297 2637.5,-297 2789.5,-297 2789.5,-297 2795.5,-297 2801.5,-303 2801.5,-309 2801.5,-309 2801.5,-353 2801.5,-353 2801.5,-359 2795.5,-365 2789.5,-365\"/>\n<text text-anchor=\"middle\" x=\"2713.5\" y=\"-349.8\" font-family=\"Helvetica,sans-Serif\" font-size=\"14.00\" fill=\"#000000\">redTotalGold &lt;= 15104.5</text>\n<text text-anchor=\"middle\" x=\"2713.5\" y=\"-334.8\" font-family=\"Helvetica,sans-Serif\" font-size=\"14.00\" fill=\"#000000\">gini = 0.29</text>\n<text text-anchor=\"middle\" x=\"2713.5\" y=\"-319.8\" font-family=\"Helvetica,sans-Serif\" font-size=\"14.00\" fill=\"#000000\">samples = 2514</text>\n<text text-anchor=\"middle\" x=\"2713.5\" y=\"-304.8\" font-family=\"Helvetica,sans-Serif\" font-size=\"14.00\" fill=\"#000000\">value = [443, 2071]</text>\n</g>\n<!-- 32&#45;&gt;33 -->\n<g id=\"edge33\" class=\"edge\">\n<title>32&#45;&gt;33</title>\n<path fill=\"none\" stroke=\"#000000\" d=\"M2713.5,-400.9465C2713.5,-392.776 2713.5,-383.9318 2713.5,-375.3697\"/>\n<polygon fill=\"#000000\" stroke=\"#000000\" points=\"2717.0001,-375.13 2713.5,-365.13 2710.0001,-375.13 2717.0001,-375.13\"/>\n</g>\n<!-- 48 -->\n<g id=\"node49\" class=\"node\">\n<title>48</title>\n<path fill=\"#eaf5fc\" stroke=\"#000000\" d=\"M3719,-365C3719,-365 3560,-365 3560,-365 3554,-365 3548,-359 3548,-353 3548,-353 3548,-309 3548,-309 3548,-303 3554,-297 3560,-297 3560,-297 3719,-297 3719,-297 3725,-297 3731,-303 3731,-309 3731,-309 3731,-353 3731,-353 3731,-359 3725,-365 3719,-365\"/>\n<text text-anchor=\"middle\" x=\"3639.5\" y=\"-349.8\" font-family=\"Helvetica,sans-Serif\" font-size=\"14.00\" fill=\"#000000\">blueTotalGold &lt;= 17626.0</text>\n<text text-anchor=\"middle\" x=\"3639.5\" y=\"-334.8\" font-family=\"Helvetica,sans-Serif\" font-size=\"14.00\" fill=\"#000000\">gini = 0.498</text>\n<text text-anchor=\"middle\" x=\"3639.5\" y=\"-319.8\" font-family=\"Helvetica,sans-Serif\" font-size=\"14.00\" fill=\"#000000\">samples = 2753</text>\n<text text-anchor=\"middle\" x=\"3639.5\" y=\"-304.8\" font-family=\"Helvetica,sans-Serif\" font-size=\"14.00\" fill=\"#000000\">value = [1301, 1452]</text>\n</g>\n<!-- 32&#45;&gt;48 -->\n<g id=\"edge48\" class=\"edge\">\n<title>32&#45;&gt;48</title>\n<path fill=\"none\" stroke=\"#000000\" d=\"M2801.8693,-425.0752C2974.3496,-405.7037 3354.9111,-362.9625 3537.6546,-342.4384\"/>\n<polygon fill=\"#000000\" stroke=\"#000000\" points=\"3538.2574,-345.8927 3547.8043,-341.2984 3537.4761,-338.9365 3538.2574,-345.8927\"/>\n</g>\n<!-- 34 -->\n<g id=\"node35\" class=\"node\">\n<title>34</title>\n<path fill=\"#53aae8\" stroke=\"#000000\" d=\"M2699.5,-261C2699.5,-261 2583.5,-261 2583.5,-261 2577.5,-261 2571.5,-255 2571.5,-249 2571.5,-249 2571.5,-205 2571.5,-205 2571.5,-199 2577.5,-193 2583.5,-193 2583.5,-193 2699.5,-193 2699.5,-193 2705.5,-193 2711.5,-199 2711.5,-205 2711.5,-205 2711.5,-249 2711.5,-249 2711.5,-255 2705.5,-261 2699.5,-261\"/>\n<text text-anchor=\"middle\" x=\"2641.5\" y=\"-245.8\" font-family=\"Helvetica,sans-Serif\" font-size=\"14.00\" fill=\"#000000\">redDragons &lt;= 0.5</text>\n<text text-anchor=\"middle\" x=\"2641.5\" y=\"-230.8\" font-family=\"Helvetica,sans-Serif\" font-size=\"14.00\" fill=\"#000000\">gini = 0.205</text>\n<text text-anchor=\"middle\" x=\"2641.5\" y=\"-215.8\" font-family=\"Helvetica,sans-Serif\" font-size=\"14.00\" fill=\"#000000\">samples = 1299</text>\n<text text-anchor=\"middle\" x=\"2641.5\" y=\"-200.8\" font-family=\"Helvetica,sans-Serif\" font-size=\"14.00\" fill=\"#000000\">value = [151, 1148]</text>\n</g>\n<!-- 33&#45;&gt;34 -->\n<g id=\"edge34\" class=\"edge\">\n<title>33&#45;&gt;34</title>\n<path fill=\"none\" stroke=\"#000000\" d=\"M2689.9245,-296.9465C2683.8329,-288.1475 2677.2004,-278.5672 2670.8534,-269.3993\"/>\n<polygon fill=\"#000000\" stroke=\"#000000\" points=\"2673.6983,-267.3597 2665.1285,-261.13 2667.9429,-271.3442 2673.6983,-267.3597\"/>\n</g>\n<!-- 41 -->\n<g id=\"node42\" class=\"node\">\n<title>41</title>\n<path fill=\"#78bced\" stroke=\"#000000\" d=\"M2960,-261C2960,-261 2801,-261 2801,-261 2795,-261 2789,-255 2789,-249 2789,-249 2789,-205 2789,-205 2789,-199 2795,-193 2801,-193 2801,-193 2960,-193 2960,-193 2966,-193 2972,-199 2972,-205 2972,-205 2972,-249 2972,-249 2972,-255 2966,-261 2960,-261\"/>\n<text text-anchor=\"middle\" x=\"2880.5\" y=\"-245.8\" font-family=\"Helvetica,sans-Serif\" font-size=\"14.00\" fill=\"#000000\">blueTotalGold &lt;= 17162.0</text>\n<text text-anchor=\"middle\" x=\"2880.5\" y=\"-230.8\" font-family=\"Helvetica,sans-Serif\" font-size=\"14.00\" fill=\"#000000\">gini = 0.365</text>\n<text text-anchor=\"middle\" x=\"2880.5\" y=\"-215.8\" font-family=\"Helvetica,sans-Serif\" font-size=\"14.00\" fill=\"#000000\">samples = 1215</text>\n<text text-anchor=\"middle\" x=\"2880.5\" y=\"-200.8\" font-family=\"Helvetica,sans-Serif\" font-size=\"14.00\" fill=\"#000000\">value = [292, 923]</text>\n</g>\n<!-- 33&#45;&gt;41 -->\n<g id=\"edge41\" class=\"edge\">\n<title>33&#45;&gt;41</title>\n<path fill=\"none\" stroke=\"#000000\" d=\"M2768.182,-296.9465C2783.7529,-287.2497 2800.8476,-276.6039 2816.9004,-266.6069\"/>\n<polygon fill=\"#000000\" stroke=\"#000000\" points=\"2819.0568,-269.3873 2825.6951,-261.13 2815.3563,-263.4453 2819.0568,-269.3873\"/>\n</g>\n<!-- 35 -->\n<g id=\"node36\" class=\"node\">\n<title>35</title>\n<path fill=\"#4ca6e7\" stroke=\"#000000\" d=\"M2495,-157C2495,-157 2336,-157 2336,-157 2330,-157 2324,-151 2324,-145 2324,-145 2324,-101 2324,-101 2324,-95 2330,-89 2336,-89 2336,-89 2495,-89 2495,-89 2501,-89 2507,-95 2507,-101 2507,-101 2507,-145 2507,-145 2507,-151 2501,-157 2495,-157\"/>\n<text text-anchor=\"middle\" x=\"2415.5\" y=\"-141.8\" font-family=\"Helvetica,sans-Serif\" font-size=\"14.00\" fill=\"#000000\">blueTotalGold &lt;= 18233.5</text>\n<text text-anchor=\"middle\" x=\"2415.5\" y=\"-126.8\" font-family=\"Helvetica,sans-Serif\" font-size=\"14.00\" fill=\"#000000\">gini = 0.159</text>\n<text text-anchor=\"middle\" x=\"2415.5\" y=\"-111.8\" font-family=\"Helvetica,sans-Serif\" font-size=\"14.00\" fill=\"#000000\">samples = 987</text>\n<text text-anchor=\"middle\" x=\"2415.5\" y=\"-96.8\" font-family=\"Helvetica,sans-Serif\" font-size=\"14.00\" fill=\"#000000\">value = [86, 901]</text>\n</g>\n<!-- 34&#45;&gt;35 -->\n<g id=\"edge35\" class=\"edge\">\n<title>34&#45;&gt;35</title>\n<path fill=\"none\" stroke=\"#000000\" d=\"M2571.231,-194.6638C2548.3528,-184.1358 2522.734,-172.3466 2498.9855,-161.4181\"/>\n<polygon fill=\"#000000\" stroke=\"#000000\" points=\"2500.1852,-158.1174 2489.6378,-157.1165 2497.2589,-164.4764 2500.1852,-158.1174\"/>\n</g>\n<!-- 38 -->\n<g id=\"node39\" class=\"node\">\n<title>38</title>\n<path fill=\"#6db7ec\" stroke=\"#000000\" d=\"M2691.5,-157C2691.5,-157 2591.5,-157 2591.5,-157 2585.5,-157 2579.5,-151 2579.5,-145 2579.5,-145 2579.5,-101 2579.5,-101 2579.5,-95 2585.5,-89 2591.5,-89 2591.5,-89 2691.5,-89 2691.5,-89 2697.5,-89 2703.5,-95 2703.5,-101 2703.5,-101 2703.5,-145 2703.5,-145 2703.5,-151 2697.5,-157 2691.5,-157\"/>\n<text text-anchor=\"middle\" x=\"2641.5\" y=\"-141.8\" font-family=\"Helvetica,sans-Serif\" font-size=\"14.00\" fill=\"#000000\">redKills &lt;= 4.5</text>\n<text text-anchor=\"middle\" x=\"2641.5\" y=\"-126.8\" font-family=\"Helvetica,sans-Serif\" font-size=\"14.00\" fill=\"#000000\">gini = 0.33</text>\n<text text-anchor=\"middle\" x=\"2641.5\" y=\"-111.8\" font-family=\"Helvetica,sans-Serif\" font-size=\"14.00\" fill=\"#000000\">samples = 312</text>\n<text text-anchor=\"middle\" x=\"2641.5\" y=\"-96.8\" font-family=\"Helvetica,sans-Serif\" font-size=\"14.00\" fill=\"#000000\">value = [65, 247]</text>\n</g>\n<!-- 34&#45;&gt;38 -->\n<g id=\"edge38\" class=\"edge\">\n<title>34&#45;&gt;38</title>\n<path fill=\"none\" stroke=\"#000000\" d=\"M2641.5,-192.9465C2641.5,-184.776 2641.5,-175.9318 2641.5,-167.3697\"/>\n<polygon fill=\"#000000\" stroke=\"#000000\" points=\"2645.0001,-167.13 2641.5,-157.13 2638.0001,-167.13 2645.0001,-167.13\"/>\n</g>\n<!-- 36 -->\n<g id=\"node37\" class=\"node\">\n<title>36</title>\n<path fill=\"#54aae9\" stroke=\"#000000\" d=\"M2323.5,-53C2323.5,-53 2223.5,-53 2223.5,-53 2217.5,-53 2211.5,-47 2211.5,-41 2211.5,-41 2211.5,-12 2211.5,-12 2211.5,-6 2217.5,0 2223.5,0 2223.5,0 2323.5,0 2323.5,0 2329.5,0 2335.5,-6 2335.5,-12 2335.5,-12 2335.5,-41 2335.5,-41 2335.5,-47 2329.5,-53 2323.5,-53\"/>\n<text text-anchor=\"middle\" x=\"2273.5\" y=\"-37.8\" font-family=\"Helvetica,sans-Serif\" font-size=\"14.00\" fill=\"#000000\">gini = 0.211</text>\n<text text-anchor=\"middle\" x=\"2273.5\" y=\"-22.8\" font-family=\"Helvetica,sans-Serif\" font-size=\"14.00\" fill=\"#000000\">samples = 626</text>\n<text text-anchor=\"middle\" x=\"2273.5\" y=\"-7.8\" font-family=\"Helvetica,sans-Serif\" font-size=\"14.00\" fill=\"#000000\">value = [75, 551]</text>\n</g>\n<!-- 35&#45;&gt;36 -->\n<g id=\"edge36\" class=\"edge\">\n<title>35&#45;&gt;36</title>\n<path fill=\"none\" stroke=\"#000000\" d=\"M2365.4361,-88.9777C2351.1531,-79.2713 2335.6287,-68.7213 2321.4737,-59.1018\"/>\n<polygon fill=\"#000000\" stroke=\"#000000\" points=\"2323.0986,-55.9744 2312.8605,-53.2485 2319.1641,-61.764 2323.0986,-55.9744\"/>\n</g>\n<!-- 37 -->\n<g id=\"node38\" class=\"node\">\n<title>37</title>\n<path fill=\"#3fa0e6\" stroke=\"#000000\" d=\"M2465.5,-53C2465.5,-53 2365.5,-53 2365.5,-53 2359.5,-53 2353.5,-47 2353.5,-41 2353.5,-41 2353.5,-12 2353.5,-12 2353.5,-6 2359.5,0 2365.5,0 2365.5,0 2465.5,0 2465.5,0 2471.5,0 2477.5,-6 2477.5,-12 2477.5,-12 2477.5,-41 2477.5,-41 2477.5,-47 2471.5,-53 2465.5,-53\"/>\n<text text-anchor=\"middle\" x=\"2415.5\" y=\"-37.8\" font-family=\"Helvetica,sans-Serif\" font-size=\"14.00\" fill=\"#000000\">gini = 0.059</text>\n<text text-anchor=\"middle\" x=\"2415.5\" y=\"-22.8\" font-family=\"Helvetica,sans-Serif\" font-size=\"14.00\" fill=\"#000000\">samples = 361</text>\n<text text-anchor=\"middle\" x=\"2415.5\" y=\"-7.8\" font-family=\"Helvetica,sans-Serif\" font-size=\"14.00\" fill=\"#000000\">value = [11, 350]</text>\n</g>\n<!-- 35&#45;&gt;37 -->\n<g id=\"edge37\" class=\"edge\">\n<title>35&#45;&gt;37</title>\n<path fill=\"none\" stroke=\"#000000\" d=\"M2415.5,-88.9777C2415.5,-80.7364 2415.5,-71.887 2415.5,-63.5153\"/>\n<polygon fill=\"#000000\" stroke=\"#000000\" points=\"2419.0001,-63.2484 2415.5,-53.2485 2412.0001,-63.2485 2419.0001,-63.2484\"/>\n</g>\n<!-- 39 -->\n<g id=\"node40\" class=\"node\">\n<title>39</title>\n<path fill=\"#66b3eb\" stroke=\"#000000\" d=\"M2607.5,-53C2607.5,-53 2507.5,-53 2507.5,-53 2501.5,-53 2495.5,-47 2495.5,-41 2495.5,-41 2495.5,-12 2495.5,-12 2495.5,-6 2501.5,0 2507.5,0 2507.5,0 2607.5,0 2607.5,0 2613.5,0 2619.5,-6 2619.5,-12 2619.5,-12 2619.5,-41 2619.5,-41 2619.5,-47 2613.5,-53 2607.5,-53\"/>\n<text text-anchor=\"middle\" x=\"2557.5\" y=\"-37.8\" font-family=\"Helvetica,sans-Serif\" font-size=\"14.00\" fill=\"#000000\">gini = 0.301</text>\n<text text-anchor=\"middle\" x=\"2557.5\" y=\"-22.8\" font-family=\"Helvetica,sans-Serif\" font-size=\"14.00\" fill=\"#000000\">samples = 276</text>\n<text text-anchor=\"middle\" x=\"2557.5\" y=\"-7.8\" font-family=\"Helvetica,sans-Serif\" font-size=\"14.00\" fill=\"#000000\">value = [51, 225]</text>\n</g>\n<!-- 38&#45;&gt;39 -->\n<g id=\"edge39\" class=\"edge\">\n<title>38&#45;&gt;39</title>\n<path fill=\"none\" stroke=\"#000000\" d=\"M2611.8847,-88.9777C2603.9936,-79.9123 2595.4619,-70.111 2587.5478,-61.0192\"/>\n<polygon fill=\"#000000\" stroke=\"#000000\" points=\"2589.9893,-58.4932 2580.7836,-53.2485 2584.7094,-63.0892 2589.9893,-58.4932\"/>\n</g>\n<!-- 40 -->\n<g id=\"node41\" class=\"node\">\n<title>40</title>\n<path fill=\"#b7dbf6\" stroke=\"#000000\" d=\"M2741.5,-53C2741.5,-53 2649.5,-53 2649.5,-53 2643.5,-53 2637.5,-47 2637.5,-41 2637.5,-41 2637.5,-12 2637.5,-12 2637.5,-6 2643.5,0 2649.5,0 2649.5,0 2741.5,0 2741.5,0 2747.5,0 2753.5,-6 2753.5,-12 2753.5,-12 2753.5,-41 2753.5,-41 2753.5,-47 2747.5,-53 2741.5,-53\"/>\n<text text-anchor=\"middle\" x=\"2695.5\" y=\"-37.8\" font-family=\"Helvetica,sans-Serif\" font-size=\"14.00\" fill=\"#000000\">gini = 0.475</text>\n<text text-anchor=\"middle\" x=\"2695.5\" y=\"-22.8\" font-family=\"Helvetica,sans-Serif\" font-size=\"14.00\" fill=\"#000000\">samples = 36</text>\n<text text-anchor=\"middle\" x=\"2695.5\" y=\"-7.8\" font-family=\"Helvetica,sans-Serif\" font-size=\"14.00\" fill=\"#000000\">value = [14, 22]</text>\n</g>\n<!-- 38&#45;&gt;40 -->\n<g id=\"edge40\" class=\"edge\">\n<title>38&#45;&gt;40</title>\n<path fill=\"none\" stroke=\"#000000\" d=\"M2660.5384,-88.9777C2665.4063,-80.2786 2670.6534,-70.9018 2675.565,-62.1247\"/>\n<polygon fill=\"#000000\" stroke=\"#000000\" points=\"2678.7029,-63.6843 2680.5319,-53.2485 2672.5943,-60.2659 2678.7029,-63.6843\"/>\n</g>\n<!-- 42 -->\n<g id=\"node43\" class=\"node\">\n<title>42</title>\n<path fill=\"#99cdf2\" stroke=\"#000000\" d=\"M2981.5,-157C2981.5,-157 2779.5,-157 2779.5,-157 2773.5,-157 2767.5,-151 2767.5,-145 2767.5,-145 2767.5,-101 2767.5,-101 2767.5,-95 2773.5,-89 2779.5,-89 2779.5,-89 2981.5,-89 2981.5,-89 2987.5,-89 2993.5,-95 2993.5,-101 2993.5,-101 2993.5,-145 2993.5,-145 2993.5,-151 2987.5,-157 2981.5,-157\"/>\n<text text-anchor=\"middle\" x=\"2880.5\" y=\"-141.8\" font-family=\"Helvetica,sans-Serif\" font-size=\"14.00\" fill=\"#000000\">blueTotalExperience &lt;= 18949.0</text>\n<text text-anchor=\"middle\" x=\"2880.5\" y=\"-126.8\" font-family=\"Helvetica,sans-Serif\" font-size=\"14.00\" fill=\"#000000\">gini = 0.44</text>\n<text text-anchor=\"middle\" x=\"2880.5\" y=\"-111.8\" font-family=\"Helvetica,sans-Serif\" font-size=\"14.00\" fill=\"#000000\">samples = 487</text>\n<text text-anchor=\"middle\" x=\"2880.5\" y=\"-96.8\" font-family=\"Helvetica,sans-Serif\" font-size=\"14.00\" fill=\"#000000\">value = [159, 328]</text>\n</g>\n<!-- 41&#45;&gt;42 -->\n<g id=\"edge42\" class=\"edge\">\n<title>41&#45;&gt;42</title>\n<path fill=\"none\" stroke=\"#000000\" d=\"M2880.5,-192.9465C2880.5,-184.776 2880.5,-175.9318 2880.5,-167.3697\"/>\n<polygon fill=\"#000000\" stroke=\"#000000\" points=\"2884.0001,-167.13 2880.5,-157.13 2877.0001,-167.13 2884.0001,-167.13\"/>\n</g>\n<!-- 45 -->\n<g id=\"node46\" class=\"node\">\n<title>45</title>\n<path fill=\"#65b3eb\" stroke=\"#000000\" d=\"M3185.5,-157C3185.5,-157 3065.5,-157 3065.5,-157 3059.5,-157 3053.5,-151 3053.5,-145 3053.5,-145 3053.5,-101 3053.5,-101 3053.5,-95 3059.5,-89 3065.5,-89 3065.5,-89 3185.5,-89 3185.5,-89 3191.5,-89 3197.5,-95 3197.5,-101 3197.5,-101 3197.5,-145 3197.5,-145 3197.5,-151 3191.5,-157 3185.5,-157\"/>\n<text text-anchor=\"middle\" x=\"3125.5\" y=\"-141.8\" font-family=\"Helvetica,sans-Serif\" font-size=\"14.00\" fill=\"#000000\">blueDragons &lt;= 0.5</text>\n<text text-anchor=\"middle\" x=\"3125.5\" y=\"-126.8\" font-family=\"Helvetica,sans-Serif\" font-size=\"14.00\" fill=\"#000000\">gini = 0.299</text>\n<text text-anchor=\"middle\" x=\"3125.5\" y=\"-111.8\" font-family=\"Helvetica,sans-Serif\" font-size=\"14.00\" fill=\"#000000\">samples = 728</text>\n<text text-anchor=\"middle\" x=\"3125.5\" y=\"-96.8\" font-family=\"Helvetica,sans-Serif\" font-size=\"14.00\" fill=\"#000000\">value = [133, 595]</text>\n</g>\n<!-- 41&#45;&gt;45 -->\n<g id=\"edge45\" class=\"edge\">\n<title>41&#45;&gt;45</title>\n<path fill=\"none\" stroke=\"#000000\" d=\"M2960.7222,-192.9465C2987.4372,-181.6063 3017.2099,-168.968 3044.0193,-157.5877\"/>\n<polygon fill=\"#000000\" stroke=\"#000000\" points=\"3045.5313,-160.7483 3053.3687,-153.619 3042.796,-154.3047 3045.5313,-160.7483\"/>\n</g>\n<!-- 43 -->\n<g id=\"node44\" class=\"node\">\n<title>43</title>\n<path fill=\"#b0d8f5\" stroke=\"#000000\" d=\"M2891.5,-53C2891.5,-53 2783.5,-53 2783.5,-53 2777.5,-53 2771.5,-47 2771.5,-41 2771.5,-41 2771.5,-12 2771.5,-12 2771.5,-6 2777.5,0 2783.5,0 2783.5,0 2891.5,0 2891.5,0 2897.5,0 2903.5,-6 2903.5,-12 2903.5,-12 2903.5,-41 2903.5,-41 2903.5,-47 2897.5,-53 2891.5,-53\"/>\n<text text-anchor=\"middle\" x=\"2837.5\" y=\"-37.8\" font-family=\"Helvetica,sans-Serif\" font-size=\"14.00\" fill=\"#000000\">gini = 0.469</text>\n<text text-anchor=\"middle\" x=\"2837.5\" y=\"-22.8\" font-family=\"Helvetica,sans-Serif\" font-size=\"14.00\" fill=\"#000000\">samples = 362</text>\n<text text-anchor=\"middle\" x=\"2837.5\" y=\"-7.8\" font-family=\"Helvetica,sans-Serif\" font-size=\"14.00\" fill=\"#000000\">value = [136, 226]</text>\n</g>\n<!-- 42&#45;&gt;43 -->\n<g id=\"edge43\" class=\"edge\">\n<title>42&#45;&gt;43</title>\n<path fill=\"none\" stroke=\"#000000\" d=\"M2865.3398,-88.9777C2861.5043,-80.3702 2857.3732,-71.0992 2853.4978,-62.402\"/>\n<polygon fill=\"#000000\" stroke=\"#000000\" points=\"2856.6862,-60.9581 2849.419,-53.2485 2850.2923,-63.8073 2856.6862,-60.9581\"/>\n</g>\n<!-- 44 -->\n<g id=\"node45\" class=\"node\">\n<title>44</title>\n<path fill=\"#66b3eb\" stroke=\"#000000\" d=\"M3033.5,-53C3033.5,-53 2933.5,-53 2933.5,-53 2927.5,-53 2921.5,-47 2921.5,-41 2921.5,-41 2921.5,-12 2921.5,-12 2921.5,-6 2927.5,0 2933.5,0 2933.5,0 3033.5,0 3033.5,0 3039.5,0 3045.5,-6 3045.5,-12 3045.5,-12 3045.5,-41 3045.5,-41 3045.5,-47 3039.5,-53 3033.5,-53\"/>\n<text text-anchor=\"middle\" x=\"2983.5\" y=\"-37.8\" font-family=\"Helvetica,sans-Serif\" font-size=\"14.00\" fill=\"#000000\">gini = 0.3</text>\n<text text-anchor=\"middle\" x=\"2983.5\" y=\"-22.8\" font-family=\"Helvetica,sans-Serif\" font-size=\"14.00\" fill=\"#000000\">samples = 125</text>\n<text text-anchor=\"middle\" x=\"2983.5\" y=\"-7.8\" font-family=\"Helvetica,sans-Serif\" font-size=\"14.00\" fill=\"#000000\">value = [23, 102]</text>\n</g>\n<!-- 42&#45;&gt;44 -->\n<g id=\"edge44\" class=\"edge\">\n<title>42&#45;&gt;44</title>\n<path fill=\"none\" stroke=\"#000000\" d=\"M2916.8139,-88.9777C2926.7832,-79.6376 2937.5862,-69.5163 2947.5357,-60.1947\"/>\n<polygon fill=\"#000000\" stroke=\"#000000\" points=\"2950.0452,-62.6397 2954.9498,-53.2485 2945.2592,-57.5314 2950.0452,-62.6397\"/>\n</g>\n<!-- 46 -->\n<g id=\"node47\" class=\"node\">\n<title>46</title>\n<path fill=\"#76bbed\" stroke=\"#000000\" d=\"M3175.5,-53C3175.5,-53 3075.5,-53 3075.5,-53 3069.5,-53 3063.5,-47 3063.5,-41 3063.5,-41 3063.5,-12 3063.5,-12 3063.5,-6 3069.5,0 3075.5,0 3075.5,0 3175.5,0 3175.5,0 3181.5,0 3187.5,-6 3187.5,-12 3187.5,-12 3187.5,-41 3187.5,-41 3187.5,-47 3181.5,-53 3175.5,-53\"/>\n<text text-anchor=\"middle\" x=\"3125.5\" y=\"-37.8\" font-family=\"Helvetica,sans-Serif\" font-size=\"14.00\" fill=\"#000000\">gini = 0.359</text>\n<text text-anchor=\"middle\" x=\"3125.5\" y=\"-22.8\" font-family=\"Helvetica,sans-Serif\" font-size=\"14.00\" fill=\"#000000\">samples = 392</text>\n<text text-anchor=\"middle\" x=\"3125.5\" y=\"-7.8\" font-family=\"Helvetica,sans-Serif\" font-size=\"14.00\" fill=\"#000000\">value = [92, 300]</text>\n</g>\n<!-- 45&#45;&gt;46 -->\n<g id=\"edge46\" class=\"edge\">\n<title>45&#45;&gt;46</title>\n<path fill=\"none\" stroke=\"#000000\" d=\"M3125.5,-88.9777C3125.5,-80.7364 3125.5,-71.887 3125.5,-63.5153\"/>\n<polygon fill=\"#000000\" stroke=\"#000000\" points=\"3129.0001,-63.2484 3125.5,-53.2485 3122.0001,-63.2485 3129.0001,-63.2484\"/>\n</g>\n<!-- 47 -->\n<g id=\"node48\" class=\"node\">\n<title>47</title>\n<path fill=\"#55abe9\" stroke=\"#000000\" d=\"M3317.5,-53C3317.5,-53 3217.5,-53 3217.5,-53 3211.5,-53 3205.5,-47 3205.5,-41 3205.5,-41 3205.5,-12 3205.5,-12 3205.5,-6 3211.5,0 3217.5,0 3217.5,0 3317.5,0 3317.5,0 3323.5,0 3329.5,-6 3329.5,-12 3329.5,-12 3329.5,-41 3329.5,-41 3329.5,-47 3323.5,-53 3317.5,-53\"/>\n<text text-anchor=\"middle\" x=\"3267.5\" y=\"-37.8\" font-family=\"Helvetica,sans-Serif\" font-size=\"14.00\" fill=\"#000000\">gini = 0.214</text>\n<text text-anchor=\"middle\" x=\"3267.5\" y=\"-22.8\" font-family=\"Helvetica,sans-Serif\" font-size=\"14.00\" fill=\"#000000\">samples = 336</text>\n<text text-anchor=\"middle\" x=\"3267.5\" y=\"-7.8\" font-family=\"Helvetica,sans-Serif\" font-size=\"14.00\" fill=\"#000000\">value = [41, 295]</text>\n</g>\n<!-- 45&#45;&gt;47 -->\n<g id=\"edge47\" class=\"edge\">\n<title>45&#45;&gt;47</title>\n<path fill=\"none\" stroke=\"#000000\" d=\"M3175.5639,-88.9777C3189.8469,-79.2713 3205.3713,-68.7213 3219.5263,-59.1018\"/>\n<polygon fill=\"#000000\" stroke=\"#000000\" points=\"3221.8359,-61.764 3228.1395,-53.2485 3217.9014,-55.9744 3221.8359,-61.764\"/>\n</g>\n<!-- 49 -->\n<g id=\"node50\" class=\"node\">\n<title>49</title>\n<path fill=\"#fae6d8\" stroke=\"#000000\" d=\"M3715.5,-261C3715.5,-261 3563.5,-261 3563.5,-261 3557.5,-261 3551.5,-255 3551.5,-249 3551.5,-249 3551.5,-205 3551.5,-205 3551.5,-199 3557.5,-193 3563.5,-193 3563.5,-193 3715.5,-193 3715.5,-193 3721.5,-193 3727.5,-199 3727.5,-205 3727.5,-205 3727.5,-249 3727.5,-249 3727.5,-255 3721.5,-261 3715.5,-261\"/>\n<text text-anchor=\"middle\" x=\"3639.5\" y=\"-245.8\" font-family=\"Helvetica,sans-Serif\" font-size=\"14.00\" fill=\"#000000\">redTotalGold &lt;= 17789.5</text>\n<text text-anchor=\"middle\" x=\"3639.5\" y=\"-230.8\" font-family=\"Helvetica,sans-Serif\" font-size=\"14.00\" fill=\"#000000\">gini = 0.494</text>\n<text text-anchor=\"middle\" x=\"3639.5\" y=\"-215.8\" font-family=\"Helvetica,sans-Serif\" font-size=\"14.00\" fill=\"#000000\">samples = 1776</text>\n<text text-anchor=\"middle\" x=\"3639.5\" y=\"-200.8\" font-family=\"Helvetica,sans-Serif\" font-size=\"14.00\" fill=\"#000000\">value = [984, 792]</text>\n</g>\n<!-- 48&#45;&gt;49 -->\n<g id=\"edge49\" class=\"edge\">\n<title>48&#45;&gt;49</title>\n<path fill=\"none\" stroke=\"#000000\" d=\"M3639.5,-296.9465C3639.5,-288.776 3639.5,-279.9318 3639.5,-271.3697\"/>\n<polygon fill=\"#000000\" stroke=\"#000000\" points=\"3643.0001,-271.13 3639.5,-261.13 3636.0001,-271.13 3643.0001,-271.13\"/>\n</g>\n<!-- 56 -->\n<g id=\"node57\" class=\"node\">\n<title>56</title>\n<path fill=\"#98ccf1\" stroke=\"#000000\" d=\"M4106.5,-261C4106.5,-261 3954.5,-261 3954.5,-261 3948.5,-261 3942.5,-255 3942.5,-249 3942.5,-249 3942.5,-205 3942.5,-205 3942.5,-199 3948.5,-193 3954.5,-193 3954.5,-193 4106.5,-193 4106.5,-193 4112.5,-193 4118.5,-199 4118.5,-205 4118.5,-205 4118.5,-249 4118.5,-249 4118.5,-255 4112.5,-261 4106.5,-261\"/>\n<text text-anchor=\"middle\" x=\"4030.5\" y=\"-245.8\" font-family=\"Helvetica,sans-Serif\" font-size=\"14.00\" fill=\"#000000\">redTotalGold &lt;= 18274.0</text>\n<text text-anchor=\"middle\" x=\"4030.5\" y=\"-230.8\" font-family=\"Helvetica,sans-Serif\" font-size=\"14.00\" fill=\"#000000\">gini = 0.438</text>\n<text text-anchor=\"middle\" x=\"4030.5\" y=\"-215.8\" font-family=\"Helvetica,sans-Serif\" font-size=\"14.00\" fill=\"#000000\">samples = 977</text>\n<text text-anchor=\"middle\" x=\"4030.5\" y=\"-200.8\" font-family=\"Helvetica,sans-Serif\" font-size=\"14.00\" fill=\"#000000\">value = [317, 660]</text>\n</g>\n<!-- 48&#45;&gt;56 -->\n<g id=\"edge56\" class=\"edge\">\n<title>48&#45;&gt;56</title>\n<path fill=\"none\" stroke=\"#000000\" d=\"M3731.1721,-306.6166C3791.6995,-290.5173 3870.9321,-269.4426 3932.6739,-253.0202\"/>\n<polygon fill=\"#000000\" stroke=\"#000000\" points=\"3933.6631,-256.3789 3942.4274,-250.426 3931.8637,-249.6141 3933.6631,-256.3789\"/>\n</g>\n<!-- 50 -->\n<g id=\"node51\" class=\"node\">\n<title>50</title>\n<path fill=\"#fbfdfe\" stroke=\"#000000\" d=\"M3630.5,-157C3630.5,-157 3428.5,-157 3428.5,-157 3422.5,-157 3416.5,-151 3416.5,-145 3416.5,-145 3416.5,-101 3416.5,-101 3416.5,-95 3422.5,-89 3428.5,-89 3428.5,-89 3630.5,-89 3630.5,-89 3636.5,-89 3642.5,-95 3642.5,-101 3642.5,-101 3642.5,-145 3642.5,-145 3642.5,-151 3636.5,-157 3630.5,-157\"/>\n<text text-anchor=\"middle\" x=\"3529.5\" y=\"-141.8\" font-family=\"Helvetica,sans-Serif\" font-size=\"14.00\" fill=\"#000000\">blueTotalExperience &lt;= 18792.0</text>\n<text text-anchor=\"middle\" x=\"3529.5\" y=\"-126.8\" font-family=\"Helvetica,sans-Serif\" font-size=\"14.00\" fill=\"#000000\">gini = 0.5</text>\n<text text-anchor=\"middle\" x=\"3529.5\" y=\"-111.8\" font-family=\"Helvetica,sans-Serif\" font-size=\"14.00\" fill=\"#000000\">samples = 1329</text>\n<text text-anchor=\"middle\" x=\"3529.5\" y=\"-96.8\" font-family=\"Helvetica,sans-Serif\" font-size=\"14.00\" fill=\"#000000\">value = [658, 671]</text>\n</g>\n<!-- 49&#45;&gt;50 -->\n<g id=\"edge50\" class=\"edge\">\n<title>49&#45;&gt;50</title>\n<path fill=\"none\" stroke=\"#000000\" d=\"M3603.4819,-192.9465C3593.7954,-183.7884 3583.2136,-173.7838 3573.1603,-164.2788\"/>\n<polygon fill=\"#000000\" stroke=\"#000000\" points=\"3575.2701,-161.4569 3565.599,-157.13 3570.461,-166.5434 3575.2701,-161.4569\"/>\n</g>\n<!-- 53 -->\n<g id=\"node54\" class=\"node\">\n<title>53</title>\n<path fill=\"#efb082\" stroke=\"#000000\" d=\"M3824.5,-157C3824.5,-157 3672.5,-157 3672.5,-157 3666.5,-157 3660.5,-151 3660.5,-145 3660.5,-145 3660.5,-101 3660.5,-101 3660.5,-95 3666.5,-89 3672.5,-89 3672.5,-89 3824.5,-89 3824.5,-89 3830.5,-89 3836.5,-95 3836.5,-101 3836.5,-101 3836.5,-145 3836.5,-145 3836.5,-151 3830.5,-157 3824.5,-157\"/>\n<text text-anchor=\"middle\" x=\"3748.5\" y=\"-141.8\" font-family=\"Helvetica,sans-Serif\" font-size=\"14.00\" fill=\"#000000\">redTotalGold &lt;= 19870.5</text>\n<text text-anchor=\"middle\" x=\"3748.5\" y=\"-126.8\" font-family=\"Helvetica,sans-Serif\" font-size=\"14.00\" fill=\"#000000\">gini = 0.395</text>\n<text text-anchor=\"middle\" x=\"3748.5\" y=\"-111.8\" font-family=\"Helvetica,sans-Serif\" font-size=\"14.00\" fill=\"#000000\">samples = 447</text>\n<text text-anchor=\"middle\" x=\"3748.5\" y=\"-96.8\" font-family=\"Helvetica,sans-Serif\" font-size=\"14.00\" fill=\"#000000\">value = [326, 121]</text>\n</g>\n<!-- 49&#45;&gt;53 -->\n<g id=\"edge53\" class=\"edge\">\n<title>49&#45;&gt;53</title>\n<path fill=\"none\" stroke=\"#000000\" d=\"M3675.1907,-192.9465C3684.7891,-183.7884 3695.2747,-173.7838 3705.2366,-164.2788\"/>\n<polygon fill=\"#000000\" stroke=\"#000000\" points=\"3707.9102,-166.5655 3712.7291,-157.13 3703.0779,-161.5009 3707.9102,-166.5655\"/>\n</g>\n<!-- 51 -->\n<g id=\"node52\" class=\"node\">\n<title>51</title>\n<path fill=\"#fcf1e9\" stroke=\"#000000\" d=\"M3467.5,-53C3467.5,-53 3359.5,-53 3359.5,-53 3353.5,-53 3347.5,-47 3347.5,-41 3347.5,-41 3347.5,-12 3347.5,-12 3347.5,-6 3353.5,0 3359.5,0 3359.5,0 3467.5,0 3467.5,0 3473.5,0 3479.5,-6 3479.5,-12 3479.5,-12 3479.5,-41 3479.5,-41 3479.5,-47 3473.5,-53 3467.5,-53\"/>\n<text text-anchor=\"middle\" x=\"3413.5\" y=\"-37.8\" font-family=\"Helvetica,sans-Serif\" font-size=\"14.00\" fill=\"#000000\">gini = 0.498</text>\n<text text-anchor=\"middle\" x=\"3413.5\" y=\"-22.8\" font-family=\"Helvetica,sans-Serif\" font-size=\"14.00\" fill=\"#000000\">samples = 1049</text>\n<text text-anchor=\"middle\" x=\"3413.5\" y=\"-7.8\" font-family=\"Helvetica,sans-Serif\" font-size=\"14.00\" fill=\"#000000\">value = [555, 494]</text>\n</g>\n<!-- 50&#45;&gt;51 -->\n<g id=\"edge51\" class=\"edge\">\n<title>50&#45;&gt;51</title>\n<path fill=\"none\" stroke=\"#000000\" d=\"M3488.6027,-88.9777C3477.1551,-79.4545 3464.7313,-69.1191 3453.3455,-59.6473\"/>\n<polygon fill=\"#000000\" stroke=\"#000000\" points=\"3455.5797,-56.9532 3445.6536,-53.2485 3451.1029,-62.3345 3455.5797,-56.9532\"/>\n</g>\n<!-- 52 -->\n<g id=\"node53\" class=\"node\">\n<title>52</title>\n<path fill=\"#acd6f4\" stroke=\"#000000\" d=\"M3617.5,-53C3617.5,-53 3509.5,-53 3509.5,-53 3503.5,-53 3497.5,-47 3497.5,-41 3497.5,-41 3497.5,-12 3497.5,-12 3497.5,-6 3503.5,0 3509.5,0 3509.5,0 3617.5,0 3617.5,0 3623.5,0 3629.5,-6 3629.5,-12 3629.5,-12 3629.5,-41 3629.5,-41 3629.5,-47 3623.5,-53 3617.5,-53\"/>\n<text text-anchor=\"middle\" x=\"3563.5\" y=\"-37.8\" font-family=\"Helvetica,sans-Serif\" font-size=\"14.00\" fill=\"#000000\">gini = 0.465</text>\n<text text-anchor=\"middle\" x=\"3563.5\" y=\"-22.8\" font-family=\"Helvetica,sans-Serif\" font-size=\"14.00\" fill=\"#000000\">samples = 280</text>\n<text text-anchor=\"middle\" x=\"3563.5\" y=\"-7.8\" font-family=\"Helvetica,sans-Serif\" font-size=\"14.00\" fill=\"#000000\">value = [103, 177]</text>\n</g>\n<!-- 50&#45;&gt;52 -->\n<g id=\"edge52\" class=\"edge\">\n<title>50&#45;&gt;52</title>\n<path fill=\"none\" stroke=\"#000000\" d=\"M3541.4871,-88.9777C3544.4553,-80.5533 3547.6474,-71.4934 3550.6547,-62.9579\"/>\n<polygon fill=\"#000000\" stroke=\"#000000\" points=\"3554.0536,-63.8433 3554.0757,-53.2485 3547.4514,-61.5171 3554.0536,-63.8433\"/>\n</g>\n<!-- 54 -->\n<g id=\"node55\" class=\"node\">\n<title>54</title>\n<path fill=\"#f0b58a\" stroke=\"#000000\" d=\"M3767.5,-53C3767.5,-53 3659.5,-53 3659.5,-53 3653.5,-53 3647.5,-47 3647.5,-41 3647.5,-41 3647.5,-12 3647.5,-12 3647.5,-6 3653.5,0 3659.5,0 3659.5,0 3767.5,0 3767.5,0 3773.5,0 3779.5,-6 3779.5,-12 3779.5,-12 3779.5,-41 3779.5,-41 3779.5,-47 3773.5,-53 3767.5,-53\"/>\n<text text-anchor=\"middle\" x=\"3713.5\" y=\"-37.8\" font-family=\"Helvetica,sans-Serif\" font-size=\"14.00\" fill=\"#000000\">gini = 0.412</text>\n<text text-anchor=\"middle\" x=\"3713.5\" y=\"-22.8\" font-family=\"Helvetica,sans-Serif\" font-size=\"14.00\" fill=\"#000000\">samples = 406</text>\n<text text-anchor=\"middle\" x=\"3713.5\" y=\"-7.8\" font-family=\"Helvetica,sans-Serif\" font-size=\"14.00\" fill=\"#000000\">value = [288, 118]</text>\n</g>\n<!-- 53&#45;&gt;54 -->\n<g id=\"edge54\" class=\"edge\">\n<title>53&#45;&gt;54</title>\n<path fill=\"none\" stroke=\"#000000\" d=\"M3736.1603,-88.9777C3733.0716,-80.4617 3729.7474,-71.2963 3726.6222,-62.6798\"/>\n<polygon fill=\"#000000\" stroke=\"#000000\" points=\"3729.9015,-61.4559 3723.2015,-53.2485 3723.3209,-63.8426 3729.9015,-61.4559\"/>\n</g>\n<!-- 55 -->\n<g id=\"node56\" class=\"node\">\n<title>55</title>\n<path fill=\"#e78b49\" stroke=\"#000000\" d=\"M3893,-53C3893,-53 3810,-53 3810,-53 3804,-53 3798,-47 3798,-41 3798,-41 3798,-12 3798,-12 3798,-6 3804,0 3810,0 3810,0 3893,0 3893,0 3899,0 3905,-6 3905,-12 3905,-12 3905,-41 3905,-41 3905,-47 3899,-53 3893,-53\"/>\n<text text-anchor=\"middle\" x=\"3851.5\" y=\"-37.8\" font-family=\"Helvetica,sans-Serif\" font-size=\"14.00\" fill=\"#000000\">gini = 0.136</text>\n<text text-anchor=\"middle\" x=\"3851.5\" y=\"-22.8\" font-family=\"Helvetica,sans-Serif\" font-size=\"14.00\" fill=\"#000000\">samples = 41</text>\n<text text-anchor=\"middle\" x=\"3851.5\" y=\"-7.8\" font-family=\"Helvetica,sans-Serif\" font-size=\"14.00\" fill=\"#000000\">value = [38, 3]</text>\n</g>\n<!-- 53&#45;&gt;55 -->\n<g id=\"edge55\" class=\"edge\">\n<title>53&#45;&gt;55</title>\n<path fill=\"none\" stroke=\"#000000\" d=\"M3784.8139,-88.9777C3794.7832,-79.6376 3805.5862,-69.5163 3815.5357,-60.1947\"/>\n<polygon fill=\"#000000\" stroke=\"#000000\" points=\"3818.0452,-62.6397 3822.9498,-53.2485 3813.2592,-57.5314 3818.0452,-62.6397\"/>\n</g>\n<!-- 57 -->\n<g id=\"node58\" class=\"node\">\n<title>57</title>\n<path fill=\"#8bc6f0\" stroke=\"#000000\" d=\"M4110,-157C4110,-157 3951,-157 3951,-157 3945,-157 3939,-151 3939,-145 3939,-145 3939,-101 3939,-101 3939,-95 3945,-89 3951,-89 3951,-89 4110,-89 4110,-89 4116,-89 4122,-95 4122,-101 4122,-101 4122,-145 4122,-145 4122,-151 4116,-157 4110,-157\"/>\n<text text-anchor=\"middle\" x=\"4030.5\" y=\"-141.8\" font-family=\"Helvetica,sans-Serif\" font-size=\"14.00\" fill=\"#000000\">blueTotalGold &lt;= 18379.5</text>\n<text text-anchor=\"middle\" x=\"4030.5\" y=\"-126.8\" font-family=\"Helvetica,sans-Serif\" font-size=\"14.00\" fill=\"#000000\">gini = 0.414</text>\n<text text-anchor=\"middle\" x=\"4030.5\" y=\"-111.8\" font-family=\"Helvetica,sans-Serif\" font-size=\"14.00\" fill=\"#000000\">samples = 858</text>\n<text text-anchor=\"middle\" x=\"4030.5\" y=\"-96.8\" font-family=\"Helvetica,sans-Serif\" font-size=\"14.00\" fill=\"#000000\">value = [251, 607]</text>\n</g>\n<!-- 56&#45;&gt;57 -->\n<g id=\"edge57\" class=\"edge\">\n<title>56&#45;&gt;57</title>\n<path fill=\"none\" stroke=\"#000000\" d=\"M4030.5,-192.9465C4030.5,-184.776 4030.5,-175.9318 4030.5,-167.3697\"/>\n<polygon fill=\"#000000\" stroke=\"#000000\" points=\"4034.0001,-167.13 4030.5,-157.13 4027.0001,-167.13 4034.0001,-167.13\"/>\n</g>\n<!-- 60 -->\n<g id=\"node61\" class=\"node\">\n<title>60</title>\n<path fill=\"#fae6d8\" stroke=\"#000000\" d=\"M4353,-157C4353,-157 4194,-157 4194,-157 4188,-157 4182,-151 4182,-145 4182,-145 4182,-101 4182,-101 4182,-95 4188,-89 4194,-89 4194,-89 4353,-89 4353,-89 4359,-89 4365,-95 4365,-101 4365,-101 4365,-145 4365,-145 4365,-151 4359,-157 4353,-157\"/>\n<text text-anchor=\"middle\" x=\"4273.5\" y=\"-141.8\" font-family=\"Helvetica,sans-Serif\" font-size=\"14.00\" fill=\"#000000\">blueTotalGold &lt;= 18779.5</text>\n<text text-anchor=\"middle\" x=\"4273.5\" y=\"-126.8\" font-family=\"Helvetica,sans-Serif\" font-size=\"14.00\" fill=\"#000000\">gini = 0.494</text>\n<text text-anchor=\"middle\" x=\"4273.5\" y=\"-111.8\" font-family=\"Helvetica,sans-Serif\" font-size=\"14.00\" fill=\"#000000\">samples = 119</text>\n<text text-anchor=\"middle\" x=\"4273.5\" y=\"-96.8\" font-family=\"Helvetica,sans-Serif\" font-size=\"14.00\" fill=\"#000000\">value = [66, 53]</text>\n</g>\n<!-- 56&#45;&gt;60 -->\n<g id=\"edge60\" class=\"edge\">\n<title>56&#45;&gt;60</title>\n<path fill=\"none\" stroke=\"#000000\" d=\"M4110.0673,-192.9465C4133.8781,-182.7559 4160.1379,-171.5171 4184.5132,-161.0849\"/>\n<polygon fill=\"#000000\" stroke=\"#000000\" points=\"4185.9377,-164.2824 4193.754,-157.13 4183.1834,-157.847 4185.9377,-164.2824\"/>\n</g>\n<!-- 58 -->\n<g id=\"node59\" class=\"node\">\n<title>58</title>\n<path fill=\"#add7f4\" stroke=\"#000000\" d=\"M4043.5,-53C4043.5,-53 3935.5,-53 3935.5,-53 3929.5,-53 3923.5,-47 3923.5,-41 3923.5,-41 3923.5,-12 3923.5,-12 3923.5,-6 3929.5,0 3935.5,0 3935.5,0 4043.5,0 4043.5,0 4049.5,0 4055.5,-6 4055.5,-12 4055.5,-12 4055.5,-41 4055.5,-41 4055.5,-47 4049.5,-53 4043.5,-53\"/>\n<text text-anchor=\"middle\" x=\"3989.5\" y=\"-37.8\" font-family=\"Helvetica,sans-Serif\" font-size=\"14.00\" fill=\"#000000\">gini = 0.466</text>\n<text text-anchor=\"middle\" x=\"3989.5\" y=\"-22.8\" font-family=\"Helvetica,sans-Serif\" font-size=\"14.00\" fill=\"#000000\">samples = 451</text>\n<text text-anchor=\"middle\" x=\"3989.5\" y=\"-7.8\" font-family=\"Helvetica,sans-Serif\" font-size=\"14.00\" fill=\"#000000\">value = [167, 284]</text>\n</g>\n<!-- 57&#45;&gt;58 -->\n<g id=\"edge58\" class=\"edge\">\n<title>57&#45;&gt;58</title>\n<path fill=\"none\" stroke=\"#000000\" d=\"M4016.0449,-88.9777C4012.4267,-80.4617 4008.5326,-71.2963 4004.8717,-62.6798\"/>\n<polygon fill=\"#000000\" stroke=\"#000000\" points=\"4007.9964,-61.0836 4000.8646,-53.2485 4001.5538,-63.8209 4007.9964,-61.0836\"/>\n</g>\n<!-- 59 -->\n<g id=\"node60\" class=\"node\">\n<title>59</title>\n<path fill=\"#6cb6ec\" stroke=\"#000000\" d=\"M4185.5,-53C4185.5,-53 4085.5,-53 4085.5,-53 4079.5,-53 4073.5,-47 4073.5,-41 4073.5,-41 4073.5,-12 4073.5,-12 4073.5,-6 4079.5,0 4085.5,0 4085.5,0 4185.5,0 4185.5,0 4191.5,0 4197.5,-6 4197.5,-12 4197.5,-12 4197.5,-41 4197.5,-41 4197.5,-47 4191.5,-53 4185.5,-53\"/>\n<text text-anchor=\"middle\" x=\"4135.5\" y=\"-37.8\" font-family=\"Helvetica,sans-Serif\" font-size=\"14.00\" fill=\"#000000\">gini = 0.328</text>\n<text text-anchor=\"middle\" x=\"4135.5\" y=\"-22.8\" font-family=\"Helvetica,sans-Serif\" font-size=\"14.00\" fill=\"#000000\">samples = 407</text>\n<text text-anchor=\"middle\" x=\"4135.5\" y=\"-7.8\" font-family=\"Helvetica,sans-Serif\" font-size=\"14.00\" fill=\"#000000\">value = [84, 323]</text>\n</g>\n<!-- 57&#45;&gt;59 -->\n<g id=\"edge59\" class=\"edge\">\n<title>57&#45;&gt;59</title>\n<path fill=\"none\" stroke=\"#000000\" d=\"M4067.5191,-88.9777C4077.6819,-79.6376 4088.6947,-69.5163 4098.8374,-60.1947\"/>\n<polygon fill=\"#000000\" stroke=\"#000000\" points=\"4101.401,-62.5923 4106.3954,-53.2485 4096.6642,-57.4383 4101.401,-62.5923\"/>\n</g>\n<!-- 61 -->\n<g id=\"node62\" class=\"node\">\n<title>61</title>\n<path fill=\"#f3c4a3\" stroke=\"#000000\" d=\"M4319.5,-53C4319.5,-53 4227.5,-53 4227.5,-53 4221.5,-53 4215.5,-47 4215.5,-41 4215.5,-41 4215.5,-12 4215.5,-12 4215.5,-6 4221.5,0 4227.5,0 4227.5,0 4319.5,0 4319.5,0 4325.5,0 4331.5,-6 4331.5,-12 4331.5,-12 4331.5,-41 4331.5,-41 4331.5,-47 4325.5,-53 4319.5,-53\"/>\n<text text-anchor=\"middle\" x=\"4273.5\" y=\"-37.8\" font-family=\"Helvetica,sans-Serif\" font-size=\"14.00\" fill=\"#000000\">gini = 0.454</text>\n<text text-anchor=\"middle\" x=\"4273.5\" y=\"-22.8\" font-family=\"Helvetica,sans-Serif\" font-size=\"14.00\" fill=\"#000000\">samples = 86</text>\n<text text-anchor=\"middle\" x=\"4273.5\" y=\"-7.8\" font-family=\"Helvetica,sans-Serif\" font-size=\"14.00\" fill=\"#000000\">value = [56, 30]</text>\n</g>\n<!-- 60&#45;&gt;61 -->\n<g id=\"edge61\" class=\"edge\">\n<title>60&#45;&gt;61</title>\n<path fill=\"none\" stroke=\"#000000\" d=\"M4273.5,-88.9777C4273.5,-80.7364 4273.5,-71.887 4273.5,-63.5153\"/>\n<polygon fill=\"#000000\" stroke=\"#000000\" points=\"4277.0001,-63.2484 4273.5,-53.2485 4270.0001,-63.2485 4277.0001,-63.2484\"/>\n</g>\n<!-- 62 -->\n<g id=\"node63\" class=\"node\">\n<title>62</title>\n<path fill=\"#8fc8f0\" stroke=\"#000000\" d=\"M4453.5,-53C4453.5,-53 4361.5,-53 4361.5,-53 4355.5,-53 4349.5,-47 4349.5,-41 4349.5,-41 4349.5,-12 4349.5,-12 4349.5,-6 4355.5,0 4361.5,0 4361.5,0 4453.5,0 4453.5,0 4459.5,0 4465.5,-6 4465.5,-12 4465.5,-12 4465.5,-41 4465.5,-41 4465.5,-47 4459.5,-53 4453.5,-53\"/>\n<text text-anchor=\"middle\" x=\"4407.5\" y=\"-37.8\" font-family=\"Helvetica,sans-Serif\" font-size=\"14.00\" fill=\"#000000\">gini = 0.422</text>\n<text text-anchor=\"middle\" x=\"4407.5\" y=\"-22.8\" font-family=\"Helvetica,sans-Serif\" font-size=\"14.00\" fill=\"#000000\">samples = 33</text>\n<text text-anchor=\"middle\" x=\"4407.5\" y=\"-7.8\" font-family=\"Helvetica,sans-Serif\" font-size=\"14.00\" fill=\"#000000\">value = [10, 23]</text>\n</g>\n<!-- 60&#45;&gt;62 -->\n<g id=\"edge62\" class=\"edge\">\n<title>60&#45;&gt;62</title>\n<path fill=\"none\" stroke=\"#000000\" d=\"M4320.7434,-88.9777C4334.2217,-79.2713 4348.8715,-68.7213 4362.2291,-59.1018\"/>\n<polygon fill=\"#000000\" stroke=\"#000000\" points=\"4364.2876,-61.9325 4370.357,-53.2485 4360.1969,-56.2522 4364.2876,-61.9325\"/>\n</g>\n</g>\n</svg>\n"
          },
          "metadata": {},
          "execution_count": 7
        }
      ]
    },
    {
      "cell_type": "code",
      "metadata": {
        "id": "CUhIOaSoc5G7",
        "colab": {
          "base_uri": "https://localhost:8080/"
        },
        "outputId": "b7311eb3-4951-4b4a-f068-e0ef5ec16626"
      },
      "source": [
        "from sklearn.tree import DecisionTreeClassifier\n",
        "column_name = \"blueWins\"\n",
        "y = df[column_name]\n",
        "x = df.drop(column_name, axis=1).copy()\n",
        "\n",
        "tree_clf = DecisionTreeClassifier(max_depth=5, random_state=42)\n",
        "tree_clf.fit(x, y)\n",
        "\n",
        "tree_clf.predict(x.iloc[2:90])\n",
        "\n",
        "print(tree_clf.feature_importances_)\n",
        "\n",
        "\n"
      ],
      "execution_count": null,
      "outputs": [
        {
          "output_type": "stream",
          "name": "stdout",
          "text": [
            "[0.00000000e+00 0.00000000e+00 0.00000000e+00 2.04785965e-03\n",
            " 7.54972019e-03 2.37058158e-02 0.00000000e+00 0.00000000e+00\n",
            " 5.61597416e-01 4.54854315e-04 1.27726716e-02 0.00000000e+00\n",
            " 0.00000000e+00 0.00000000e+00 1.85023391e-03 3.88292483e-03\n",
            " 0.00000000e+00 4.85656386e-03 0.00000000e+00 0.00000000e+00\n",
            " 3.78506512e-01 0.00000000e+00 2.77542783e-03 0.00000000e+00\n",
            " 0.00000000e+00]\n"
          ]
        }
      ]
    },
    {
      "cell_type": "code",
      "source": [
        "df = pd.read_csv('/content/gdrive/MyDrive/Riddle/Riddle 2021-2022/MA 440/JakobNickIsabelleJosephine/LoL First 10 Minutes #1.csv')\n",
        "\n",
        "\n",
        "\n",
        "column_name = \"blueWins\"\n",
        "y = df[column_name].copy()\n",
        "df.drop(column_name, axis=1)\n",
        "x = df\n",
        "\n",
        "from sklearn.model_selection import train_test_split\n",
        "X_train, X_test, y_train, y_test = train_test_split(\n",
        "             x, y, test_size = 0.2, random_state=42)\n",
        "\n",
        "\n",
        "from sklearn.metrics import PrecisionRecallDisplay\n",
        "from sklearn.metrics import precision_score\n",
        "besti=0\n",
        "bestScore=0\n",
        "y_true=y_test\n",
        "\n",
        "for i in range(3,25):\n",
        "  tree_clf = DecisionTreeClassifier(max_depth=i, random_state=42)\n",
        "  tree_clf.fit(X_train, y_train)\n",
        "  y_pred = tree_clf.predict(X_test)\n",
        "  if(precision_score(y_pred ,y_test) > bestScore):\n",
        "    bestScore = precision_score(y_pred ,y_test)\n",
        "    besti = i\n",
        "\n",
        "print(bestScore)\n",
        "print(besti)"
      ],
      "metadata": {
        "id": "l0WAlgEeCFcb",
        "outputId": "a7c0cf0a-286d-41d6-b9a4-ff5830363b1a",
        "colab": {
          "base_uri": "https://localhost:8080/"
        }
      },
      "execution_count": null,
      "outputs": [
        {
          "output_type": "stream",
          "name": "stdout",
          "text": [
            "1.0\n",
            "3\n"
          ]
        }
      ]
    },
    {
      "cell_type": "code",
      "source": [
        "#This calculates the Recall for t\n",
        "\n",
        "df = pd.read_csv('/content/gdrive/MyDrive/Riddle/Riddle 2021-2022/MA 440/JakobNickIsabelleJosephine/LoL First 10 Minutes #1.csv')\n",
        "\n",
        "\n",
        "\n",
        "column_name = \"blueWins\"\n",
        "y = df[column_name].copy()\n",
        "df.drop(column_name, axis=1)\n",
        "x = df\n",
        "\n",
        "from sklearn.model_selection import train_test_split\n",
        "X_train, X_test, y_train, y_test = train_test_split(\n",
        "             x, y, test_size = 0.2, random_state=42)\n",
        "\n",
        "\n",
        "from sklearn.metrics import PrecisionRecallDisplay\n",
        "from sklearn.metrics import recall_score\n",
        "besti=0\n",
        "bestScore=0\n",
        "y_true=y_test\n",
        "\n",
        "for i in range(3,25):\n",
        "  tree_clf = DecisionTreeClassifier(max_depth=i, random_state=42)\n",
        "  tree_clf.fit(X_train, y_train)\n",
        "  y_pred = tree_clf.predict(X_test)\n",
        "  if(recall_score(y_pred ,y_test) > bestScore):\n",
        "    bestScore = recall_score(y_pred ,y_test)\n",
        "    besti = i\n",
        "\n",
        "print(bestScore)\n",
        "print(besti)"
      ],
      "metadata": {
        "colab": {
          "base_uri": "https://localhost:8080/"
        },
        "id": "xDFAiA6Nubar",
        "outputId": "bb9808a9-5f1e-4f31-c9c0-20ec928d4ec9"
      },
      "execution_count": null,
      "outputs": [
        {
          "output_type": "stream",
          "name": "stdout",
          "text": [
            "1.0\n",
            "3\n"
          ]
        }
      ]
    },
    {
      "cell_type": "code",
      "metadata": {
        "colab": {
          "base_uri": "https://localhost:8080/",
          "height": 816
        },
        "id": "pL4Si3x6lK3S",
        "outputId": "51145904-3d60-4102-a76b-084f2a93c8b6"
      },
      "source": [
        "import graphviz\n",
        "from graphviz import Source\n",
        "from sklearn.tree import export_graphviz\n",
        " \n",
        "export_graphviz(tree_clf,\n",
        "        out_file=os.path.join(IMAGES_PATH, \"blueTotalGold.dot\"),\n",
        "        feature_names=x.columns,\n",
        "        \n",
        "        rounded=True,\n",
        "        filled=True )\n",
        " \n",
        "Source.from_file(os.path.join(IMAGES_PATH, \"blueTotalGold.dot\"))"
      ],
      "execution_count": null,
      "outputs": [
        {
          "output_type": "execute_result",
          "data": {
            "text/plain": [
              "<graphviz.files.Source at 0x7f1ff88bd950>"
            ],
            "image/svg+xml": "<?xml version=\"1.0\" encoding=\"UTF-8\" standalone=\"no\"?>\n<!DOCTYPE svg PUBLIC \"-//W3C//DTD SVG 1.1//EN\"\n \"http://www.w3.org/Graphics/SVG/1.1/DTD/svg11.dtd\">\n<!-- Generated by graphviz version 2.40.1 (20161225.0304)\n -->\n<!-- Title: Tree Pages: 1 -->\n<svg width=\"6102pt\" height=\"581pt\"\n viewBox=\"0.00 0.00 6102.00 581.00\" xmlns=\"http://www.w3.org/2000/svg\" xmlns:xlink=\"http://www.w3.org/1999/xlink\">\n<g id=\"graph0\" class=\"graph\" transform=\"scale(1 1) rotate(0) translate(4 577)\">\n<title>Tree</title>\n<polygon fill=\"#ffffff\" stroke=\"transparent\" points=\"-4,4 -4,-577 6098,-577 6098,4 -4,4\"/>\n<!-- 0 -->\n<g id=\"node1\" class=\"node\">\n<title>0</title>\n<path fill=\"#ffffff\" stroke=\"#000000\" d=\"M3430,-573C3430,-573 3281,-573 3281,-573 3275,-573 3269,-567 3269,-561 3269,-561 3269,-517 3269,-517 3269,-511 3275,-505 3281,-505 3281,-505 3430,-505 3430,-505 3436,-505 3442,-511 3442,-517 3442,-517 3442,-561 3442,-561 3442,-567 3436,-573 3430,-573\"/>\n<text text-anchor=\"middle\" x=\"3355.5\" y=\"-557.8\" font-family=\"Helvetica,sans-Serif\" font-size=\"14.00\" fill=\"#000000\">blueKills &lt;= 6.5</text>\n<text text-anchor=\"middle\" x=\"3355.5\" y=\"-542.8\" font-family=\"Helvetica,sans-Serif\" font-size=\"14.00\" fill=\"#000000\">gini = 1.0</text>\n<text text-anchor=\"middle\" x=\"3355.5\" y=\"-527.8\" font-family=\"Helvetica,sans-Serif\" font-size=\"14.00\" fill=\"#000000\">samples = 9879</text>\n<text text-anchor=\"middle\" x=\"3355.5\" y=\"-512.8\" font-family=\"Helvetica,sans-Serif\" font-size=\"14.00\" fill=\"#000000\">value = [1, 1, 1 ... 1, 1, 1]</text>\n</g>\n<!-- 1 -->\n<g id=\"node2\" class=\"node\">\n<title>1</title>\n<path fill=\"#ffffff\" stroke=\"#000000\" d=\"M2394,-469C2394,-469 2245,-469 2245,-469 2239,-469 2233,-463 2233,-457 2233,-457 2233,-413 2233,-413 2233,-407 2239,-401 2245,-401 2245,-401 2394,-401 2394,-401 2400,-401 2406,-407 2406,-413 2406,-413 2406,-457 2406,-457 2406,-463 2400,-469 2394,-469\"/>\n<text text-anchor=\"middle\" x=\"2319.5\" y=\"-453.8\" font-family=\"Helvetica,sans-Serif\" font-size=\"14.00\" fill=\"#000000\">blueKills &lt;= 3.5</text>\n<text text-anchor=\"middle\" x=\"2319.5\" y=\"-438.8\" font-family=\"Helvetica,sans-Serif\" font-size=\"14.00\" fill=\"#000000\">gini = 1.0</text>\n<text text-anchor=\"middle\" x=\"2319.5\" y=\"-423.8\" font-family=\"Helvetica,sans-Serif\" font-size=\"14.00\" fill=\"#000000\">samples = 5712</text>\n<text text-anchor=\"middle\" x=\"2319.5\" y=\"-408.8\" font-family=\"Helvetica,sans-Serif\" font-size=\"14.00\" fill=\"#000000\">value = [1, 1, 1 ... 0, 0, 0]</text>\n</g>\n<!-- 0&#45;&gt;1 -->\n<g id=\"edge1\" class=\"edge\">\n<title>0&#45;&gt;1</title>\n<path fill=\"none\" stroke=\"#000000\" d=\"M3268.9531,-530.3119C3077.0597,-511.0485 2617.0167,-464.8665 2416.1145,-444.6988\"/>\n<polygon fill=\"#000000\" stroke=\"#000000\" points=\"2416.4635,-441.2163 2406.1639,-443.6998 2415.7642,-448.1813 2416.4635,-441.2163\"/>\n<text text-anchor=\"middle\" x=\"2421.9874\" y=\"-459.3548\" font-family=\"Helvetica,sans-Serif\" font-size=\"14.00\" fill=\"#000000\">True</text>\n</g>\n<!-- 32 -->\n<g id=\"node33\" class=\"node\">\n<title>32</title>\n<path fill=\"#ffffff\" stroke=\"#000000\" d=\"M3811,-469C3811,-469 3662,-469 3662,-469 3656,-469 3650,-463 3650,-457 3650,-457 3650,-413 3650,-413 3650,-407 3656,-401 3662,-401 3662,-401 3811,-401 3811,-401 3817,-401 3823,-407 3823,-413 3823,-413 3823,-457 3823,-457 3823,-463 3817,-469 3811,-469\"/>\n<text text-anchor=\"middle\" x=\"3736.5\" y=\"-453.8\" font-family=\"Helvetica,sans-Serif\" font-size=\"14.00\" fill=\"#000000\">blueKills &lt;= 9.5</text>\n<text text-anchor=\"middle\" x=\"3736.5\" y=\"-438.8\" font-family=\"Helvetica,sans-Serif\" font-size=\"14.00\" fill=\"#000000\">gini = 0.999</text>\n<text text-anchor=\"middle\" x=\"3736.5\" y=\"-423.8\" font-family=\"Helvetica,sans-Serif\" font-size=\"14.00\" fill=\"#000000\">samples = 4167</text>\n<text text-anchor=\"middle\" x=\"3736.5\" y=\"-408.8\" font-family=\"Helvetica,sans-Serif\" font-size=\"14.00\" fill=\"#000000\">value = [0, 0, 0 ... 1, 1, 1]</text>\n</g>\n<!-- 0&#45;&gt;32 -->\n<g id=\"edge32\" class=\"edge\">\n<title>0&#45;&gt;32</title>\n<path fill=\"none\" stroke=\"#000000\" d=\"M3442.4315,-515.2707C3501.308,-499.1994 3579.1473,-477.9519 3639.9516,-461.3544\"/>\n<polygon fill=\"#000000\" stroke=\"#000000\" points=\"3641.2165,-464.6373 3649.9419,-458.6274 3639.3732,-457.8843 3641.2165,-464.6373\"/>\n<text text-anchor=\"middle\" x=\"3637.5433\" y=\"-476.6362\" font-family=\"Helvetica,sans-Serif\" font-size=\"14.00\" fill=\"#000000\">False</text>\n</g>\n<!-- 2 -->\n<g id=\"node3\" class=\"node\">\n<title>2</title>\n<path fill=\"#ffffff\" stroke=\"#000000\" d=\"M1237.5,-365C1237.5,-365 1035.5,-365 1035.5,-365 1029.5,-365 1023.5,-359 1023.5,-353 1023.5,-353 1023.5,-309 1023.5,-309 1023.5,-303 1029.5,-297 1035.5,-297 1035.5,-297 1237.5,-297 1237.5,-297 1243.5,-297 1249.5,-303 1249.5,-309 1249.5,-309 1249.5,-353 1249.5,-353 1249.5,-359 1243.5,-365 1237.5,-365\"/>\n<text text-anchor=\"middle\" x=\"1136.5\" y=\"-349.8\" font-family=\"Helvetica,sans-Serif\" font-size=\"14.00\" fill=\"#000000\">blueTotalExperience &lt;= 17433.0</text>\n<text text-anchor=\"middle\" x=\"1136.5\" y=\"-334.8\" font-family=\"Helvetica,sans-Serif\" font-size=\"14.00\" fill=\"#000000\">gini = 0.999</text>\n<text text-anchor=\"middle\" x=\"1136.5\" y=\"-319.8\" font-family=\"Helvetica,sans-Serif\" font-size=\"14.00\" fill=\"#000000\">samples = 1902</text>\n<text text-anchor=\"middle\" x=\"1136.5\" y=\"-304.8\" font-family=\"Helvetica,sans-Serif\" font-size=\"14.00\" fill=\"#000000\">value = [1, 1, 0 ... 0, 0, 0]</text>\n</g>\n<!-- 1&#45;&gt;2 -->\n<g id=\"edge2\" class=\"edge\">\n<title>1&#45;&gt;2</title>\n<path fill=\"none\" stroke=\"#000000\" d=\"M2232.9905,-427.3948C2025.7058,-409.1719 1500.0624,-362.9615 1259.7681,-341.8368\"/>\n<polygon fill=\"#000000\" stroke=\"#000000\" points=\"1259.8602,-338.3314 1249.592,-340.9422 1259.2471,-345.3045 1259.8602,-338.3314\"/>\n</g>\n<!-- 17 -->\n<g id=\"node18\" class=\"node\">\n<title>17</title>\n<path fill=\"#ffffff\" stroke=\"#000000\" d=\"M2420.5,-365C2420.5,-365 2218.5,-365 2218.5,-365 2212.5,-365 2206.5,-359 2206.5,-353 2206.5,-353 2206.5,-309 2206.5,-309 2206.5,-303 2212.5,-297 2218.5,-297 2218.5,-297 2420.5,-297 2420.5,-297 2426.5,-297 2432.5,-303 2432.5,-309 2432.5,-309 2432.5,-353 2432.5,-353 2432.5,-359 2426.5,-365 2420.5,-365\"/>\n<text text-anchor=\"middle\" x=\"2319.5\" y=\"-349.8\" font-family=\"Helvetica,sans-Serif\" font-size=\"14.00\" fill=\"#000000\">blueTotalExperience &lt;= 17500.5</text>\n<text text-anchor=\"middle\" x=\"2319.5\" y=\"-334.8\" font-family=\"Helvetica,sans-Serif\" font-size=\"14.00\" fill=\"#000000\">gini = 0.999</text>\n<text text-anchor=\"middle\" x=\"2319.5\" y=\"-319.8\" font-family=\"Helvetica,sans-Serif\" font-size=\"14.00\" fill=\"#000000\">samples = 3810</text>\n<text text-anchor=\"middle\" x=\"2319.5\" y=\"-304.8\" font-family=\"Helvetica,sans-Serif\" font-size=\"14.00\" fill=\"#000000\">value = [0, 0, 1 ... 0, 0, 0]</text>\n</g>\n<!-- 1&#45;&gt;17 -->\n<g id=\"edge17\" class=\"edge\">\n<title>1&#45;&gt;17</title>\n<path fill=\"none\" stroke=\"#000000\" d=\"M2319.5,-400.9465C2319.5,-392.776 2319.5,-383.9318 2319.5,-375.3697\"/>\n<polygon fill=\"#000000\" stroke=\"#000000\" points=\"2323.0001,-375.13 2319.5,-365.13 2316.0001,-375.13 2323.0001,-375.13\"/>\n</g>\n<!-- 3 -->\n<g id=\"node4\" class=\"node\">\n<title>3</title>\n<path fill=\"#ffffff\" stroke=\"#000000\" d=\"M697.5,-261C697.5,-261 495.5,-261 495.5,-261 489.5,-261 483.5,-255 483.5,-249 483.5,-249 483.5,-205 483.5,-205 483.5,-199 489.5,-193 495.5,-193 495.5,-193 697.5,-193 697.5,-193 703.5,-193 709.5,-199 709.5,-205 709.5,-205 709.5,-249 709.5,-249 709.5,-255 703.5,-261 697.5,-261\"/>\n<text text-anchor=\"middle\" x=\"596.5\" y=\"-245.8\" font-family=\"Helvetica,sans-Serif\" font-size=\"14.00\" fill=\"#000000\">blueTotalExperience &lt;= 13923.5</text>\n<text text-anchor=\"middle\" x=\"596.5\" y=\"-230.8\" font-family=\"Helvetica,sans-Serif\" font-size=\"14.00\" fill=\"#000000\">gini = 0.999</text>\n<text text-anchor=\"middle\" x=\"596.5\" y=\"-215.8\" font-family=\"Helvetica,sans-Serif\" font-size=\"14.00\" fill=\"#000000\">samples = 1107</text>\n<text text-anchor=\"middle\" x=\"596.5\" y=\"-200.8\" font-family=\"Helvetica,sans-Serif\" font-size=\"14.00\" fill=\"#000000\">value = [1, 1, 0 ... 0, 0, 0]</text>\n</g>\n<!-- 2&#45;&gt;3 -->\n<g id=\"edge3\" class=\"edge\">\n<title>2&#45;&gt;3</title>\n<path fill=\"none\" stroke=\"#000000\" d=\"M1023.2983,-309.1982C934.3764,-292.0725 810.731,-268.2593 719.4038,-250.6704\"/>\n<polygon fill=\"#000000\" stroke=\"#000000\" points=\"720.0341,-247.2275 709.5527,-248.7731 718.7103,-254.1012 720.0341,-247.2275\"/>\n</g>\n<!-- 10 -->\n<g id=\"node11\" class=\"node\">\n<title>10</title>\n<path fill=\"#ffffff\" stroke=\"#000000\" d=\"M1253,-261C1253,-261 1020,-261 1020,-261 1014,-261 1008,-255 1008,-249 1008,-249 1008,-205 1008,-205 1008,-199 1014,-193 1020,-193 1020,-193 1253,-193 1253,-193 1259,-193 1265,-199 1265,-205 1265,-205 1265,-249 1265,-249 1265,-255 1259,-261 1253,-261\"/>\n<text text-anchor=\"middle\" x=\"1136.5\" y=\"-245.8\" font-family=\"Helvetica,sans-Serif\" font-size=\"14.00\" fill=\"#000000\">blueTotalJungleMinionsKilled &lt;= 78.5</text>\n<text text-anchor=\"middle\" x=\"1136.5\" y=\"-230.8\" font-family=\"Helvetica,sans-Serif\" font-size=\"14.00\" fill=\"#000000\">gini = 0.998</text>\n<text text-anchor=\"middle\" x=\"1136.5\" y=\"-215.8\" font-family=\"Helvetica,sans-Serif\" font-size=\"14.00\" fill=\"#000000\">samples = 795</text>\n<text text-anchor=\"middle\" x=\"1136.5\" y=\"-200.8\" font-family=\"Helvetica,sans-Serif\" font-size=\"14.00\" fill=\"#000000\">value = [0, 0, 0 ... 0, 0, 0]</text>\n</g>\n<!-- 2&#45;&gt;10 -->\n<g id=\"edge10\" class=\"edge\">\n<title>2&#45;&gt;10</title>\n<path fill=\"none\" stroke=\"#000000\" d=\"M1136.5,-296.9465C1136.5,-288.776 1136.5,-279.9318 1136.5,-271.3697\"/>\n<polygon fill=\"#000000\" stroke=\"#000000\" points=\"1140.0001,-271.13 1136.5,-261.13 1133.0001,-271.13 1140.0001,-271.13\"/>\n</g>\n<!-- 4 -->\n<g id=\"node5\" class=\"node\">\n<title>4</title>\n<path fill=\"#fdf5f0\" stroke=\"#000000\" d=\"M376,-157C376,-157 179,-157 179,-157 173,-157 167,-151 167,-145 167,-145 167,-101 167,-101 167,-95 173,-89 179,-89 179,-89 376,-89 376,-89 382,-89 388,-95 388,-101 388,-101 388,-145 388,-145 388,-151 382,-157 376,-157\"/>\n<text text-anchor=\"middle\" x=\"277.5\" y=\"-141.8\" font-family=\"Helvetica,sans-Serif\" font-size=\"14.00\" fill=\"#000000\">blueTotalMinionsKilled &lt;= 177.0</text>\n<text text-anchor=\"middle\" x=\"277.5\" y=\"-126.8\" font-family=\"Helvetica,sans-Serif\" font-size=\"14.00\" fill=\"#000000\">gini = 0.918</text>\n<text text-anchor=\"middle\" x=\"277.5\" y=\"-111.8\" font-family=\"Helvetica,sans-Serif\" font-size=\"14.00\" fill=\"#000000\">samples = 14</text>\n<text text-anchor=\"middle\" x=\"277.5\" y=\"-96.8\" font-family=\"Helvetica,sans-Serif\" font-size=\"14.00\" fill=\"#000000\">value = [1, 0, 0 ... 0, 0, 0]</text>\n</g>\n<!-- 3&#45;&gt;4 -->\n<g id=\"edge4\" class=\"edge\">\n<title>3&#45;&gt;4</title>\n<path fill=\"none\" stroke=\"#000000\" d=\"M492.0475,-192.9465C459.8808,-182.4596 424.3094,-170.8626 391.5332,-160.177\"/>\n<polygon fill=\"#000000\" stroke=\"#000000\" points=\"392.507,-156.8132 381.9146,-157.0411 390.3372,-163.4684 392.507,-156.8132\"/>\n</g>\n<!-- 7 -->\n<g id=\"node8\" class=\"node\">\n<title>7</title>\n<path fill=\"#ffffff\" stroke=\"#000000\" d=\"M713,-157C713,-157 480,-157 480,-157 474,-157 468,-151 468,-145 468,-145 468,-101 468,-101 468,-95 474,-89 480,-89 480,-89 713,-89 713,-89 719,-89 725,-95 725,-101 725,-101 725,-145 725,-145 725,-151 719,-157 713,-157\"/>\n<text text-anchor=\"middle\" x=\"596.5\" y=\"-141.8\" font-family=\"Helvetica,sans-Serif\" font-size=\"14.00\" fill=\"#000000\">blueTotalJungleMinionsKilled &lt;= 30.5</text>\n<text text-anchor=\"middle\" x=\"596.5\" y=\"-126.8\" font-family=\"Helvetica,sans-Serif\" font-size=\"14.00\" fill=\"#000000\">gini = 0.999</text>\n<text text-anchor=\"middle\" x=\"596.5\" y=\"-111.8\" font-family=\"Helvetica,sans-Serif\" font-size=\"14.00\" fill=\"#000000\">samples = 1093</text>\n<text text-anchor=\"middle\" x=\"596.5\" y=\"-96.8\" font-family=\"Helvetica,sans-Serif\" font-size=\"14.00\" fill=\"#000000\">value = [0, 1, 0 ... 0, 0, 0]</text>\n</g>\n<!-- 3&#45;&gt;7 -->\n<g id=\"edge7\" class=\"edge\">\n<title>3&#45;&gt;7</title>\n<path fill=\"none\" stroke=\"#000000\" d=\"M596.5,-192.9465C596.5,-184.776 596.5,-175.9318 596.5,-167.3697\"/>\n<polygon fill=\"#000000\" stroke=\"#000000\" points=\"600.0001,-167.13 596.5,-157.13 593.0001,-167.13 600.0001,-167.13\"/>\n</g>\n<!-- 5 -->\n<g id=\"node6\" class=\"node\">\n<title>5</title>\n<path fill=\"#ffffff\" stroke=\"#000000\" d=\"M161,-53C161,-53 12,-53 12,-53 6,-53 0,-47 0,-41 0,-41 0,-12 0,-12 0,-6 6,0 12,0 12,0 161,0 161,0 167,0 173,-6 173,-12 173,-12 173,-41 173,-41 173,-47 167,-53 161,-53\"/>\n<text text-anchor=\"middle\" x=\"86.5\" y=\"-37.8\" font-family=\"Helvetica,sans-Serif\" font-size=\"14.00\" fill=\"#000000\">gini = 0.889</text>\n<text text-anchor=\"middle\" x=\"86.5\" y=\"-22.8\" font-family=\"Helvetica,sans-Serif\" font-size=\"14.00\" fill=\"#000000\">samples = 9</text>\n<text text-anchor=\"middle\" x=\"86.5\" y=\"-7.8\" font-family=\"Helvetica,sans-Serif\" font-size=\"14.00\" fill=\"#000000\">value = [1, 0, 0 ... 0, 0, 0]</text>\n</g>\n<!-- 4&#45;&gt;5 -->\n<g id=\"edge5\" class=\"edge\">\n<title>4&#45;&gt;5</title>\n<path fill=\"none\" stroke=\"#000000\" d=\"M210.1605,-88.9777C189.9496,-78.7664 167.8906,-67.6214 148.0722,-57.6085\"/>\n<polygon fill=\"#000000\" stroke=\"#000000\" points=\"149.6427,-54.4806 139.1389,-53.095 146.486,-60.7285 149.6427,-54.4806\"/>\n</g>\n<!-- 6 -->\n<g id=\"node7\" class=\"node\">\n<title>6</title>\n<path fill=\"#f8e0ce\" stroke=\"#000000\" d=\"M352,-53C352,-53 203,-53 203,-53 197,-53 191,-47 191,-41 191,-41 191,-12 191,-12 191,-6 197,0 203,0 203,0 352,0 352,0 358,0 364,-6 364,-12 364,-12 364,-41 364,-41 364,-47 358,-53 352,-53\"/>\n<text text-anchor=\"middle\" x=\"277.5\" y=\"-37.8\" font-family=\"Helvetica,sans-Serif\" font-size=\"14.00\" fill=\"#000000\">gini = 0.72</text>\n<text text-anchor=\"middle\" x=\"277.5\" y=\"-22.8\" font-family=\"Helvetica,sans-Serif\" font-size=\"14.00\" fill=\"#000000\">samples = 5</text>\n<text text-anchor=\"middle\" x=\"277.5\" y=\"-7.8\" font-family=\"Helvetica,sans-Serif\" font-size=\"14.00\" fill=\"#000000\">value = [0, 0, 0 ... 0, 0, 0]</text>\n</g>\n<!-- 4&#45;&gt;6 -->\n<g id=\"edge6\" class=\"edge\">\n<title>4&#45;&gt;6</title>\n<path fill=\"none\" stroke=\"#000000\" d=\"M277.5,-88.9777C277.5,-80.7364 277.5,-71.887 277.5,-63.5153\"/>\n<polygon fill=\"#000000\" stroke=\"#000000\" points=\"281.0001,-63.2484 277.5,-53.2485 274.0001,-63.2485 281.0001,-63.2484\"/>\n</g>\n<!-- 8 -->\n<g id=\"node9\" class=\"node\">\n<title>8</title>\n<path fill=\"#ffffff\" stroke=\"#000000\" d=\"M543,-53C543,-53 394,-53 394,-53 388,-53 382,-47 382,-41 382,-41 382,-12 382,-12 382,-6 388,0 394,0 394,0 543,0 543,0 549,0 555,-6 555,-12 555,-12 555,-41 555,-41 555,-47 549,-53 543,-53\"/>\n<text text-anchor=\"middle\" x=\"468.5\" y=\"-37.8\" font-family=\"Helvetica,sans-Serif\" font-size=\"14.00\" fill=\"#000000\">gini = 0.946</text>\n<text text-anchor=\"middle\" x=\"468.5\" y=\"-22.8\" font-family=\"Helvetica,sans-Serif\" font-size=\"14.00\" fill=\"#000000\">samples = 22</text>\n<text text-anchor=\"middle\" x=\"468.5\" y=\"-7.8\" font-family=\"Helvetica,sans-Serif\" font-size=\"14.00\" fill=\"#000000\">value = [0, 0, 0 ... 0, 0, 0]</text>\n</g>\n<!-- 7&#45;&gt;8 -->\n<g id=\"edge8\" class=\"edge\">\n<title>7&#45;&gt;8</title>\n<path fill=\"none\" stroke=\"#000000\" d=\"M551.372,-88.9777C538.6187,-79.3629 524.7673,-68.9203 512.1053,-59.3743\"/>\n<polygon fill=\"#000000\" stroke=\"#000000\" points=\"514.0719,-56.4737 503.9798,-53.2485 509.8579,-62.0632 514.0719,-56.4737\"/>\n</g>\n<!-- 9 -->\n<g id=\"node10\" class=\"node\">\n<title>9</title>\n<path fill=\"#ffffff\" stroke=\"#000000\" d=\"M734,-53C734,-53 585,-53 585,-53 579,-53 573,-47 573,-41 573,-41 573,-12 573,-12 573,-6 579,0 585,0 585,0 734,0 734,0 740,0 746,-6 746,-12 746,-12 746,-41 746,-41 746,-47 740,-53 734,-53\"/>\n<text text-anchor=\"middle\" x=\"659.5\" y=\"-37.8\" font-family=\"Helvetica,sans-Serif\" font-size=\"14.00\" fill=\"#000000\">gini = 0.999</text>\n<text text-anchor=\"middle\" x=\"659.5\" y=\"-22.8\" font-family=\"Helvetica,sans-Serif\" font-size=\"14.00\" fill=\"#000000\">samples = 1071</text>\n<text text-anchor=\"middle\" x=\"659.5\" y=\"-7.8\" font-family=\"Helvetica,sans-Serif\" font-size=\"14.00\" fill=\"#000000\">value = [0, 1, 0 ... 0, 0, 0]</text>\n</g>\n<!-- 7&#45;&gt;9 -->\n<g id=\"edge9\" class=\"edge\">\n<title>7&#45;&gt;9</title>\n<path fill=\"none\" stroke=\"#000000\" d=\"M618.7114,-88.9777C624.4504,-80.187 630.6412,-70.7044 636.4233,-61.8477\"/>\n<polygon fill=\"#000000\" stroke=\"#000000\" points=\"639.5013,-63.5354 642.0373,-53.2485 633.6398,-59.7087 639.5013,-63.5354\"/>\n</g>\n<!-- 11 -->\n<g id=\"node12\" class=\"node\">\n<title>11</title>\n<path fill=\"#ffffff\" stroke=\"#000000\" d=\"M1095,-157C1095,-157 946,-157 946,-157 940,-157 934,-151 934,-145 934,-145 934,-101 934,-101 934,-95 940,-89 946,-89 946,-89 1095,-89 1095,-89 1101,-89 1107,-95 1107,-101 1107,-101 1107,-145 1107,-145 1107,-151 1101,-157 1095,-157\"/>\n<text text-anchor=\"middle\" x=\"1020.5\" y=\"-141.8\" font-family=\"Helvetica,sans-Serif\" font-size=\"14.00\" fill=\"#000000\">blueAssists &lt;= 0.5</text>\n<text text-anchor=\"middle\" x=\"1020.5\" y=\"-126.8\" font-family=\"Helvetica,sans-Serif\" font-size=\"14.00\" fill=\"#000000\">gini = 0.998</text>\n<text text-anchor=\"middle\" x=\"1020.5\" y=\"-111.8\" font-family=\"Helvetica,sans-Serif\" font-size=\"14.00\" fill=\"#000000\">samples = 781</text>\n<text text-anchor=\"middle\" x=\"1020.5\" y=\"-96.8\" font-family=\"Helvetica,sans-Serif\" font-size=\"14.00\" fill=\"#000000\">value = [0, 0, 0 ... 0, 0, 0]</text>\n</g>\n<!-- 10&#45;&gt;11 -->\n<g id=\"edge11\" class=\"edge\">\n<title>10&#45;&gt;11</title>\n<path fill=\"none\" stroke=\"#000000\" d=\"M1098.5173,-192.9465C1088.2023,-183.6986 1076.9246,-173.5876 1066.2301,-163.9994\"/>\n<polygon fill=\"#000000\" stroke=\"#000000\" points=\"1068.3502,-161.1995 1058.5681,-157.13 1063.6774,-166.4115 1068.3502,-161.1995\"/>\n</g>\n<!-- 14 -->\n<g id=\"node15\" class=\"node\">\n<title>14</title>\n<path fill=\"#f0fdf1\" stroke=\"#000000\" d=\"M1370,-157C1370,-157 1137,-157 1137,-157 1131,-157 1125,-151 1125,-145 1125,-145 1125,-101 1125,-101 1125,-95 1131,-89 1137,-89 1137,-89 1370,-89 1370,-89 1376,-89 1382,-95 1382,-101 1382,-101 1382,-145 1382,-145 1382,-151 1376,-157 1370,-157\"/>\n<text text-anchor=\"middle\" x=\"1253.5\" y=\"-141.8\" font-family=\"Helvetica,sans-Serif\" font-size=\"14.00\" fill=\"#000000\">blueTotalJungleMinionsKilled &lt;= 79.5</text>\n<text text-anchor=\"middle\" x=\"1253.5\" y=\"-126.8\" font-family=\"Helvetica,sans-Serif\" font-size=\"14.00\" fill=\"#000000\">gini = 0.918</text>\n<text text-anchor=\"middle\" x=\"1253.5\" y=\"-111.8\" font-family=\"Helvetica,sans-Serif\" font-size=\"14.00\" fill=\"#000000\">samples = 14</text>\n<text text-anchor=\"middle\" x=\"1253.5\" y=\"-96.8\" font-family=\"Helvetica,sans-Serif\" font-size=\"14.00\" fill=\"#000000\">value = [0, 0, 0 ... 0, 0, 0]</text>\n</g>\n<!-- 10&#45;&gt;14 -->\n<g id=\"edge14\" class=\"edge\">\n<title>10&#45;&gt;14</title>\n<path fill=\"none\" stroke=\"#000000\" d=\"M1174.8102,-192.9465C1185.2141,-183.6986 1196.589,-173.5876 1207.3757,-163.9994\"/>\n<polygon fill=\"#000000\" stroke=\"#000000\" points=\"1209.9549,-166.3896 1215.1038,-157.13 1205.3044,-161.1577 1209.9549,-166.3896\"/>\n</g>\n<!-- 12 -->\n<g id=\"node13\" class=\"node\">\n<title>12</title>\n<path fill=\"#ffffff\" stroke=\"#000000\" d=\"M925,-53C925,-53 776,-53 776,-53 770,-53 764,-47 764,-41 764,-41 764,-12 764,-12 764,-6 770,0 776,0 776,0 925,0 925,0 931,0 937,-6 937,-12 937,-12 937,-41 937,-41 937,-47 931,-53 925,-53\"/>\n<text text-anchor=\"middle\" x=\"850.5\" y=\"-37.8\" font-family=\"Helvetica,sans-Serif\" font-size=\"14.00\" fill=\"#000000\">gini = 0.979</text>\n<text text-anchor=\"middle\" x=\"850.5\" y=\"-22.8\" font-family=\"Helvetica,sans-Serif\" font-size=\"14.00\" fill=\"#000000\">samples = 53</text>\n<text text-anchor=\"middle\" x=\"850.5\" y=\"-7.8\" font-family=\"Helvetica,sans-Serif\" font-size=\"14.00\" fill=\"#000000\">value = [0, 0, 0 ... 0, 0, 0]</text>\n</g>\n<!-- 11&#45;&gt;12 -->\n<g id=\"edge12\" class=\"edge\">\n<title>11&#45;&gt;12</title>\n<path fill=\"none\" stroke=\"#000000\" d=\"M960.5644,-88.9777C942.8997,-78.9504 923.6489,-68.0228 906.2579,-58.1508\"/>\n<polygon fill=\"#000000\" stroke=\"#000000\" points=\"907.7757,-54.9879 897.3513,-53.095 904.3201,-61.0755 907.7757,-54.9879\"/>\n</g>\n<!-- 13 -->\n<g id=\"node14\" class=\"node\">\n<title>13</title>\n<path fill=\"#ffffff\" stroke=\"#000000\" d=\"M1116,-53C1116,-53 967,-53 967,-53 961,-53 955,-47 955,-41 955,-41 955,-12 955,-12 955,-6 961,0 967,0 967,0 1116,0 1116,0 1122,0 1128,-6 1128,-12 1128,-12 1128,-41 1128,-41 1128,-47 1122,-53 1116,-53\"/>\n<text text-anchor=\"middle\" x=\"1041.5\" y=\"-37.8\" font-family=\"Helvetica,sans-Serif\" font-size=\"14.00\" fill=\"#000000\">gini = 0.998</text>\n<text text-anchor=\"middle\" x=\"1041.5\" y=\"-22.8\" font-family=\"Helvetica,sans-Serif\" font-size=\"14.00\" fill=\"#000000\">samples = 728</text>\n<text text-anchor=\"middle\" x=\"1041.5\" y=\"-7.8\" font-family=\"Helvetica,sans-Serif\" font-size=\"14.00\" fill=\"#000000\">value = [0, 0, 0 ... 0, 0, 0]</text>\n</g>\n<!-- 11&#45;&gt;13 -->\n<g id=\"edge13\" class=\"edge\">\n<title>11&#45;&gt;13</title>\n<path fill=\"none\" stroke=\"#000000\" d=\"M1027.9038,-88.9777C1029.7172,-80.6449 1031.6659,-71.6903 1033.5055,-63.2364\"/>\n<polygon fill=\"#000000\" stroke=\"#000000\" points=\"1036.9726,-63.7641 1035.6791,-53.2485 1030.1327,-62.2755 1036.9726,-63.7641\"/>\n</g>\n<!-- 15 -->\n<g id=\"node16\" class=\"node\">\n<title>15</title>\n<path fill=\"#39e54d\" stroke=\"#000000\" d=\"M1307,-53C1307,-53 1158,-53 1158,-53 1152,-53 1146,-47 1146,-41 1146,-41 1146,-12 1146,-12 1146,-6 1152,0 1158,0 1158,0 1307,0 1307,0 1313,0 1319,-6 1319,-12 1319,-12 1319,-41 1319,-41 1319,-47 1313,-53 1307,-53\"/>\n<text text-anchor=\"middle\" x=\"1232.5\" y=\"-37.8\" font-family=\"Helvetica,sans-Serif\" font-size=\"14.00\" fill=\"#000000\">gini = 0.0</text>\n<text text-anchor=\"middle\" x=\"1232.5\" y=\"-22.8\" font-family=\"Helvetica,sans-Serif\" font-size=\"14.00\" fill=\"#000000\">samples = 2</text>\n<text text-anchor=\"middle\" x=\"1232.5\" y=\"-7.8\" font-family=\"Helvetica,sans-Serif\" font-size=\"14.00\" fill=\"#000000\">value = [0, 0, 0 ... 0, 0, 0]</text>\n</g>\n<!-- 14&#45;&gt;15 -->\n<g id=\"edge15\" class=\"edge\">\n<title>14&#45;&gt;15</title>\n<path fill=\"none\" stroke=\"#000000\" d=\"M1246.0962,-88.9777C1244.2828,-80.6449 1242.3341,-71.6903 1240.4945,-63.2364\"/>\n<polygon fill=\"#000000\" stroke=\"#000000\" points=\"1243.8673,-62.2755 1238.3209,-53.2485 1237.0274,-63.7641 1243.8673,-62.2755\"/>\n</g>\n<!-- 16 -->\n<g id=\"node17\" class=\"node\">\n<title>16</title>\n<path fill=\"#ffffff\" stroke=\"#000000\" d=\"M1498,-53C1498,-53 1349,-53 1349,-53 1343,-53 1337,-47 1337,-41 1337,-41 1337,-12 1337,-12 1337,-6 1343,0 1349,0 1349,0 1498,0 1498,0 1504,0 1510,-6 1510,-12 1510,-12 1510,-41 1510,-41 1510,-47 1504,-53 1498,-53\"/>\n<text text-anchor=\"middle\" x=\"1423.5\" y=\"-37.8\" font-family=\"Helvetica,sans-Serif\" font-size=\"14.00\" fill=\"#000000\">gini = 0.917</text>\n<text text-anchor=\"middle\" x=\"1423.5\" y=\"-22.8\" font-family=\"Helvetica,sans-Serif\" font-size=\"14.00\" fill=\"#000000\">samples = 12</text>\n<text text-anchor=\"middle\" x=\"1423.5\" y=\"-7.8\" font-family=\"Helvetica,sans-Serif\" font-size=\"14.00\" fill=\"#000000\">value = [0, 0, 0 ... 0, 0, 0]</text>\n</g>\n<!-- 14&#45;&gt;16 -->\n<g id=\"edge16\" class=\"edge\">\n<title>14&#45;&gt;16</title>\n<path fill=\"none\" stroke=\"#000000\" d=\"M1313.4356,-88.9777C1331.1003,-78.9504 1350.3511,-68.0228 1367.7421,-58.1508\"/>\n<polygon fill=\"#000000\" stroke=\"#000000\" points=\"1369.6799,-61.0755 1376.6487,-53.095 1366.2243,-54.9879 1369.6799,-61.0755\"/>\n</g>\n<!-- 18 -->\n<g id=\"node19\" class=\"node\">\n<title>18</title>\n<path fill=\"#ffffff\" stroke=\"#000000\" d=\"M2190,-261C2190,-261 1995,-261 1995,-261 1989,-261 1983,-255 1983,-249 1983,-249 1983,-205 1983,-205 1983,-199 1989,-193 1995,-193 1995,-193 2190,-193 2190,-193 2196,-193 2202,-199 2202,-205 2202,-205 2202,-249 2202,-249 2202,-255 2196,-261 2190,-261\"/>\n<text text-anchor=\"middle\" x=\"2092.5\" y=\"-245.8\" font-family=\"Helvetica,sans-Serif\" font-size=\"14.00\" fill=\"#000000\">redTotalExperience &lt;= 20348.0</text>\n<text text-anchor=\"middle\" x=\"2092.5\" y=\"-230.8\" font-family=\"Helvetica,sans-Serif\" font-size=\"14.00\" fill=\"#000000\">gini = 0.999</text>\n<text text-anchor=\"middle\" x=\"2092.5\" y=\"-215.8\" font-family=\"Helvetica,sans-Serif\" font-size=\"14.00\" fill=\"#000000\">samples = 1470</text>\n<text text-anchor=\"middle\" x=\"2092.5\" y=\"-200.8\" font-family=\"Helvetica,sans-Serif\" font-size=\"14.00\" fill=\"#000000\">value = [0, 0, 1 ... 0, 0, 0]</text>\n</g>\n<!-- 17&#45;&gt;18 -->\n<g id=\"edge18\" class=\"edge\">\n<title>17&#45;&gt;18</title>\n<path fill=\"none\" stroke=\"#000000\" d=\"M2245.1717,-296.9465C2223.1247,-286.8457 2198.83,-275.7151 2176.2299,-265.3608\"/>\n<polygon fill=\"#000000\" stroke=\"#000000\" points=\"2177.5444,-262.1133 2166.9953,-261.13 2174.6287,-268.4772 2177.5444,-262.1133\"/>\n</g>\n<!-- 25 -->\n<g id=\"node26\" class=\"node\">\n<title>25</title>\n<path fill=\"#ffffff\" stroke=\"#000000\" d=\"M2563.5,-261C2563.5,-261 2361.5,-261 2361.5,-261 2355.5,-261 2349.5,-255 2349.5,-249 2349.5,-249 2349.5,-205 2349.5,-205 2349.5,-199 2355.5,-193 2361.5,-193 2361.5,-193 2563.5,-193 2563.5,-193 2569.5,-193 2575.5,-199 2575.5,-205 2575.5,-205 2575.5,-249 2575.5,-249 2575.5,-255 2569.5,-261 2563.5,-261\"/>\n<text text-anchor=\"middle\" x=\"2462.5\" y=\"-245.8\" font-family=\"Helvetica,sans-Serif\" font-size=\"14.00\" fill=\"#000000\">blueTotalExperience &lt;= 20366.5</text>\n<text text-anchor=\"middle\" x=\"2462.5\" y=\"-230.8\" font-family=\"Helvetica,sans-Serif\" font-size=\"14.00\" fill=\"#000000\">gini = 0.999</text>\n<text text-anchor=\"middle\" x=\"2462.5\" y=\"-215.8\" font-family=\"Helvetica,sans-Serif\" font-size=\"14.00\" fill=\"#000000\">samples = 2340</text>\n<text text-anchor=\"middle\" x=\"2462.5\" y=\"-200.8\" font-family=\"Helvetica,sans-Serif\" font-size=\"14.00\" fill=\"#000000\">value = [0, 0, 0 ... 0, 0, 0]</text>\n</g>\n<!-- 17&#45;&gt;25 -->\n<g id=\"edge25\" class=\"edge\">\n<title>17&#45;&gt;25</title>\n<path fill=\"none\" stroke=\"#000000\" d=\"M2366.3235,-296.9465C2379.4098,-287.4293 2393.753,-276.9978 2407.2759,-267.163\"/>\n<polygon fill=\"#000000\" stroke=\"#000000\" points=\"2409.5425,-269.8423 2415.5713,-261.13 2405.4253,-264.1812 2409.5425,-269.8423\"/>\n</g>\n<!-- 19 -->\n<g id=\"node20\" class=\"node\">\n<title>19</title>\n<path fill=\"#ffffff\" stroke=\"#000000\" d=\"M1880,-157C1880,-157 1731,-157 1731,-157 1725,-157 1719,-151 1719,-145 1719,-145 1719,-101 1719,-101 1719,-95 1725,-89 1731,-89 1731,-89 1880,-89 1880,-89 1886,-89 1892,-95 1892,-101 1892,-101 1892,-145 1892,-145 1892,-151 1886,-157 1880,-157\"/>\n<text text-anchor=\"middle\" x=\"1805.5\" y=\"-141.8\" font-family=\"Helvetica,sans-Serif\" font-size=\"14.00\" fill=\"#000000\">blueKills &lt;= 4.5</text>\n<text text-anchor=\"middle\" x=\"1805.5\" y=\"-126.8\" font-family=\"Helvetica,sans-Serif\" font-size=\"14.00\" fill=\"#000000\">gini = 0.999</text>\n<text text-anchor=\"middle\" x=\"1805.5\" y=\"-111.8\" font-family=\"Helvetica,sans-Serif\" font-size=\"14.00\" fill=\"#000000\">samples = 1425</text>\n<text text-anchor=\"middle\" x=\"1805.5\" y=\"-96.8\" font-family=\"Helvetica,sans-Serif\" font-size=\"14.00\" fill=\"#000000\">value = [0, 0, 1 ... 0, 0, 0]</text>\n</g>\n<!-- 18&#45;&gt;19 -->\n<g id=\"edge19\" class=\"edge\">\n<title>18&#45;&gt;19</title>\n<path fill=\"none\" stroke=\"#000000\" d=\"M1998.5255,-192.9465C1967.5615,-181.7261 1933.091,-169.2351 1901.9458,-157.949\"/>\n<polygon fill=\"#000000\" stroke=\"#000000\" points=\"1902.9886,-154.6042 1892.3944,-154.4879 1900.6037,-161.1855 1902.9886,-154.6042\"/>\n</g>\n<!-- 22 -->\n<g id=\"node23\" class=\"node\">\n<title>22</title>\n<path fill=\"#fcfefa\" stroke=\"#000000\" d=\"M2168.5,-157C2168.5,-157 2016.5,-157 2016.5,-157 2010.5,-157 2004.5,-151 2004.5,-145 2004.5,-145 2004.5,-101 2004.5,-101 2004.5,-95 2010.5,-89 2016.5,-89 2016.5,-89 2168.5,-89 2168.5,-89 2174.5,-89 2180.5,-95 2180.5,-101 2180.5,-101 2180.5,-145 2180.5,-145 2180.5,-151 2174.5,-157 2168.5,-157\"/>\n<text text-anchor=\"middle\" x=\"2092.5\" y=\"-141.8\" font-family=\"Helvetica,sans-Serif\" font-size=\"14.00\" fill=\"#000000\">redWardsPlaced &lt;= 50.5</text>\n<text text-anchor=\"middle\" x=\"2092.5\" y=\"-126.8\" font-family=\"Helvetica,sans-Serif\" font-size=\"14.00\" fill=\"#000000\">gini = 0.974</text>\n<text text-anchor=\"middle\" x=\"2092.5\" y=\"-111.8\" font-family=\"Helvetica,sans-Serif\" font-size=\"14.00\" fill=\"#000000\">samples = 45</text>\n<text text-anchor=\"middle\" x=\"2092.5\" y=\"-96.8\" font-family=\"Helvetica,sans-Serif\" font-size=\"14.00\" fill=\"#000000\">value = [0, 0, 0 ... 0, 0, 0]</text>\n</g>\n<!-- 18&#45;&gt;22 -->\n<g id=\"edge22\" class=\"edge\">\n<title>18&#45;&gt;22</title>\n<path fill=\"none\" stroke=\"#000000\" d=\"M2092.5,-192.9465C2092.5,-184.776 2092.5,-175.9318 2092.5,-167.3697\"/>\n<polygon fill=\"#000000\" stroke=\"#000000\" points=\"2096.0001,-167.13 2092.5,-157.13 2089.0001,-167.13 2096.0001,-167.13\"/>\n</g>\n<!-- 20 -->\n<g id=\"node21\" class=\"node\">\n<title>20</title>\n<path fill=\"#ffffff\" stroke=\"#000000\" d=\"M1689,-53C1689,-53 1540,-53 1540,-53 1534,-53 1528,-47 1528,-41 1528,-41 1528,-12 1528,-12 1528,-6 1534,0 1540,0 1540,0 1689,0 1689,0 1695,0 1701,-6 1701,-12 1701,-12 1701,-41 1701,-41 1701,-47 1695,-53 1689,-53\"/>\n<text text-anchor=\"middle\" x=\"1614.5\" y=\"-37.8\" font-family=\"Helvetica,sans-Serif\" font-size=\"14.00\" fill=\"#000000\">gini = 0.997</text>\n<text text-anchor=\"middle\" x=\"1614.5\" y=\"-22.8\" font-family=\"Helvetica,sans-Serif\" font-size=\"14.00\" fill=\"#000000\">samples = 503</text>\n<text text-anchor=\"middle\" x=\"1614.5\" y=\"-7.8\" font-family=\"Helvetica,sans-Serif\" font-size=\"14.00\" fill=\"#000000\">value = [0, 0, 1 ... 0, 0, 0]</text>\n</g>\n<!-- 19&#45;&gt;20 -->\n<g id=\"edge20\" class=\"edge\">\n<title>19&#45;&gt;20</title>\n<path fill=\"none\" stroke=\"#000000\" d=\"M1738.1605,-88.9777C1717.9496,-78.7664 1695.8906,-67.6214 1676.0722,-57.6085\"/>\n<polygon fill=\"#000000\" stroke=\"#000000\" points=\"1677.6427,-54.4806 1667.1389,-53.095 1674.486,-60.7285 1677.6427,-54.4806\"/>\n</g>\n<!-- 21 -->\n<g id=\"node22\" class=\"node\">\n<title>21</title>\n<path fill=\"#ffffff\" stroke=\"#000000\" d=\"M1880,-53C1880,-53 1731,-53 1731,-53 1725,-53 1719,-47 1719,-41 1719,-41 1719,-12 1719,-12 1719,-6 1725,0 1731,0 1731,0 1880,0 1880,0 1886,0 1892,-6 1892,-12 1892,-12 1892,-41 1892,-41 1892,-47 1886,-53 1880,-53\"/>\n<text text-anchor=\"middle\" x=\"1805.5\" y=\"-37.8\" font-family=\"Helvetica,sans-Serif\" font-size=\"14.00\" fill=\"#000000\">gini = 0.998</text>\n<text text-anchor=\"middle\" x=\"1805.5\" y=\"-22.8\" font-family=\"Helvetica,sans-Serif\" font-size=\"14.00\" fill=\"#000000\">samples = 922</text>\n<text text-anchor=\"middle\" x=\"1805.5\" y=\"-7.8\" font-family=\"Helvetica,sans-Serif\" font-size=\"14.00\" fill=\"#000000\">value = [0, 0, 0 ... 0, 0, 0]</text>\n</g>\n<!-- 19&#45;&gt;21 -->\n<g id=\"edge21\" class=\"edge\">\n<title>19&#45;&gt;21</title>\n<path fill=\"none\" stroke=\"#000000\" d=\"M1805.5,-88.9777C1805.5,-80.7364 1805.5,-71.887 1805.5,-63.5153\"/>\n<polygon fill=\"#000000\" stroke=\"#000000\" points=\"1809.0001,-63.2484 1805.5,-53.2485 1802.0001,-63.2485 1809.0001,-63.2484\"/>\n</g>\n<!-- 23 -->\n<g id=\"node24\" class=\"node\">\n<title>23</title>\n<path fill=\"#fdfefa\" stroke=\"#000000\" d=\"M2071,-53C2071,-53 1922,-53 1922,-53 1916,-53 1910,-47 1910,-41 1910,-41 1910,-12 1910,-12 1910,-6 1916,0 1922,0 1922,0 2071,0 2071,0 2077,0 2083,-6 2083,-12 2083,-12 2083,-41 2083,-41 2083,-47 2077,-53 2071,-53\"/>\n<text text-anchor=\"middle\" x=\"1996.5\" y=\"-37.8\" font-family=\"Helvetica,sans-Serif\" font-size=\"14.00\" fill=\"#000000\">gini = 0.973</text>\n<text text-anchor=\"middle\" x=\"1996.5\" y=\"-22.8\" font-family=\"Helvetica,sans-Serif\" font-size=\"14.00\" fill=\"#000000\">samples = 39</text>\n<text text-anchor=\"middle\" x=\"1996.5\" y=\"-7.8\" font-family=\"Helvetica,sans-Serif\" font-size=\"14.00\" fill=\"#000000\">value = [0, 0, 0 ... 0, 0, 0]</text>\n</g>\n<!-- 22&#45;&gt;23 -->\n<g id=\"edge23\" class=\"edge\">\n<title>22&#45;&gt;23</title>\n<path fill=\"none\" stroke=\"#000000\" d=\"M2058.654,-88.9777C2049.4534,-79.7292 2039.4908,-69.7147 2030.2931,-60.4691\"/>\n<polygon fill=\"#000000\" stroke=\"#000000\" points=\"2032.6439,-57.8695 2023.1099,-53.2485 2027.6813,-62.8064 2032.6439,-57.8695\"/>\n</g>\n<!-- 24 -->\n<g id=\"node25\" class=\"node\">\n<title>24</title>\n<path fill=\"#e5fad7\" stroke=\"#000000\" d=\"M2262,-53C2262,-53 2113,-53 2113,-53 2107,-53 2101,-47 2101,-41 2101,-41 2101,-12 2101,-12 2101,-6 2107,0 2113,0 2113,0 2262,0 2262,0 2268,0 2274,-6 2274,-12 2274,-12 2274,-41 2274,-41 2274,-47 2268,-53 2262,-53\"/>\n<text text-anchor=\"middle\" x=\"2187.5\" y=\"-37.8\" font-family=\"Helvetica,sans-Serif\" font-size=\"14.00\" fill=\"#000000\">gini = 0.778</text>\n<text text-anchor=\"middle\" x=\"2187.5\" y=\"-22.8\" font-family=\"Helvetica,sans-Serif\" font-size=\"14.00\" fill=\"#000000\">samples = 6</text>\n<text text-anchor=\"middle\" x=\"2187.5\" y=\"-7.8\" font-family=\"Helvetica,sans-Serif\" font-size=\"14.00\" fill=\"#000000\">value = [0, 0, 0 ... 0, 0, 0]</text>\n</g>\n<!-- 22&#45;&gt;24 -->\n<g id=\"edge24\" class=\"edge\">\n<title>22&#45;&gt;24</title>\n<path fill=\"none\" stroke=\"#000000\" d=\"M2125.9934,-88.9777C2135.0982,-79.7292 2144.957,-69.7147 2154.0589,-60.4691\"/>\n<polygon fill=\"#000000\" stroke=\"#000000\" points=\"2156.646,-62.8302 2161.1673,-53.2485 2151.6576,-57.9193 2156.646,-62.8302\"/>\n</g>\n<!-- 26 -->\n<g id=\"node27\" class=\"node\">\n<title>26</title>\n<path fill=\"#ffffff\" stroke=\"#000000\" d=\"M2560,-157C2560,-157 2365,-157 2365,-157 2359,-157 2353,-151 2353,-145 2353,-145 2353,-101 2353,-101 2353,-95 2359,-89 2365,-89 2365,-89 2560,-89 2560,-89 2566,-89 2572,-95 2572,-101 2572,-101 2572,-145 2572,-145 2572,-151 2566,-157 2560,-157\"/>\n<text text-anchor=\"middle\" x=\"2462.5\" y=\"-141.8\" font-family=\"Helvetica,sans-Serif\" font-size=\"14.00\" fill=\"#000000\">redTotalExperience &lt;= 15492.0</text>\n<text text-anchor=\"middle\" x=\"2462.5\" y=\"-126.8\" font-family=\"Helvetica,sans-Serif\" font-size=\"14.00\" fill=\"#000000\">gini = 0.999</text>\n<text text-anchor=\"middle\" x=\"2462.5\" y=\"-111.8\" font-family=\"Helvetica,sans-Serif\" font-size=\"14.00\" fill=\"#000000\">samples = 2329</text>\n<text text-anchor=\"middle\" x=\"2462.5\" y=\"-96.8\" font-family=\"Helvetica,sans-Serif\" font-size=\"14.00\" fill=\"#000000\">value = [0, 0, 0 ... 0, 0, 0]</text>\n</g>\n<!-- 25&#45;&gt;26 -->\n<g id=\"edge26\" class=\"edge\">\n<title>25&#45;&gt;26</title>\n<path fill=\"none\" stroke=\"#000000\" d=\"M2462.5,-192.9465C2462.5,-184.776 2462.5,-175.9318 2462.5,-167.3697\"/>\n<polygon fill=\"#000000\" stroke=\"#000000\" points=\"2466.0001,-167.13 2462.5,-157.13 2459.0001,-167.13 2466.0001,-167.13\"/>\n</g>\n<!-- 29 -->\n<g id=\"node30\" class=\"node\">\n<title>29</title>\n<path fill=\"#faebfc\" stroke=\"#000000\" d=\"M2835,-157C2835,-157 2686,-157 2686,-157 2680,-157 2674,-151 2674,-145 2674,-145 2674,-101 2674,-101 2674,-95 2680,-89 2686,-89 2686,-89 2835,-89 2835,-89 2841,-89 2847,-95 2847,-101 2847,-101 2847,-145 2847,-145 2847,-151 2841,-157 2835,-157\"/>\n<text text-anchor=\"middle\" x=\"2760.5\" y=\"-141.8\" font-family=\"Helvetica,sans-Serif\" font-size=\"14.00\" fill=\"#000000\">redAssists &lt;= 1.5</text>\n<text text-anchor=\"middle\" x=\"2760.5\" y=\"-126.8\" font-family=\"Helvetica,sans-Serif\" font-size=\"14.00\" fill=\"#000000\">gini = 0.893</text>\n<text text-anchor=\"middle\" x=\"2760.5\" y=\"-111.8\" font-family=\"Helvetica,sans-Serif\" font-size=\"14.00\" fill=\"#000000\">samples = 11</text>\n<text text-anchor=\"middle\" x=\"2760.5\" y=\"-96.8\" font-family=\"Helvetica,sans-Serif\" font-size=\"14.00\" fill=\"#000000\">value = [0, 0, 0 ... 0, 0, 0]</text>\n</g>\n<!-- 25&#45;&gt;29 -->\n<g id=\"edge29\" class=\"edge\">\n<title>25&#45;&gt;29</title>\n<path fill=\"none\" stroke=\"#000000\" d=\"M2560.0763,-192.9465C2593.4471,-181.3003 2630.7404,-168.2852 2664.0239,-156.6695\"/>\n<polygon fill=\"#000000\" stroke=\"#000000\" points=\"2665.4673,-159.8729 2673.7555,-153.2732 2663.1607,-153.2638 2665.4673,-159.8729\"/>\n</g>\n<!-- 27 -->\n<g id=\"node28\" class=\"node\">\n<title>27</title>\n<path fill=\"#ebecfc\" stroke=\"#000000\" d=\"M2453,-53C2453,-53 2304,-53 2304,-53 2298,-53 2292,-47 2292,-41 2292,-41 2292,-12 2292,-12 2292,-6 2298,0 2304,0 2304,0 2453,0 2453,0 2459,0 2465,-6 2465,-12 2465,-12 2465,-41 2465,-41 2465,-47 2459,-53 2453,-53\"/>\n<text text-anchor=\"middle\" x=\"2378.5\" y=\"-37.8\" font-family=\"Helvetica,sans-Serif\" font-size=\"14.00\" fill=\"#000000\">gini = 0.893</text>\n<text text-anchor=\"middle\" x=\"2378.5\" y=\"-22.8\" font-family=\"Helvetica,sans-Serif\" font-size=\"14.00\" fill=\"#000000\">samples = 11</text>\n<text text-anchor=\"middle\" x=\"2378.5\" y=\"-7.8\" font-family=\"Helvetica,sans-Serif\" font-size=\"14.00\" fill=\"#000000\">value = [0, 0, 0 ... 0, 0, 0]</text>\n</g>\n<!-- 26&#45;&gt;27 -->\n<g id=\"edge27\" class=\"edge\">\n<title>26&#45;&gt;27</title>\n<path fill=\"none\" stroke=\"#000000\" d=\"M2432.8847,-88.9777C2424.9936,-79.9123 2416.4619,-70.111 2408.5478,-61.0192\"/>\n<polygon fill=\"#000000\" stroke=\"#000000\" points=\"2410.9893,-58.4932 2401.7836,-53.2485 2405.7094,-63.0892 2410.9893,-58.4932\"/>\n</g>\n<!-- 28 -->\n<g id=\"node29\" class=\"node\">\n<title>28</title>\n<path fill=\"#ffffff\" stroke=\"#000000\" d=\"M2644,-53C2644,-53 2495,-53 2495,-53 2489,-53 2483,-47 2483,-41 2483,-41 2483,-12 2483,-12 2483,-6 2489,0 2495,0 2495,0 2644,0 2644,0 2650,0 2656,-6 2656,-12 2656,-12 2656,-41 2656,-41 2656,-47 2650,-53 2644,-53\"/>\n<text text-anchor=\"middle\" x=\"2569.5\" y=\"-37.8\" font-family=\"Helvetica,sans-Serif\" font-size=\"14.00\" fill=\"#000000\">gini = 0.999</text>\n<text text-anchor=\"middle\" x=\"2569.5\" y=\"-22.8\" font-family=\"Helvetica,sans-Serif\" font-size=\"14.00\" fill=\"#000000\">samples = 2318</text>\n<text text-anchor=\"middle\" x=\"2569.5\" y=\"-7.8\" font-family=\"Helvetica,sans-Serif\" font-size=\"14.00\" fill=\"#000000\">value = [0, 0, 0 ... 0, 0, 0]</text>\n</g>\n<!-- 26&#45;&gt;28 -->\n<g id=\"edge28\" class=\"edge\">\n<title>26&#45;&gt;28</title>\n<path fill=\"none\" stroke=\"#000000\" d=\"M2500.2242,-88.9777C2510.5806,-79.6376 2521.8031,-69.5163 2532.139,-60.1947\"/>\n<polygon fill=\"#000000\" stroke=\"#000000\" points=\"2534.7591,-62.5449 2539.8411,-53.2485 2530.0709,-57.3467 2534.7591,-62.5449\"/>\n</g>\n<!-- 30 -->\n<g id=\"node31\" class=\"node\">\n<title>30</title>\n<path fill=\"#ffffff\" stroke=\"#000000\" d=\"M2835,-53C2835,-53 2686,-53 2686,-53 2680,-53 2674,-47 2674,-41 2674,-41 2674,-12 2674,-12 2674,-6 2680,0 2686,0 2686,0 2835,0 2835,0 2841,0 2847,-6 2847,-12 2847,-12 2847,-41 2847,-41 2847,-47 2841,-53 2835,-53\"/>\n<text text-anchor=\"middle\" x=\"2760.5\" y=\"-37.8\" font-family=\"Helvetica,sans-Serif\" font-size=\"14.00\" fill=\"#000000\">gini = 0.8</text>\n<text text-anchor=\"middle\" x=\"2760.5\" y=\"-22.8\" font-family=\"Helvetica,sans-Serif\" font-size=\"14.00\" fill=\"#000000\">samples = 5</text>\n<text text-anchor=\"middle\" x=\"2760.5\" y=\"-7.8\" font-family=\"Helvetica,sans-Serif\" font-size=\"14.00\" fill=\"#000000\">value = [0, 0, 0 ... 0, 0, 0]</text>\n</g>\n<!-- 29&#45;&gt;30 -->\n<g id=\"edge30\" class=\"edge\">\n<title>29&#45;&gt;30</title>\n<path fill=\"none\" stroke=\"#000000\" d=\"M2760.5,-88.9777C2760.5,-80.7364 2760.5,-71.887 2760.5,-63.5153\"/>\n<polygon fill=\"#000000\" stroke=\"#000000\" points=\"2764.0001,-63.2484 2760.5,-53.2485 2757.0001,-63.2485 2764.0001,-63.2484\"/>\n</g>\n<!-- 31 -->\n<g id=\"node32\" class=\"node\">\n<title>31</title>\n<path fill=\"#f5d7fa\" stroke=\"#000000\" d=\"M3026,-53C3026,-53 2877,-53 2877,-53 2871,-53 2865,-47 2865,-41 2865,-41 2865,-12 2865,-12 2865,-6 2871,0 2877,0 2877,0 3026,0 3026,0 3032,0 3038,-6 3038,-12 3038,-12 3038,-41 3038,-41 3038,-47 3032,-53 3026,-53\"/>\n<text text-anchor=\"middle\" x=\"2951.5\" y=\"-37.8\" font-family=\"Helvetica,sans-Serif\" font-size=\"14.00\" fill=\"#000000\">gini = 0.778</text>\n<text text-anchor=\"middle\" x=\"2951.5\" y=\"-22.8\" font-family=\"Helvetica,sans-Serif\" font-size=\"14.00\" fill=\"#000000\">samples = 6</text>\n<text text-anchor=\"middle\" x=\"2951.5\" y=\"-7.8\" font-family=\"Helvetica,sans-Serif\" font-size=\"14.00\" fill=\"#000000\">value = [0, 0, 0 ... 0, 0, 0]</text>\n</g>\n<!-- 29&#45;&gt;31 -->\n<g id=\"edge31\" class=\"edge\">\n<title>29&#45;&gt;31</title>\n<path fill=\"none\" stroke=\"#000000\" d=\"M2827.8395,-88.9777C2848.0504,-78.7664 2870.1094,-67.6214 2889.9278,-57.6085\"/>\n<polygon fill=\"#000000\" stroke=\"#000000\" points=\"2891.514,-60.7285 2898.8611,-53.095 2888.3573,-54.4806 2891.514,-60.7285\"/>\n</g>\n<!-- 33 -->\n<g id=\"node34\" class=\"node\">\n<title>33</title>\n<path fill=\"#ffffff\" stroke=\"#000000\" d=\"M3835,-365C3835,-365 3638,-365 3638,-365 3632,-365 3626,-359 3626,-353 3626,-353 3626,-309 3626,-309 3626,-303 3632,-297 3638,-297 3638,-297 3835,-297 3835,-297 3841,-297 3847,-303 3847,-309 3847,-309 3847,-353 3847,-353 3847,-359 3841,-365 3835,-365\"/>\n<text text-anchor=\"middle\" x=\"3736.5\" y=\"-349.8\" font-family=\"Helvetica,sans-Serif\" font-size=\"14.00\" fill=\"#000000\">blueTotalMinionsKilled &lt;= 177.5</text>\n<text text-anchor=\"middle\" x=\"3736.5\" y=\"-334.8\" font-family=\"Helvetica,sans-Serif\" font-size=\"14.00\" fill=\"#000000\">gini = 0.999</text>\n<text text-anchor=\"middle\" x=\"3736.5\" y=\"-319.8\" font-family=\"Helvetica,sans-Serif\" font-size=\"14.00\" fill=\"#000000\">samples = 2797</text>\n<text text-anchor=\"middle\" x=\"3736.5\" y=\"-304.8\" font-family=\"Helvetica,sans-Serif\" font-size=\"14.00\" fill=\"#000000\">value = [0, 0, 0 ... 0, 0, 0]</text>\n</g>\n<!-- 32&#45;&gt;33 -->\n<g id=\"edge33\" class=\"edge\">\n<title>32&#45;&gt;33</title>\n<path fill=\"none\" stroke=\"#000000\" d=\"M3736.5,-400.9465C3736.5,-392.776 3736.5,-383.9318 3736.5,-375.3697\"/>\n<polygon fill=\"#000000\" stroke=\"#000000\" points=\"3740.0001,-375.13 3736.5,-365.13 3733.0001,-375.13 3740.0001,-375.13\"/>\n</g>\n<!-- 48 -->\n<g id=\"node49\" class=\"node\">\n<title>48</title>\n<path fill=\"#ffffff\" stroke=\"#000000\" d=\"M5032,-365C5032,-365 4883,-365 4883,-365 4877,-365 4871,-359 4871,-353 4871,-353 4871,-309 4871,-309 4871,-303 4877,-297 4883,-297 4883,-297 5032,-297 5032,-297 5038,-297 5044,-303 5044,-309 5044,-309 5044,-353 5044,-353 5044,-359 5038,-365 5032,-365\"/>\n<text text-anchor=\"middle\" x=\"4957.5\" y=\"-349.8\" font-family=\"Helvetica,sans-Serif\" font-size=\"14.00\" fill=\"#000000\">blueKills &lt;= 11.5</text>\n<text text-anchor=\"middle\" x=\"4957.5\" y=\"-334.8\" font-family=\"Helvetica,sans-Serif\" font-size=\"14.00\" fill=\"#000000\">gini = 0.999</text>\n<text text-anchor=\"middle\" x=\"4957.5\" y=\"-319.8\" font-family=\"Helvetica,sans-Serif\" font-size=\"14.00\" fill=\"#000000\">samples = 1370</text>\n<text text-anchor=\"middle\" x=\"4957.5\" y=\"-304.8\" font-family=\"Helvetica,sans-Serif\" font-size=\"14.00\" fill=\"#000000\">value = [0, 0, 0 ... 1, 1, 1]</text>\n</g>\n<!-- 32&#45;&gt;48 -->\n<g id=\"edge48\" class=\"edge\">\n<title>32&#45;&gt;48</title>\n<path fill=\"none\" stroke=\"#000000\" d=\"M3823.3325,-427.6039C4044.6449,-408.7534 4628.6931,-359.0065 4860.5956,-339.2539\"/>\n<polygon fill=\"#000000\" stroke=\"#000000\" points=\"4861.0355,-342.7292 4870.7023,-338.3931 4860.4413,-335.7545 4861.0355,-342.7292\"/>\n</g>\n<!-- 34 -->\n<g id=\"node35\" class=\"node\">\n<title>34</title>\n<path fill=\"#fbfcfe\" stroke=\"#000000\" d=\"M3716.5,-261C3716.5,-261 3564.5,-261 3564.5,-261 3558.5,-261 3552.5,-255 3552.5,-249 3552.5,-249 3552.5,-205 3552.5,-205 3552.5,-199 3558.5,-193 3564.5,-193 3564.5,-193 3716.5,-193 3716.5,-193 3722.5,-193 3728.5,-199 3728.5,-205 3728.5,-205 3728.5,-249 3728.5,-249 3728.5,-255 3722.5,-261 3716.5,-261\"/>\n<text text-anchor=\"middle\" x=\"3640.5\" y=\"-245.8\" font-family=\"Helvetica,sans-Serif\" font-size=\"14.00\" fill=\"#000000\">redWardsPlaced &lt;= 33.5</text>\n<text text-anchor=\"middle\" x=\"3640.5\" y=\"-230.8\" font-family=\"Helvetica,sans-Serif\" font-size=\"14.00\" fill=\"#000000\">gini = 0.988</text>\n<text text-anchor=\"middle\" x=\"3640.5\" y=\"-215.8\" font-family=\"Helvetica,sans-Serif\" font-size=\"14.00\" fill=\"#000000\">samples = 100</text>\n<text text-anchor=\"middle\" x=\"3640.5\" y=\"-200.8\" font-family=\"Helvetica,sans-Serif\" font-size=\"14.00\" fill=\"#000000\">value = [0, 0, 0 ... 0, 0, 0]</text>\n</g>\n<!-- 33&#45;&gt;34 -->\n<g id=\"edge34\" class=\"edge\">\n<title>33&#45;&gt;34</title>\n<path fill=\"none\" stroke=\"#000000\" d=\"M3705.066,-296.9465C3696.6953,-287.8782 3687.5584,-277.9799 3678.8617,-268.5585\"/>\n<polygon fill=\"#000000\" stroke=\"#000000\" points=\"3681.3593,-266.1041 3672.0046,-261.13 3676.2156,-270.852 3681.3593,-266.1041\"/>\n</g>\n<!-- 41 -->\n<g id=\"node42\" class=\"node\">\n<title>41</title>\n<path fill=\"#ffffff\" stroke=\"#000000\" d=\"M4087,-261C4087,-261 3890,-261 3890,-261 3884,-261 3878,-255 3878,-249 3878,-249 3878,-205 3878,-205 3878,-199 3884,-193 3890,-193 3890,-193 4087,-193 4087,-193 4093,-193 4099,-199 4099,-205 4099,-205 4099,-249 4099,-249 4099,-255 4093,-261 4087,-261\"/>\n<text text-anchor=\"middle\" x=\"3988.5\" y=\"-245.8\" font-family=\"Helvetica,sans-Serif\" font-size=\"14.00\" fill=\"#000000\">blueTotalMinionsKilled &lt;= 231.5</text>\n<text text-anchor=\"middle\" x=\"3988.5\" y=\"-230.8\" font-family=\"Helvetica,sans-Serif\" font-size=\"14.00\" fill=\"#000000\">gini = 0.999</text>\n<text text-anchor=\"middle\" x=\"3988.5\" y=\"-215.8\" font-family=\"Helvetica,sans-Serif\" font-size=\"14.00\" fill=\"#000000\">samples = 2697</text>\n<text text-anchor=\"middle\" x=\"3988.5\" y=\"-200.8\" font-family=\"Helvetica,sans-Serif\" font-size=\"14.00\" fill=\"#000000\">value = [0, 0, 0 ... 0, 0, 0]</text>\n</g>\n<!-- 33&#45;&gt;41 -->\n<g id=\"edge41\" class=\"edge\">\n<title>33&#45;&gt;41</title>\n<path fill=\"none\" stroke=\"#000000\" d=\"M3819.0142,-296.9465C3843.8157,-286.711 3871.1793,-275.4181 3896.5513,-264.9471\"/>\n<polygon fill=\"#000000\" stroke=\"#000000\" points=\"3897.8919,-268.1802 3905.8004,-261.13 3895.2214,-261.7096 3897.8919,-268.1802\"/>\n</g>\n<!-- 35 -->\n<g id=\"node36\" class=\"node\">\n<title>35</title>\n<path fill=\"#fbfcfe\" stroke=\"#000000\" d=\"M3450,-157C3450,-157 3217,-157 3217,-157 3211,-157 3205,-151 3205,-145 3205,-145 3205,-101 3205,-101 3205,-95 3211,-89 3217,-89 3217,-89 3450,-89 3450,-89 3456,-89 3462,-95 3462,-101 3462,-101 3462,-145 3462,-145 3462,-151 3456,-157 3450,-157\"/>\n<text text-anchor=\"middle\" x=\"3333.5\" y=\"-141.8\" font-family=\"Helvetica,sans-Serif\" font-size=\"14.00\" fill=\"#000000\">blueTotalJungleMinionsKilled &lt;= 46.0</text>\n<text text-anchor=\"middle\" x=\"3333.5\" y=\"-126.8\" font-family=\"Helvetica,sans-Serif\" font-size=\"14.00\" fill=\"#000000\">gini = 0.987</text>\n<text text-anchor=\"middle\" x=\"3333.5\" y=\"-111.8\" font-family=\"Helvetica,sans-Serif\" font-size=\"14.00\" fill=\"#000000\">samples = 91</text>\n<text text-anchor=\"middle\" x=\"3333.5\" y=\"-96.8\" font-family=\"Helvetica,sans-Serif\" font-size=\"14.00\" fill=\"#000000\">value = [0, 0, 0 ... 0, 0, 0]</text>\n</g>\n<!-- 34&#45;&gt;35 -->\n<g id=\"edge35\" class=\"edge\">\n<title>34&#45;&gt;35</title>\n<path fill=\"none\" stroke=\"#000000\" d=\"M3552.1148,-197.0584C3518.2115,-185.5733 3479.106,-172.3258 3443.4254,-160.2386\"/>\n<polygon fill=\"#000000\" stroke=\"#000000\" points=\"3444.5425,-156.9217 3433.9482,-157.028 3442.2965,-163.5516 3444.5425,-156.9217\"/>\n</g>\n<!-- 38 -->\n<g id=\"node39\" class=\"node\">\n<title>38</title>\n<path fill=\"#e6fcea\" stroke=\"#000000\" d=\"M3715,-157C3715,-157 3566,-157 3566,-157 3560,-157 3554,-151 3554,-145 3554,-145 3554,-101 3554,-101 3554,-95 3560,-89 3566,-89 3566,-89 3715,-89 3715,-89 3721,-89 3727,-95 3727,-101 3727,-101 3727,-145 3727,-145 3727,-151 3721,-157 3715,-157\"/>\n<text text-anchor=\"middle\" x=\"3640.5\" y=\"-141.8\" font-family=\"Helvetica,sans-Serif\" font-size=\"14.00\" fill=\"#000000\">redAssists &lt;= 8.0</text>\n<text text-anchor=\"middle\" x=\"3640.5\" y=\"-126.8\" font-family=\"Helvetica,sans-Serif\" font-size=\"14.00\" fill=\"#000000\">gini = 0.864</text>\n<text text-anchor=\"middle\" x=\"3640.5\" y=\"-111.8\" font-family=\"Helvetica,sans-Serif\" font-size=\"14.00\" fill=\"#000000\">samples = 9</text>\n<text text-anchor=\"middle\" x=\"3640.5\" y=\"-96.8\" font-family=\"Helvetica,sans-Serif\" font-size=\"14.00\" fill=\"#000000\">value = [0, 0, 0 ... 0, 0, 0]</text>\n</g>\n<!-- 34&#45;&gt;38 -->\n<g id=\"edge38\" class=\"edge\">\n<title>34&#45;&gt;38</title>\n<path fill=\"none\" stroke=\"#000000\" d=\"M3640.5,-192.9465C3640.5,-184.776 3640.5,-175.9318 3640.5,-167.3697\"/>\n<polygon fill=\"#000000\" stroke=\"#000000\" points=\"3644.0001,-167.13 3640.5,-157.13 3637.0001,-167.13 3644.0001,-167.13\"/>\n</g>\n<!-- 36 -->\n<g id=\"node37\" class=\"node\">\n<title>36</title>\n<path fill=\"#fbfefb\" stroke=\"#000000\" d=\"M3217,-53C3217,-53 3068,-53 3068,-53 3062,-53 3056,-47 3056,-41 3056,-41 3056,-12 3056,-12 3056,-6 3062,0 3068,0 3068,0 3217,0 3217,0 3223,0 3229,-6 3229,-12 3229,-12 3229,-41 3229,-41 3229,-47 3223,-53 3217,-53\"/>\n<text text-anchor=\"middle\" x=\"3142.5\" y=\"-37.8\" font-family=\"Helvetica,sans-Serif\" font-size=\"14.00\" fill=\"#000000\">gini = 0.979</text>\n<text text-anchor=\"middle\" x=\"3142.5\" y=\"-22.8\" font-family=\"Helvetica,sans-Serif\" font-size=\"14.00\" fill=\"#000000\">samples = 49</text>\n<text text-anchor=\"middle\" x=\"3142.5\" y=\"-7.8\" font-family=\"Helvetica,sans-Serif\" font-size=\"14.00\" fill=\"#000000\">value = [0, 0, 0 ... 0, 0, 0]</text>\n</g>\n<!-- 35&#45;&gt;36 -->\n<g id=\"edge36\" class=\"edge\">\n<title>35&#45;&gt;36</title>\n<path fill=\"none\" stroke=\"#000000\" d=\"M3266.1605,-88.9777C3245.9496,-78.7664 3223.8906,-67.6214 3204.0722,-57.6085\"/>\n<polygon fill=\"#000000\" stroke=\"#000000\" points=\"3205.6427,-54.4806 3195.1389,-53.095 3202.486,-60.7285 3205.6427,-54.4806\"/>\n</g>\n<!-- 37 -->\n<g id=\"node38\" class=\"node\">\n<title>37</title>\n<path fill=\"#f5f8fe\" stroke=\"#000000\" d=\"M3408,-53C3408,-53 3259,-53 3259,-53 3253,-53 3247,-47 3247,-41 3247,-41 3247,-12 3247,-12 3247,-6 3253,0 3259,0 3259,0 3408,0 3408,0 3414,0 3420,-6 3420,-12 3420,-12 3420,-41 3420,-41 3420,-47 3414,-53 3408,-53\"/>\n<text text-anchor=\"middle\" x=\"3333.5\" y=\"-37.8\" font-family=\"Helvetica,sans-Serif\" font-size=\"14.00\" fill=\"#000000\">gini = 0.967</text>\n<text text-anchor=\"middle\" x=\"3333.5\" y=\"-22.8\" font-family=\"Helvetica,sans-Serif\" font-size=\"14.00\" fill=\"#000000\">samples = 42</text>\n<text text-anchor=\"middle\" x=\"3333.5\" y=\"-7.8\" font-family=\"Helvetica,sans-Serif\" font-size=\"14.00\" fill=\"#000000\">value = [0, 0, 0 ... 0, 0, 0]</text>\n</g>\n<!-- 35&#45;&gt;37 -->\n<g id=\"edge37\" class=\"edge\">\n<title>35&#45;&gt;37</title>\n<path fill=\"none\" stroke=\"#000000\" d=\"M3333.5,-88.9777C3333.5,-80.7364 3333.5,-71.887 3333.5,-63.5153\"/>\n<polygon fill=\"#000000\" stroke=\"#000000\" points=\"3337.0001,-63.2484 3333.5,-53.2485 3330.0001,-63.2485 3337.0001,-63.2484\"/>\n</g>\n<!-- 39 -->\n<g id=\"node40\" class=\"node\">\n<title>39</title>\n<path fill=\"#9cf2aa\" stroke=\"#000000\" d=\"M3599,-53C3599,-53 3450,-53 3450,-53 3444,-53 3438,-47 3438,-41 3438,-41 3438,-12 3438,-12 3438,-6 3444,0 3450,0 3450,0 3599,0 3599,0 3605,0 3611,-6 3611,-12 3611,-12 3611,-41 3611,-41 3611,-47 3605,-53 3599,-53\"/>\n<text text-anchor=\"middle\" x=\"3524.5\" y=\"-37.8\" font-family=\"Helvetica,sans-Serif\" font-size=\"14.00\" fill=\"#000000\">gini = 0.444</text>\n<text text-anchor=\"middle\" x=\"3524.5\" y=\"-22.8\" font-family=\"Helvetica,sans-Serif\" font-size=\"14.00\" fill=\"#000000\">samples = 3</text>\n<text text-anchor=\"middle\" x=\"3524.5\" y=\"-7.8\" font-family=\"Helvetica,sans-Serif\" font-size=\"14.00\" fill=\"#000000\">value = [0, 0, 0 ... 0, 0, 0]</text>\n</g>\n<!-- 38&#45;&gt;39 -->\n<g id=\"edge39\" class=\"edge\">\n<title>38&#45;&gt;39</title>\n<path fill=\"none\" stroke=\"#000000\" d=\"M3599.6027,-88.9777C3588.1551,-79.4545 3575.7313,-69.1191 3564.3455,-59.6473\"/>\n<polygon fill=\"#000000\" stroke=\"#000000\" points=\"3566.5797,-56.9532 3556.6536,-53.2485 3562.1029,-62.3345 3566.5797,-56.9532\"/>\n</g>\n<!-- 40 -->\n<g id=\"node41\" class=\"node\">\n<title>40</title>\n<path fill=\"#ffffff\" stroke=\"#000000\" d=\"M3790,-53C3790,-53 3641,-53 3641,-53 3635,-53 3629,-47 3629,-41 3629,-41 3629,-12 3629,-12 3629,-6 3635,0 3641,0 3641,0 3790,0 3790,0 3796,0 3802,-6 3802,-12 3802,-12 3802,-41 3802,-41 3802,-47 3796,-53 3790,-53\"/>\n<text text-anchor=\"middle\" x=\"3715.5\" y=\"-37.8\" font-family=\"Helvetica,sans-Serif\" font-size=\"14.00\" fill=\"#000000\">gini = 0.833</text>\n<text text-anchor=\"middle\" x=\"3715.5\" y=\"-22.8\" font-family=\"Helvetica,sans-Serif\" font-size=\"14.00\" fill=\"#000000\">samples = 6</text>\n<text text-anchor=\"middle\" x=\"3715.5\" y=\"-7.8\" font-family=\"Helvetica,sans-Serif\" font-size=\"14.00\" fill=\"#000000\">value = [0, 0, 0 ... 0, 0, 0]</text>\n</g>\n<!-- 38&#45;&gt;40 -->\n<g id=\"edge40\" class=\"edge\">\n<title>38&#45;&gt;40</title>\n<path fill=\"none\" stroke=\"#000000\" d=\"M3666.9422,-88.9777C3673.9167,-80.0039 3681.4516,-70.3089 3688.4573,-61.295\"/>\n<polygon fill=\"#000000\" stroke=\"#000000\" points=\"3691.3379,-63.292 3694.711,-53.2485 3685.8109,-58.9964 3691.3379,-63.292\"/>\n</g>\n<!-- 42 -->\n<g id=\"node43\" class=\"node\">\n<title>42</title>\n<path fill=\"#ffffff\" stroke=\"#000000\" d=\"M4063,-157C4063,-157 3914,-157 3914,-157 3908,-157 3902,-151 3902,-145 3902,-145 3902,-101 3902,-101 3902,-95 3908,-89 3914,-89 3914,-89 4063,-89 4063,-89 4069,-89 4075,-95 4075,-101 4075,-101 4075,-145 4075,-145 4075,-151 4069,-157 4063,-157\"/>\n<text text-anchor=\"middle\" x=\"3988.5\" y=\"-141.8\" font-family=\"Helvetica,sans-Serif\" font-size=\"14.00\" fill=\"#000000\">blueKills &lt;= 7.5</text>\n<text text-anchor=\"middle\" x=\"3988.5\" y=\"-126.8\" font-family=\"Helvetica,sans-Serif\" font-size=\"14.00\" fill=\"#000000\">gini = 0.999</text>\n<text text-anchor=\"middle\" x=\"3988.5\" y=\"-111.8\" font-family=\"Helvetica,sans-Serif\" font-size=\"14.00\" fill=\"#000000\">samples = 2004</text>\n<text text-anchor=\"middle\" x=\"3988.5\" y=\"-96.8\" font-family=\"Helvetica,sans-Serif\" font-size=\"14.00\" fill=\"#000000\">value = [0, 0, 0 ... 0, 0, 0]</text>\n</g>\n<!-- 41&#45;&gt;42 -->\n<g id=\"edge42\" class=\"edge\">\n<title>41&#45;&gt;42</title>\n<path fill=\"none\" stroke=\"#000000\" d=\"M3988.5,-192.9465C3988.5,-184.776 3988.5,-175.9318 3988.5,-167.3697\"/>\n<polygon fill=\"#000000\" stroke=\"#000000\" points=\"3992.0001,-167.13 3988.5,-157.13 3985.0001,-167.13 3992.0001,-167.13\"/>\n</g>\n<!-- 45 -->\n<g id=\"node46\" class=\"node\">\n<title>45</title>\n<path fill=\"#ffffff\" stroke=\"#000000\" d=\"M4389.5,-157C4389.5,-157 4187.5,-157 4187.5,-157 4181.5,-157 4175.5,-151 4175.5,-145 4175.5,-145 4175.5,-101 4175.5,-101 4175.5,-95 4181.5,-89 4187.5,-89 4187.5,-89 4389.5,-89 4389.5,-89 4395.5,-89 4401.5,-95 4401.5,-101 4401.5,-101 4401.5,-145 4401.5,-145 4401.5,-151 4395.5,-157 4389.5,-157\"/>\n<text text-anchor=\"middle\" x=\"4288.5\" y=\"-141.8\" font-family=\"Helvetica,sans-Serif\" font-size=\"14.00\" fill=\"#000000\">blueTotalExperience &lt;= 17328.0</text>\n<text text-anchor=\"middle\" x=\"4288.5\" y=\"-126.8\" font-family=\"Helvetica,sans-Serif\" font-size=\"14.00\" fill=\"#000000\">gini = 0.998</text>\n<text text-anchor=\"middle\" x=\"4288.5\" y=\"-111.8\" font-family=\"Helvetica,sans-Serif\" font-size=\"14.00\" fill=\"#000000\">samples = 693</text>\n<text text-anchor=\"middle\" x=\"4288.5\" y=\"-96.8\" font-family=\"Helvetica,sans-Serif\" font-size=\"14.00\" fill=\"#000000\">value = [0, 0, 0 ... 0, 0, 0]</text>\n</g>\n<!-- 41&#45;&gt;45 -->\n<g id=\"edge45\" class=\"edge\">\n<title>41&#45;&gt;45</title>\n<path fill=\"none\" stroke=\"#000000\" d=\"M4086.7312,-192.9465C4116.7224,-182.5496 4149.8606,-171.0616 4180.4644,-160.4523\"/>\n<polygon fill=\"#000000\" stroke=\"#000000\" points=\"4182.0025,-163.6235 4190.3045,-157.0411 4179.7097,-157.0097 4182.0025,-163.6235\"/>\n</g>\n<!-- 43 -->\n<g id=\"node44\" class=\"node\">\n<title>43</title>\n<path fill=\"#ffffff\" stroke=\"#000000\" d=\"M3981,-53C3981,-53 3832,-53 3832,-53 3826,-53 3820,-47 3820,-41 3820,-41 3820,-12 3820,-12 3820,-6 3826,0 3832,0 3832,0 3981,0 3981,0 3987,0 3993,-6 3993,-12 3993,-12 3993,-41 3993,-41 3993,-47 3987,-53 3981,-53\"/>\n<text text-anchor=\"middle\" x=\"3906.5\" y=\"-37.8\" font-family=\"Helvetica,sans-Serif\" font-size=\"14.00\" fill=\"#000000\">gini = 0.998</text>\n<text text-anchor=\"middle\" x=\"3906.5\" y=\"-22.8\" font-family=\"Helvetica,sans-Serif\" font-size=\"14.00\" fill=\"#000000\">samples = 816</text>\n<text text-anchor=\"middle\" x=\"3906.5\" y=\"-7.8\" font-family=\"Helvetica,sans-Serif\" font-size=\"14.00\" fill=\"#000000\">value = [0, 0, 0 ... 0, 0, 0]</text>\n</g>\n<!-- 42&#45;&gt;43 -->\n<g id=\"edge43\" class=\"edge\">\n<title>42&#45;&gt;43</title>\n<path fill=\"none\" stroke=\"#000000\" d=\"M3959.5899,-88.9777C3951.8866,-79.9123 3943.5581,-70.111 3935.8324,-61.0192\"/>\n<polygon fill=\"#000000\" stroke=\"#000000\" points=\"3938.3718,-58.6025 3929.2293,-53.2485 3933.0375,-63.1352 3938.3718,-58.6025\"/>\n</g>\n<!-- 44 -->\n<g id=\"node45\" class=\"node\">\n<title>44</title>\n<path fill=\"#ffffff\" stroke=\"#000000\" d=\"M4172,-53C4172,-53 4023,-53 4023,-53 4017,-53 4011,-47 4011,-41 4011,-41 4011,-12 4011,-12 4011,-6 4017,0 4023,0 4023,0 4172,0 4172,0 4178,0 4184,-6 4184,-12 4184,-12 4184,-41 4184,-41 4184,-47 4178,-53 4172,-53\"/>\n<text text-anchor=\"middle\" x=\"4097.5\" y=\"-37.8\" font-family=\"Helvetica,sans-Serif\" font-size=\"14.00\" fill=\"#000000\">gini = 0.999</text>\n<text text-anchor=\"middle\" x=\"4097.5\" y=\"-22.8\" font-family=\"Helvetica,sans-Serif\" font-size=\"14.00\" fill=\"#000000\">samples = 1188</text>\n<text text-anchor=\"middle\" x=\"4097.5\" y=\"-7.8\" font-family=\"Helvetica,sans-Serif\" font-size=\"14.00\" fill=\"#000000\">value = [0, 0, 0 ... 0, 0, 0]</text>\n</g>\n<!-- 42&#45;&gt;44 -->\n<g id=\"edge44\" class=\"edge\">\n<title>42&#45;&gt;44</title>\n<path fill=\"none\" stroke=\"#000000\" d=\"M4026.9293,-88.9777C4037.5827,-79.546 4049.1359,-69.3178 4059.7501,-59.9208\"/>\n<polygon fill=\"#000000\" stroke=\"#000000\" points=\"4062.1194,-62.4978 4067.2867,-53.2485 4057.4793,-57.2566 4062.1194,-62.4978\"/>\n</g>\n<!-- 46 -->\n<g id=\"node47\" class=\"node\">\n<title>46</title>\n<path fill=\"#e6e9fc\" stroke=\"#000000\" d=\"M4363,-53C4363,-53 4214,-53 4214,-53 4208,-53 4202,-47 4202,-41 4202,-41 4202,-12 4202,-12 4202,-6 4208,0 4214,0 4214,0 4363,0 4363,0 4369,0 4375,-6 4375,-12 4375,-12 4375,-41 4375,-41 4375,-47 4369,-53 4363,-53\"/>\n<text text-anchor=\"middle\" x=\"4288.5\" y=\"-37.8\" font-family=\"Helvetica,sans-Serif\" font-size=\"14.00\" fill=\"#000000\">gini = 0.864</text>\n<text text-anchor=\"middle\" x=\"4288.5\" y=\"-22.8\" font-family=\"Helvetica,sans-Serif\" font-size=\"14.00\" fill=\"#000000\">samples = 9</text>\n<text text-anchor=\"middle\" x=\"4288.5\" y=\"-7.8\" font-family=\"Helvetica,sans-Serif\" font-size=\"14.00\" fill=\"#000000\">value = [0, 0, 0 ... 0, 0, 0]</text>\n</g>\n<!-- 45&#45;&gt;46 -->\n<g id=\"edge46\" class=\"edge\">\n<title>45&#45;&gt;46</title>\n<path fill=\"none\" stroke=\"#000000\" d=\"M4288.5,-88.9777C4288.5,-80.7364 4288.5,-71.887 4288.5,-63.5153\"/>\n<polygon fill=\"#000000\" stroke=\"#000000\" points=\"4292.0001,-63.2484 4288.5,-53.2485 4285.0001,-63.2485 4292.0001,-63.2484\"/>\n</g>\n<!-- 47 -->\n<g id=\"node48\" class=\"node\">\n<title>47</title>\n<path fill=\"#ffffff\" stroke=\"#000000\" d=\"M4554,-53C4554,-53 4405,-53 4405,-53 4399,-53 4393,-47 4393,-41 4393,-41 4393,-12 4393,-12 4393,-6 4399,0 4405,0 4405,0 4554,0 4554,0 4560,0 4566,-6 4566,-12 4566,-12 4566,-41 4566,-41 4566,-47 4560,-53 4554,-53\"/>\n<text text-anchor=\"middle\" x=\"4479.5\" y=\"-37.8\" font-family=\"Helvetica,sans-Serif\" font-size=\"14.00\" fill=\"#000000\">gini = 0.998</text>\n<text text-anchor=\"middle\" x=\"4479.5\" y=\"-22.8\" font-family=\"Helvetica,sans-Serif\" font-size=\"14.00\" fill=\"#000000\">samples = 684</text>\n<text text-anchor=\"middle\" x=\"4479.5\" y=\"-7.8\" font-family=\"Helvetica,sans-Serif\" font-size=\"14.00\" fill=\"#000000\">value = [0, 0, 0 ... 0, 0, 0]</text>\n</g>\n<!-- 45&#45;&gt;47 -->\n<g id=\"edge47\" class=\"edge\">\n<title>45&#45;&gt;47</title>\n<path fill=\"none\" stroke=\"#000000\" d=\"M4355.8395,-88.9777C4376.0504,-78.7664 4398.1094,-67.6214 4417.9278,-57.6085\"/>\n<polygon fill=\"#000000\" stroke=\"#000000\" points=\"4419.514,-60.7285 4426.8611,-53.095 4416.3573,-54.4806 4419.514,-60.7285\"/>\n</g>\n<!-- 49 -->\n<g id=\"node50\" class=\"node\">\n<title>49</title>\n<path fill=\"#ffffff\" stroke=\"#000000\" d=\"M5055,-261C5055,-261 4860,-261 4860,-261 4854,-261 4848,-255 4848,-249 4848,-249 4848,-205 4848,-205 4848,-199 4854,-193 4860,-193 4860,-193 5055,-193 5055,-193 5061,-193 5067,-199 5067,-205 5067,-205 5067,-249 5067,-249 5067,-255 5061,-261 5055,-261\"/>\n<text text-anchor=\"middle\" x=\"4957.5\" y=\"-245.8\" font-family=\"Helvetica,sans-Serif\" font-size=\"14.00\" fill=\"#000000\">redTotalExperience &lt;= 19093.5</text>\n<text text-anchor=\"middle\" x=\"4957.5\" y=\"-230.8\" font-family=\"Helvetica,sans-Serif\" font-size=\"14.00\" fill=\"#000000\">gini = 0.998</text>\n<text text-anchor=\"middle\" x=\"4957.5\" y=\"-215.8\" font-family=\"Helvetica,sans-Serif\" font-size=\"14.00\" fill=\"#000000\">samples = 867</text>\n<text text-anchor=\"middle\" x=\"4957.5\" y=\"-200.8\" font-family=\"Helvetica,sans-Serif\" font-size=\"14.00\" fill=\"#000000\">value = [0, 0, 0 ... 0, 0, 0]</text>\n</g>\n<!-- 48&#45;&gt;49 -->\n<g id=\"edge49\" class=\"edge\">\n<title>48&#45;&gt;49</title>\n<path fill=\"none\" stroke=\"#000000\" d=\"M4957.5,-296.9465C4957.5,-288.776 4957.5,-279.9318 4957.5,-271.3697\"/>\n<polygon fill=\"#000000\" stroke=\"#000000\" points=\"4961.0001,-271.13 4957.5,-261.13 4954.0001,-271.13 4961.0001,-271.13\"/>\n</g>\n<!-- 56 -->\n<g id=\"node57\" class=\"node\">\n<title>56</title>\n<path fill=\"#ffffff\" stroke=\"#000000\" d=\"M5573,-261C5573,-261 5424,-261 5424,-261 5418,-261 5412,-255 5412,-249 5412,-249 5412,-205 5412,-205 5412,-199 5418,-193 5424,-193 5424,-193 5573,-193 5573,-193 5579,-193 5585,-199 5585,-205 5585,-205 5585,-249 5585,-249 5585,-255 5579,-261 5573,-261\"/>\n<text text-anchor=\"middle\" x=\"5498.5\" y=\"-245.8\" font-family=\"Helvetica,sans-Serif\" font-size=\"14.00\" fill=\"#000000\">blueAssists &lt;= 10.5</text>\n<text text-anchor=\"middle\" x=\"5498.5\" y=\"-230.8\" font-family=\"Helvetica,sans-Serif\" font-size=\"14.00\" fill=\"#000000\">gini = 0.998</text>\n<text text-anchor=\"middle\" x=\"5498.5\" y=\"-215.8\" font-family=\"Helvetica,sans-Serif\" font-size=\"14.00\" fill=\"#000000\">samples = 503</text>\n<text text-anchor=\"middle\" x=\"5498.5\" y=\"-200.8\" font-family=\"Helvetica,sans-Serif\" font-size=\"14.00\" fill=\"#000000\">value = [0, 0, 0 ... 1, 1, 1]</text>\n</g>\n<!-- 48&#45;&gt;56 -->\n<g id=\"edge56\" class=\"edge\">\n<title>48&#45;&gt;56</title>\n<path fill=\"none\" stroke=\"#000000\" d=\"M5044.1209,-314.3483C5141.7637,-295.5778 5300.106,-265.1386 5401.7333,-245.6021\"/>\n<polygon fill=\"#000000\" stroke=\"#000000\" points=\"5402.5333,-249.0125 5411.6927,-243.6875 5401.2118,-242.1383 5402.5333,-249.0125\"/>\n</g>\n<!-- 50 -->\n<g id=\"node51\" class=\"node\">\n<title>50</title>\n<path fill=\"#ffffff\" stroke=\"#000000\" d=\"M4946,-157C4946,-157 4713,-157 4713,-157 4707,-157 4701,-151 4701,-145 4701,-145 4701,-101 4701,-101 4701,-95 4707,-89 4713,-89 4713,-89 4946,-89 4946,-89 4952,-89 4958,-95 4958,-101 4958,-101 4958,-145 4958,-145 4958,-151 4952,-157 4946,-157\"/>\n<text text-anchor=\"middle\" x=\"4829.5\" y=\"-141.8\" font-family=\"Helvetica,sans-Serif\" font-size=\"14.00\" fill=\"#000000\">blueTotalJungleMinionsKilled &lt;= 69.5</text>\n<text text-anchor=\"middle\" x=\"4829.5\" y=\"-126.8\" font-family=\"Helvetica,sans-Serif\" font-size=\"14.00\" fill=\"#000000\">gini = 0.998</text>\n<text text-anchor=\"middle\" x=\"4829.5\" y=\"-111.8\" font-family=\"Helvetica,sans-Serif\" font-size=\"14.00\" fill=\"#000000\">samples = 832</text>\n<text text-anchor=\"middle\" x=\"4829.5\" y=\"-96.8\" font-family=\"Helvetica,sans-Serif\" font-size=\"14.00\" fill=\"#000000\">value = [0, 0, 0 ... 0, 0, 0]</text>\n</g>\n<!-- 49&#45;&gt;50 -->\n<g id=\"edge50\" class=\"edge\">\n<title>49&#45;&gt;50</title>\n<path fill=\"none\" stroke=\"#000000\" d=\"M4915.588,-192.9465C4903.985,-183.519 4891.2779,-173.1946 4879.2741,-163.4415\"/>\n<polygon fill=\"#000000\" stroke=\"#000000\" points=\"4881.4744,-160.7196 4871.5061,-157.13 4877.0602,-166.1524 4881.4744,-160.7196\"/>\n</g>\n<!-- 53 -->\n<g id=\"node54\" class=\"node\">\n<title>53</title>\n<path fill=\"#ffffff\" stroke=\"#000000\" d=\"M5183,-157C5183,-157 4988,-157 4988,-157 4982,-157 4976,-151 4976,-145 4976,-145 4976,-101 4976,-101 4976,-95 4982,-89 4988,-89 4988,-89 5183,-89 5183,-89 5189,-89 5195,-95 5195,-101 5195,-101 5195,-145 5195,-145 5195,-151 5189,-157 5183,-157\"/>\n<text text-anchor=\"middle\" x=\"5085.5\" y=\"-141.8\" font-family=\"Helvetica,sans-Serif\" font-size=\"14.00\" fill=\"#000000\">redTotalExperience &lt;= 19195.0</text>\n<text text-anchor=\"middle\" x=\"5085.5\" y=\"-126.8\" font-family=\"Helvetica,sans-Serif\" font-size=\"14.00\" fill=\"#000000\">gini = 0.967</text>\n<text text-anchor=\"middle\" x=\"5085.5\" y=\"-111.8\" font-family=\"Helvetica,sans-Serif\" font-size=\"14.00\" fill=\"#000000\">samples = 35</text>\n<text text-anchor=\"middle\" x=\"5085.5\" y=\"-96.8\" font-family=\"Helvetica,sans-Serif\" font-size=\"14.00\" fill=\"#000000\">value = [0, 0, 0 ... 0, 0, 0]</text>\n</g>\n<!-- 49&#45;&gt;53 -->\n<g id=\"edge53\" class=\"edge\">\n<title>49&#45;&gt;53</title>\n<path fill=\"none\" stroke=\"#000000\" d=\"M4999.412,-192.9465C5011.015,-183.519 5023.7221,-173.1946 5035.7259,-163.4415\"/>\n<polygon fill=\"#000000\" stroke=\"#000000\" points=\"5037.9398,-166.1524 5043.4939,-157.13 5033.5256,-160.7196 5037.9398,-166.1524\"/>\n</g>\n<!-- 51 -->\n<g id=\"node52\" class=\"node\">\n<title>51</title>\n<path fill=\"#ffffff\" stroke=\"#000000\" d=\"M4745,-53C4745,-53 4596,-53 4596,-53 4590,-53 4584,-47 4584,-41 4584,-41 4584,-12 4584,-12 4584,-6 4590,0 4596,0 4596,0 4745,0 4745,0 4751,0 4757,-6 4757,-12 4757,-12 4757,-41 4757,-41 4757,-47 4751,-53 4745,-53\"/>\n<text text-anchor=\"middle\" x=\"4670.5\" y=\"-37.8\" font-family=\"Helvetica,sans-Serif\" font-size=\"14.00\" fill=\"#000000\">gini = 0.998</text>\n<text text-anchor=\"middle\" x=\"4670.5\" y=\"-22.8\" font-family=\"Helvetica,sans-Serif\" font-size=\"14.00\" fill=\"#000000\">samples = 813</text>\n<text text-anchor=\"middle\" x=\"4670.5\" y=\"-7.8\" font-family=\"Helvetica,sans-Serif\" font-size=\"14.00\" fill=\"#000000\">value = [0, 0, 0 ... 0, 0, 0]</text>\n</g>\n<!-- 50&#45;&gt;51 -->\n<g id=\"edge51\" class=\"edge\">\n<title>50&#45;&gt;51</title>\n<path fill=\"none\" stroke=\"#000000\" d=\"M4773.4425,-88.9777C4757.0724,-79.0424 4739.246,-68.2232 4723.0982,-58.4228\"/>\n<polygon fill=\"#000000\" stroke=\"#000000\" points=\"4724.6845,-55.2914 4714.3198,-53.095 4721.0526,-61.2755 4724.6845,-55.2914\"/>\n</g>\n<!-- 52 -->\n<g id=\"node53\" class=\"node\">\n<title>52</title>\n<path fill=\"#fef4f7\" stroke=\"#000000\" d=\"M4936,-53C4936,-53 4787,-53 4787,-53 4781,-53 4775,-47 4775,-41 4775,-41 4775,-12 4775,-12 4775,-6 4781,0 4787,0 4787,0 4936,0 4936,0 4942,0 4948,-6 4948,-12 4948,-12 4948,-41 4948,-41 4948,-47 4942,-53 4936,-53\"/>\n<text text-anchor=\"middle\" x=\"4861.5\" y=\"-37.8\" font-family=\"Helvetica,sans-Serif\" font-size=\"14.00\" fill=\"#000000\">gini = 0.942</text>\n<text text-anchor=\"middle\" x=\"4861.5\" y=\"-22.8\" font-family=\"Helvetica,sans-Serif\" font-size=\"14.00\" fill=\"#000000\">samples = 19</text>\n<text text-anchor=\"middle\" x=\"4861.5\" y=\"-7.8\" font-family=\"Helvetica,sans-Serif\" font-size=\"14.00\" fill=\"#000000\">value = [0, 0, 0 ... 0, 0, 0]</text>\n</g>\n<!-- 50&#45;&gt;52 -->\n<g id=\"edge52\" class=\"edge\">\n<title>50&#45;&gt;52</title>\n<path fill=\"none\" stroke=\"#000000\" d=\"M4840.782,-88.9777C4843.5756,-80.5533 4846.5799,-71.4934 4849.4103,-62.9579\"/>\n<polygon fill=\"#000000\" stroke=\"#000000\" points=\"4852.8046,-63.8419 4852.63,-53.2485 4846.1603,-61.6386 4852.8046,-63.8419\"/>\n</g>\n<!-- 54 -->\n<g id=\"node55\" class=\"node\">\n<title>54</title>\n<path fill=\"#ead7fa\" stroke=\"#000000\" d=\"M5127,-53C5127,-53 4978,-53 4978,-53 4972,-53 4966,-47 4966,-41 4966,-41 4966,-12 4966,-12 4966,-6 4972,0 4978,0 4978,0 5127,0 5127,0 5133,0 5139,-6 5139,-12 5139,-12 5139,-41 5139,-41 5139,-47 5133,-53 5127,-53\"/>\n<text text-anchor=\"middle\" x=\"5052.5\" y=\"-37.8\" font-family=\"Helvetica,sans-Serif\" font-size=\"14.00\" fill=\"#000000\">gini = 0.778</text>\n<text text-anchor=\"middle\" x=\"5052.5\" y=\"-22.8\" font-family=\"Helvetica,sans-Serif\" font-size=\"14.00\" fill=\"#000000\">samples = 6</text>\n<text text-anchor=\"middle\" x=\"5052.5\" y=\"-7.8\" font-family=\"Helvetica,sans-Serif\" font-size=\"14.00\" fill=\"#000000\">value = [0, 0, 0 ... 0, 0, 0]</text>\n</g>\n<!-- 53&#45;&gt;54 -->\n<g id=\"edge54\" class=\"edge\">\n<title>53&#45;&gt;54</title>\n<path fill=\"none\" stroke=\"#000000\" d=\"M5073.8654,-88.9777C5070.9845,-80.5533 5067.8863,-71.4934 5064.9675,-62.9579\"/>\n<polygon fill=\"#000000\" stroke=\"#000000\" points=\"5068.1946,-61.578 5061.6471,-53.2485 5061.5712,-63.843 5068.1946,-61.578\"/>\n</g>\n<!-- 55 -->\n<g id=\"node56\" class=\"node\">\n<title>55</title>\n<path fill=\"#ffffff\" stroke=\"#000000\" d=\"M5318,-53C5318,-53 5169,-53 5169,-53 5163,-53 5157,-47 5157,-41 5157,-41 5157,-12 5157,-12 5157,-6 5163,0 5169,0 5169,0 5318,0 5318,0 5324,0 5330,-6 5330,-12 5330,-12 5330,-41 5330,-41 5330,-47 5324,-53 5318,-53\"/>\n<text text-anchor=\"middle\" x=\"5243.5\" y=\"-37.8\" font-family=\"Helvetica,sans-Serif\" font-size=\"14.00\" fill=\"#000000\">gini = 0.961</text>\n<text text-anchor=\"middle\" x=\"5243.5\" y=\"-22.8\" font-family=\"Helvetica,sans-Serif\" font-size=\"14.00\" fill=\"#000000\">samples = 29</text>\n<text text-anchor=\"middle\" x=\"5243.5\" y=\"-7.8\" font-family=\"Helvetica,sans-Serif\" font-size=\"14.00\" fill=\"#000000\">value = [0, 0, 0 ... 0, 0, 0]</text>\n</g>\n<!-- 53&#45;&gt;55 -->\n<g id=\"edge55\" class=\"edge\">\n<title>53&#45;&gt;55</title>\n<path fill=\"none\" stroke=\"#000000\" d=\"M5141.2049,-88.9777C5157.472,-79.0424 5175.1864,-68.2232 5191.2326,-58.4228\"/>\n<polygon fill=\"#000000\" stroke=\"#000000\" points=\"5193.246,-61.2943 5199.9558,-53.095 5189.5973,-55.3204 5193.246,-61.2943\"/>\n</g>\n<!-- 57 -->\n<g id=\"node58\" class=\"node\">\n<title>57</title>\n<path fill=\"#ffffff\" stroke=\"#000000\" d=\"M5611.5,-157C5611.5,-157 5385.5,-157 5385.5,-157 5379.5,-157 5373.5,-151 5373.5,-145 5373.5,-145 5373.5,-101 5373.5,-101 5373.5,-95 5379.5,-89 5385.5,-89 5385.5,-89 5611.5,-89 5611.5,-89 5617.5,-89 5623.5,-95 5623.5,-101 5623.5,-101 5623.5,-145 5623.5,-145 5623.5,-151 5617.5,-157 5611.5,-157\"/>\n<text text-anchor=\"middle\" x=\"5498.5\" y=\"-141.8\" font-family=\"Helvetica,sans-Serif\" font-size=\"14.00\" fill=\"#000000\">redTotalJungleMinionsKilled &lt;= 40.5</text>\n<text text-anchor=\"middle\" x=\"5498.5\" y=\"-126.8\" font-family=\"Helvetica,sans-Serif\" font-size=\"14.00\" fill=\"#000000\">gini = 0.986</text>\n<text text-anchor=\"middle\" x=\"5498.5\" y=\"-111.8\" font-family=\"Helvetica,sans-Serif\" font-size=\"14.00\" fill=\"#000000\">samples = 79</text>\n<text text-anchor=\"middle\" x=\"5498.5\" y=\"-96.8\" font-family=\"Helvetica,sans-Serif\" font-size=\"14.00\" fill=\"#000000\">value = [0, 0, 0 ... 0, 0, 0]</text>\n</g>\n<!-- 56&#45;&gt;57 -->\n<g id=\"edge57\" class=\"edge\">\n<title>56&#45;&gt;57</title>\n<path fill=\"none\" stroke=\"#000000\" d=\"M5498.5,-192.9465C5498.5,-184.776 5498.5,-175.9318 5498.5,-167.3697\"/>\n<polygon fill=\"#000000\" stroke=\"#000000\" points=\"5502.0001,-167.13 5498.5,-157.13 5495.0001,-167.13 5502.0001,-167.13\"/>\n</g>\n<!-- 60 -->\n<g id=\"node61\" class=\"node\">\n<title>60</title>\n<path fill=\"#ffffff\" stroke=\"#000000\" d=\"M5915,-157C5915,-157 5718,-157 5718,-157 5712,-157 5706,-151 5706,-145 5706,-145 5706,-101 5706,-101 5706,-95 5712,-89 5718,-89 5718,-89 5915,-89 5915,-89 5921,-89 5927,-95 5927,-101 5927,-101 5927,-145 5927,-145 5927,-151 5921,-157 5915,-157\"/>\n<text text-anchor=\"middle\" x=\"5816.5\" y=\"-141.8\" font-family=\"Helvetica,sans-Serif\" font-size=\"14.00\" fill=\"#000000\">blueTotalMinionsKilled &lt;= 250.5</text>\n<text text-anchor=\"middle\" x=\"5816.5\" y=\"-126.8\" font-family=\"Helvetica,sans-Serif\" font-size=\"14.00\" fill=\"#000000\">gini = 0.997</text>\n<text text-anchor=\"middle\" x=\"5816.5\" y=\"-111.8\" font-family=\"Helvetica,sans-Serif\" font-size=\"14.00\" fill=\"#000000\">samples = 424</text>\n<text text-anchor=\"middle\" x=\"5816.5\" y=\"-96.8\" font-family=\"Helvetica,sans-Serif\" font-size=\"14.00\" fill=\"#000000\">value = [0, 0, 0 ... 1, 1, 1]</text>\n</g>\n<!-- 56&#45;&gt;60 -->\n<g id=\"edge60\" class=\"edge\">\n<title>56&#45;&gt;60</title>\n<path fill=\"none\" stroke=\"#000000\" d=\"M5585.3949,-198.5815C5621.589,-186.7445 5664.1075,-172.839 5702.7395,-160.2047\"/>\n<polygon fill=\"#000000\" stroke=\"#000000\" points=\"5704.0546,-163.4571 5712.4712,-157.022 5701.8786,-156.8039 5704.0546,-163.4571\"/>\n</g>\n<!-- 58 -->\n<g id=\"node59\" class=\"node\">\n<title>58</title>\n<path fill=\"#fef7f7\" stroke=\"#000000\" d=\"M5509,-53C5509,-53 5360,-53 5360,-53 5354,-53 5348,-47 5348,-41 5348,-41 5348,-12 5348,-12 5348,-6 5354,0 5360,0 5360,0 5509,0 5509,0 5515,0 5521,-6 5521,-12 5521,-12 5521,-41 5521,-41 5521,-47 5515,-53 5509,-53\"/>\n<text text-anchor=\"middle\" x=\"5434.5\" y=\"-37.8\" font-family=\"Helvetica,sans-Serif\" font-size=\"14.00\" fill=\"#000000\">gini = 0.957</text>\n<text text-anchor=\"middle\" x=\"5434.5\" y=\"-22.8\" font-family=\"Helvetica,sans-Serif\" font-size=\"14.00\" fill=\"#000000\">samples = 25</text>\n<text text-anchor=\"middle\" x=\"5434.5\" y=\"-7.8\" font-family=\"Helvetica,sans-Serif\" font-size=\"14.00\" fill=\"#000000\">value = [0, 0, 0 ... 0, 0, 0]</text>\n</g>\n<!-- 57&#45;&gt;58 -->\n<g id=\"edge58\" class=\"edge\">\n<title>57&#45;&gt;58</title>\n<path fill=\"none\" stroke=\"#000000\" d=\"M5475.936,-88.9777C5470.1059,-80.187 5463.8169,-70.7044 5457.943,-61.8477\"/>\n<polygon fill=\"#000000\" stroke=\"#000000\" points=\"5460.6838,-59.6478 5452.2399,-53.2485 5454.8502,-63.5167 5460.6838,-59.6478\"/>\n</g>\n<!-- 59 -->\n<g id=\"node60\" class=\"node\">\n<title>59</title>\n<path fill=\"#ffffff\" stroke=\"#000000\" d=\"M5700,-53C5700,-53 5551,-53 5551,-53 5545,-53 5539,-47 5539,-41 5539,-41 5539,-12 5539,-12 5539,-6 5545,0 5551,0 5551,0 5700,0 5700,0 5706,0 5712,-6 5712,-12 5712,-12 5712,-41 5712,-41 5712,-47 5706,-53 5700,-53\"/>\n<text text-anchor=\"middle\" x=\"5625.5\" y=\"-37.8\" font-family=\"Helvetica,sans-Serif\" font-size=\"14.00\" fill=\"#000000\">gini = 0.979</text>\n<text text-anchor=\"middle\" x=\"5625.5\" y=\"-22.8\" font-family=\"Helvetica,sans-Serif\" font-size=\"14.00\" fill=\"#000000\">samples = 54</text>\n<text text-anchor=\"middle\" x=\"5625.5\" y=\"-7.8\" font-family=\"Helvetica,sans-Serif\" font-size=\"14.00\" fill=\"#000000\">value = [0, 0, 0 ... 0, 0, 0]</text>\n</g>\n<!-- 57&#45;&gt;59 -->\n<g id=\"edge59\" class=\"edge\">\n<title>57&#45;&gt;59</title>\n<path fill=\"none\" stroke=\"#000000\" d=\"M5543.2754,-88.9777C5555.9292,-79.3629 5569.6723,-68.9203 5582.2353,-59.3743\"/>\n<polygon fill=\"#000000\" stroke=\"#000000\" points=\"5584.4526,-62.0853 5590.2973,-53.2485 5580.2176,-56.5118 5584.4526,-62.0853\"/>\n</g>\n<!-- 61 -->\n<g id=\"node62\" class=\"node\">\n<title>61</title>\n<path fill=\"#ffffff\" stroke=\"#000000\" d=\"M5891,-53C5891,-53 5742,-53 5742,-53 5736,-53 5730,-47 5730,-41 5730,-41 5730,-12 5730,-12 5730,-6 5736,0 5742,0 5742,0 5891,0 5891,0 5897,0 5903,-6 5903,-12 5903,-12 5903,-41 5903,-41 5903,-47 5897,-53 5891,-53\"/>\n<text text-anchor=\"middle\" x=\"5816.5\" y=\"-37.8\" font-family=\"Helvetica,sans-Serif\" font-size=\"14.00\" fill=\"#000000\">gini = 0.997</text>\n<text text-anchor=\"middle\" x=\"5816.5\" y=\"-22.8\" font-family=\"Helvetica,sans-Serif\" font-size=\"14.00\" fill=\"#000000\">samples = 407</text>\n<text text-anchor=\"middle\" x=\"5816.5\" y=\"-7.8\" font-family=\"Helvetica,sans-Serif\" font-size=\"14.00\" fill=\"#000000\">value = [0, 0, 0 ... 1, 1, 1]</text>\n</g>\n<!-- 60&#45;&gt;61 -->\n<g id=\"edge61\" class=\"edge\">\n<title>60&#45;&gt;61</title>\n<path fill=\"none\" stroke=\"#000000\" d=\"M5816.5,-88.9777C5816.5,-80.7364 5816.5,-71.887 5816.5,-63.5153\"/>\n<polygon fill=\"#000000\" stroke=\"#000000\" points=\"5820.0001,-63.2484 5816.5,-53.2485 5813.0001,-63.2485 5820.0001,-63.2484\"/>\n</g>\n<!-- 62 -->\n<g id=\"node63\" class=\"node\">\n<title>62</title>\n<path fill=\"#fdf6f3\" stroke=\"#000000\" d=\"M6082,-53C6082,-53 5933,-53 5933,-53 5927,-53 5921,-47 5921,-41 5921,-41 5921,-12 5921,-12 5921,-6 5927,0 5933,0 5933,0 6082,0 6082,0 6088,0 6094,-6 6094,-12 6094,-12 6094,-41 6094,-41 6094,-47 6088,-53 6082,-53\"/>\n<text text-anchor=\"middle\" x=\"6007.5\" y=\"-37.8\" font-family=\"Helvetica,sans-Serif\" font-size=\"14.00\" fill=\"#000000\">gini = 0.934</text>\n<text text-anchor=\"middle\" x=\"6007.5\" y=\"-22.8\" font-family=\"Helvetica,sans-Serif\" font-size=\"14.00\" fill=\"#000000\">samples = 17</text>\n<text text-anchor=\"middle\" x=\"6007.5\" y=\"-7.8\" font-family=\"Helvetica,sans-Serif\" font-size=\"14.00\" fill=\"#000000\">value = [0, 0, 0 ... 0, 0, 0]</text>\n</g>\n<!-- 60&#45;&gt;62 -->\n<g id=\"edge62\" class=\"edge\">\n<title>60&#45;&gt;62</title>\n<path fill=\"none\" stroke=\"#000000\" d=\"M5883.8395,-88.9777C5904.0504,-78.7664 5926.1094,-67.6214 5945.9278,-57.6085\"/>\n<polygon fill=\"#000000\" stroke=\"#000000\" points=\"5947.514,-60.7285 5954.8611,-53.095 5944.3573,-54.4806 5947.514,-60.7285\"/>\n</g>\n</g>\n</svg>\n"
          },
          "metadata": {},
          "execution_count": 34
        }
      ]
    },
    {
      "cell_type": "markdown",
      "metadata": {
        "id": "Ia_OV7G2hRIb"
      },
      "source": [
        "SVM\n"
      ]
    },
    {
      "cell_type": "code",
      "metadata": {
        "id": "TrsYCbCPfecQ",
        "colab": {
          "base_uri": "https://localhost:8080/"
        },
        "outputId": "5a27ad31-9f5e-4d44-92a1-76aff18ebf02"
      },
      "source": [
        "import os\n",
        "import pandas as pd\n",
        "import numpy as np\n",
        "%matplotlib inline\n",
        "import matplotlib.pyplot as plt\n",
        "from matplotlib import style\n",
        "import seaborn as sns\n",
        "from google.colab import drive\n",
        "drive.mount('/content/gdrive')\n",
        "\n",
        "df = pd.read_csv('/content/gdrive/MyDrive/Riddle/Riddle 2021-2022/MA 440/JakobNickIsabelleJosephine/LoL First 10 Minutes #1.csv')\n",
        "print(df) \n",
        "\n",
        "column_name = \"blueWins\"\n",
        "normalized_df = (df-df.mean())/df.std()\n",
        "y = df[column_name]\n",
        "x = normalized_df.drop(column_name, axis=1).copy()\n",
        "\n",
        "\n",
        "##train = pd.read_csv('/content/gdrive/MyDrive/JakobNickIsabelleJosephine/LoL First 10 Minutes #1.csv')\n",
        "#test = pd.read_csv('/content/gdrive/MyDrive/JakobNickIsabelleJosephine/First 15 Minutes LoL Data.csv')\n",
        "from sklearn.model_selection import train_test_split\n",
        "X_train, X_test, y_train, y_test = train_test_split(\n",
        "             x, y, test_size = 0.2, random_state=42)\n",
        "\n",
        "#Xtest15 = test.iloc[:,0:x]\n",
        "#Ytest15 = test.iloc[:,x]\n",
        "\n",
        "from sklearn import svm\n",
        "from sklearn.svm import SVC\n",
        "c = 1\n",
        "clf = svm.SVC(kernel = 'linear', C = c)\n",
        "clf.fit(X_train,y_train)\n",
        "\n",
        "y_pred = clf.predict(X_test)\n",
        "y_true=y_test\n",
        "\n",
        "#confusion matrix\n",
        "#cm= confusion_matrix(y_true, y_pred)\n",
        "#print(cm)\n",
        "\n",
        "#display = PrecisionRecallDisplay.from_estimator(clf, X_test, y_test, name=\"SVM\")\n",
        "\n",
        "besti=0\n",
        "bestScore=0\n",
        "\n",
        "for i in range(1,25):\n",
        "  clf = svm.SVC(kernel = 'linear', C = i)\n",
        "  clf.fit(X_train, y_train)\n",
        "  if(clf.score(X_test,y_test) > bestScore):\n",
        "    bestScore = clf.score(X_test,y_test)\n",
        "    besti = i\n",
        "\n",
        "print(besti)"
      ],
      "execution_count": null,
      "outputs": [
        {
          "output_type": "stream",
          "name": "stdout",
          "text": [
            "Drive already mounted at /content/gdrive; to attempt to forcibly remount, call drive.mount(\"/content/gdrive\", force_remount=True).\n",
            "      blueWins  ...  redTotalJungleMinionsKilled\n",
            "0            0  ...                           55\n",
            "1            0  ...                           52\n",
            "2            0  ...                           28\n",
            "3            0  ...                           47\n",
            "4            0  ...                           67\n",
            "...        ...  ...                          ...\n",
            "9874         1  ...                           34\n",
            "9875         1  ...                           56\n",
            "9876         0  ...                           60\n",
            "9877         0  ...                           40\n",
            "9878         1  ...                           46\n",
            "\n",
            "[9879 rows x 26 columns]\n",
            "16\n"
          ]
        }
      ]
    },
    {
      "cell_type": "code",
      "metadata": {
        "id": "ikERk71nfgRJ",
        "colab": {
          "base_uri": "https://localhost:8080/",
          "height": 487
        },
        "outputId": "0583938a-2df1-44f9-f5e7-6c77617d6459"
      },
      "source": [
        "# Imports\n",
        "from sklearn.datasets import make_blobs\n",
        "\n",
        "from sklearn.model_selection import train_test_split\n",
        "import numpy as np\n",
        "import matplotlib.pyplot as plt\n",
        "from sklearn import svm\n",
        "from sklearn.metrics import plot_confusion_matrix\n",
        "\n",
        "# Configuration options\n",
        "blobs_random_seed = 42\n",
        "centers = [(0,0), (5,5)]\n",
        "cluster_std = 1.5\n",
        "frac_test_split = 0.33\n",
        "num_features_for_samples = 2\n",
        "num_samples_total = 1000\n",
        "\n",
        "# Generate data\n",
        "inputs, targets = make_blobs(n_samples = num_samples_total, centers = centers, n_features = num_features_for_samples, cluster_std = cluster_std)\n",
        "X_train, X_test, y_train, y_test = train_test_split(inputs, targets, test_size=frac_test_split, random_state=blobs_random_seed)\n",
        "\n",
        "# Save and load temporarily\n",
        "np.save('/content/gdrive/MyDrive/MA440/LoL First 10 Minutes #1.csv', (X_train, X_test, y_train, y_test))\n",
        "X_train, X_test, y_train, y_test = np.load('/content/gdrive/MyDrive/MA440/LoL First 10 Minutes #1.csv', allow_pickle=True)\n",
        "\n",
        "# Generate scatter plot for training data \n",
        "plt.scatter(X_train[:,0], X_train[:,1])\n",
        "plt.title('Linearly separable data')\n",
        "plt.xlabel('X1')\n",
        "plt.ylabel('X2')\n",
        "plt.show()\n",
        "\n",
        "# Initialize SVM classifier\n",
        "clf = svm.SVC(kernel='linear')\n",
        "\n",
        "# Fit data\n",
        "clf = clf.fit(X_train, y_train)"
      ],
      "execution_count": null,
      "outputs": [
        {
          "output_type": "stream",
          "name": "stderr",
          "text": [
            "/usr/local/lib/python3.7/dist-packages/numpy/core/_asarray.py:136: VisibleDeprecationWarning: Creating an ndarray from ragged nested sequences (which is a list-or-tuple of lists-or-tuples-or ndarrays with different lengths or shapes) is deprecated. If you meant to do this, you must specify 'dtype=object' when creating the ndarray\n",
            "  return array(a, dtype, copy=False, order=order, subok=True)\n"
          ]
        },
        {
          "output_type": "error",
          "ename": "OSError",
          "evalue": "ignored",
          "traceback": [
            "\u001b[0;31m---------------------------------------------------------------------------\u001b[0m",
            "\u001b[0;31mUnpicklingError\u001b[0m                           Traceback (most recent call last)",
            "\u001b[0;32m/usr/local/lib/python3.7/dist-packages/numpy/lib/npyio.py\u001b[0m in \u001b[0;36mload\u001b[0;34m(file, mmap_mode, allow_pickle, fix_imports, encoding)\u001b[0m\n\u001b[1;32m    446\u001b[0m             \u001b[0;32mtry\u001b[0m\u001b[0;34m:\u001b[0m\u001b[0;34m\u001b[0m\u001b[0;34m\u001b[0m\u001b[0m\n\u001b[0;32m--> 447\u001b[0;31m                 \u001b[0;32mreturn\u001b[0m \u001b[0mpickle\u001b[0m\u001b[0;34m.\u001b[0m\u001b[0mload\u001b[0m\u001b[0;34m(\u001b[0m\u001b[0mfid\u001b[0m\u001b[0;34m,\u001b[0m \u001b[0;34m**\u001b[0m\u001b[0mpickle_kwargs\u001b[0m\u001b[0;34m)\u001b[0m\u001b[0;34m\u001b[0m\u001b[0;34m\u001b[0m\u001b[0m\n\u001b[0m\u001b[1;32m    448\u001b[0m             \u001b[0;32mexcept\u001b[0m \u001b[0mException\u001b[0m\u001b[0;34m:\u001b[0m\u001b[0;34m\u001b[0m\u001b[0;34m\u001b[0m\u001b[0m\n",
            "\u001b[0;31mUnpicklingError\u001b[0m: unpickling stack underflow",
            "\nDuring handling of the above exception, another exception occurred:\n",
            "\u001b[0;31mOSError\u001b[0m                                   Traceback (most recent call last)",
            "\u001b[0;32m<ipython-input-15-7dc2c28df565>\u001b[0m in \u001b[0;36m<module>\u001b[0;34m()\u001b[0m\n\u001b[1;32m     22\u001b[0m \u001b[0;31m# Save and load temporarily\u001b[0m\u001b[0;34m\u001b[0m\u001b[0;34m\u001b[0m\u001b[0;34m\u001b[0m\u001b[0m\n\u001b[1;32m     23\u001b[0m \u001b[0mnp\u001b[0m\u001b[0;34m.\u001b[0m\u001b[0msave\u001b[0m\u001b[0;34m(\u001b[0m\u001b[0;34m'/content/gdrive/MyDrive/MA440/LoL First 10 Minutes #1.csv'\u001b[0m\u001b[0;34m,\u001b[0m \u001b[0;34m(\u001b[0m\u001b[0mX_train\u001b[0m\u001b[0;34m,\u001b[0m \u001b[0mX_test\u001b[0m\u001b[0;34m,\u001b[0m \u001b[0my_train\u001b[0m\u001b[0;34m,\u001b[0m \u001b[0my_test\u001b[0m\u001b[0;34m)\u001b[0m\u001b[0;34m)\u001b[0m\u001b[0;34m\u001b[0m\u001b[0;34m\u001b[0m\u001b[0m\n\u001b[0;32m---> 24\u001b[0;31m \u001b[0mX_train\u001b[0m\u001b[0;34m,\u001b[0m \u001b[0mX_test\u001b[0m\u001b[0;34m,\u001b[0m \u001b[0my_train\u001b[0m\u001b[0;34m,\u001b[0m \u001b[0my_test\u001b[0m \u001b[0;34m=\u001b[0m \u001b[0mnp\u001b[0m\u001b[0;34m.\u001b[0m\u001b[0mload\u001b[0m\u001b[0;34m(\u001b[0m\u001b[0;34m'/content/gdrive/MyDrive/MA440/LoL First 10 Minutes #1.csv'\u001b[0m\u001b[0;34m,\u001b[0m \u001b[0mallow_pickle\u001b[0m\u001b[0;34m=\u001b[0m\u001b[0;32mTrue\u001b[0m\u001b[0;34m)\u001b[0m\u001b[0;34m\u001b[0m\u001b[0;34m\u001b[0m\u001b[0m\n\u001b[0m\u001b[1;32m     25\u001b[0m \u001b[0;34m\u001b[0m\u001b[0m\n\u001b[1;32m     26\u001b[0m \u001b[0;31m# Generate scatter plot for training data\u001b[0m\u001b[0;34m\u001b[0m\u001b[0;34m\u001b[0m\u001b[0;34m\u001b[0m\u001b[0m\n",
            "\u001b[0;32m/usr/local/lib/python3.7/dist-packages/numpy/lib/npyio.py\u001b[0m in \u001b[0;36mload\u001b[0;34m(file, mmap_mode, allow_pickle, fix_imports, encoding)\u001b[0m\n\u001b[1;32m    448\u001b[0m             \u001b[0;32mexcept\u001b[0m \u001b[0mException\u001b[0m\u001b[0;34m:\u001b[0m\u001b[0;34m\u001b[0m\u001b[0;34m\u001b[0m\u001b[0m\n\u001b[1;32m    449\u001b[0m                 raise IOError(\n\u001b[0;32m--> 450\u001b[0;31m                     \"Failed to interpret file %s as a pickle\" % repr(file))\n\u001b[0m\u001b[1;32m    451\u001b[0m \u001b[0;34m\u001b[0m\u001b[0m\n\u001b[1;32m    452\u001b[0m \u001b[0;34m\u001b[0m\u001b[0m\n",
            "\u001b[0;31mOSError\u001b[0m: Failed to interpret file '/content/gdrive/MyDrive/MA440/LoL First 10 Minutes #1.csv' as a pickle"
          ]
        }
      ]
    },
    {
      "cell_type": "markdown",
      "metadata": {
        "id": "wYSfDEPQhSJK"
      },
      "source": [
        "KNN"
      ]
    },
    {
      "cell_type": "code",
      "metadata": {
        "colab": {
          "base_uri": "https://localhost:8080/",
          "height": 1000
        },
        "id": "ON7jSjVEA__2",
        "outputId": "9028301e-e8bc-487f-9044-e06462f1e788"
      },
      "source": [
        "#KNN for Blue Wins\n",
        "import os\n",
        "import pandas as pd\n",
        "import numpy as np\n",
        "%matplotlib inline\n",
        "import matplotlib.pyplot as plt\n",
        "from matplotlib import style\n",
        "import seaborn as sns\n",
        "from google.colab import drive\n",
        "drive.mount('/content/gdrive')\n",
        "os.chdir('/content/gdrive/MyDrive/MA440')\n",
        "!pwd\n",
        "!ls\n",
        "\n",
        "#Dr. Liu: Remember to change the folder that you read the .csv file from.\n",
        "#For some reason, I was receiving errors when trying\n",
        "df = pd.read_csv('/content/gdrive/MyDrive/MA440/LoL First 10 Minutes.csv')\n",
        "column_name = \"blueWins\"\n",
        "y = df.iloc[:,0].copy()\n",
        "df.drop(column_name, axis=1)\n",
        "normalized_df = (df-df.mean())/df.std().copy()\n",
        "\n",
        "from sklearn.neighbors import KNeighborsClassifier \n",
        "from sklearn.model_selection import train_test_split\n",
        "from sklearn.metrics import PrecisionRecallDisplay \n",
        "from sklearn.metrics import confusion_matrix\n",
        "X = normalized_df.iloc[:, 1:25]\n",
        "X_train, X_test, y_train, y_test = train_test_split(\n",
        "             X, y, test_size = 0.2, random_state=42)\n",
        "knn = KNeighborsClassifier(n_neighbors=21)\n",
        " \n",
        "knn.fit(X_train, y_train)\n",
        " \n",
        "# Calculate the accuracy of the model\n",
        "print('Accuracy:')\n",
        "print(knn.score(X_test, y_test))\n",
        "\n",
        "display = PrecisionRecallDisplay.from_estimator(knn, X_test, y_test, name=\"KNN\")\n",
        "\n",
        "y_pred = knn.predict(X_test)\n",
        "y_true=y_test\n",
        "\n",
        "#confusion matrix\n",
        "cm= confusion_matrix(y_true, y_pred)\n",
        "\n",
        "import seaborn as sns \n",
        "f, ax =plt.subplots(figsize = (5,5))\n",
        "\n",
        "sns.heatmap(cm,annot = True, linewidths= 0.5, linecolor=\"red\", fmt=\".0f\", ax=ax)\n",
        "plt.xlabel(\"Prediction\")\n",
        "plt.ylabel(\"True\")\n",
        "plt.show()\n",
        "\n",
        "from sklearn.metrics import recall_score\n",
        "from sklearn.metrics import precision_score\n",
        "from sklearn.metrics import f1_score\n",
        "\n",
        "print('Recall:')\n",
        "print(recall_score(y_pred ,y_test))\n",
        "print('Precision:')\n",
        "print(precision_score(y_pred ,y_test))\n",
        "print('F score:')\n",
        "print(f1_score(y_pred, y_test))\n",
        "\n",
        "besti = 0\n",
        "bestScore = 0\n",
        "\n",
        "for i in range(3,30,2):\n",
        "  knn = KNeighborsClassifier(n_neighbors=i)\n",
        "  knn.fit(X_train, y_train)\n",
        "  if(knn.score(X_test,y_test) > bestScore):\n",
        "    bestScore = knn.score(X_test,y_test)\n",
        "    besti = i\n",
        "\n",
        "print('Best k value:')\n",
        "print(besti)\n",
        "print('Best KNN score:')\n",
        "print(bestScore)\n",
        "\n",
        "import matplotlib.pyplot as plt\n",
        "from sklearn.datasets import make_classification\n",
        "from sklearn.metrics import RocCurveDisplay\n",
        "from sklearn.model_selection import train_test_split\n",
        "from sklearn.svm import SVC\n",
        "X_train, X_test, y_train, y_test = train_test_split(\n",
        "     X, y, random_state=42)\n",
        "clf = SVC(random_state=42).fit(X_train, y_train)\n",
        "RocCurveDisplay.from_estimator(\n",
        "clf, X_test, y_test)\n",
        "plt.show()"
      ],
      "execution_count": null,
      "outputs": [
        {
          "output_type": "stream",
          "name": "stdout",
          "text": [
            "Drive already mounted at /content/gdrive; to attempt to forcibly remount, call drive.mount(\"/content/gdrive\", force_remount=True).\n",
            "/content/gdrive/MyDrive/MA440\n",
            "'First 15 Minutes LoL Data.csv'\t\t\t      Salaries.csv\n",
            "'First 15 Minutes LoL Data Edit (Test for SVM).csv'   sonar_test.csv\n",
            " iris.csv\t\t\t\t\t      sonar_train.csv\n",
            "'LoL First 10 Minutes.csv'\t\t\t      Testing_Data_Set.csv\n",
            "'LoL First 10 Minutes Edit (Test for SVM).csv'\t      Training_Data_Set.csv\n",
            " myfirstdata.csv\t\t\t\t      tree.dot\n",
            " myLib.py\t\t\t\t\t      tree.png\n",
            " my_small_df.csv\t\t\t\t      twomillion.csv\n",
            "Accuracy:\n",
            "0.7155870445344129\n"
          ]
        },
        {
          "output_type": "display_data",
          "data": {
            "image/png": "[encoded data removed]",
            "text/plain": [
              "<Figure size 432x288 with 1 Axes>"
            ]
          },
          "metadata": {
            "needs_background": "light"
          }
        },
        {
          "output_type": "display_data",
          "data": {
            "image/png": "[encoded data removed]",
            "text/plain": [
              "<Figure size 360x360 with 2 Axes>"
            ]
          },
          "metadata": {
            "needs_background": "light"
          }
        },
        {
          "output_type": "stream",
          "name": "stdout",
          "text": [
            "Recall:\n",
            "0.7170191339375629\n",
            "Precision:\n",
            "0.7170191339375629\n",
            "F score:\n",
            "0.7170191339375628\n",
            "Best k value:\n",
            "21\n",
            "Best KNN score:\n",
            "0.7155870445344129\n"
          ]
        },
        {
          "output_type": "display_data",
          "data": {
            "image/png": "[encoded data removed]",
            "text/plain": [
              "<Figure size 432x288 with 1 Axes>"
            ]
          },
          "metadata": {
            "needs_background": "light"
          }
        }
      ]
    },
    {
      "cell_type": "code",
      "source": [
        "besti = 0\n",
        "bestScore = 0\n",
        "column_name = \"blueWins\"\n",
        "y = df[column_name].copy()\n",
        "df.drop(column_name, axis=1)\n",
        "x = df\n",
        "from sklearn.neighbors import KNeighborsClassifier \n",
        "from sklearn.model_selection import train_test_split\n",
        "from sklearn.metrics import PrecisionRecallDisplay\n",
        "\n",
        "X_train, X_test, y_train, y_test = train_test_split(\n",
        "             x, y, test_size = 0.2, random_state=42)\n",
        "\n",
        "\n",
        "for i in range(3,30,2):\n",
        "  knn = KNeighborsClassifier(n_neighbors=i)\n",
        "  knn.fit(X_train, y_train)\n",
        "  y_pred = knn.predict(X_test)\n",
        "  y_true=y_test\n",
        "  if(precision_score(X_test,y_test) > bestScore):\n",
        "    bestScore = knn.precision_score(X_test,y_test)\n",
        "    besti = i\n",
        "\n",
        "print(besti)\n",
        "print(bestScore)"
      ],
      "metadata": {
        "colab": {
          "base_uri": "https://localhost:8080/",
          "height": 235
        },
        "id": "S3cZhnhRoEcN",
        "outputId": "9c4aab09-d997-4416-ee67-df2258825b58"
      },
      "execution_count": null,
      "outputs": [
        {
          "output_type": "error",
          "ename": "NameError",
          "evalue": "ignored",
          "traceback": [
            "\u001b[0;31m---------------------------------------------------------------------------\u001b[0m",
            "\u001b[0;31mNameError\u001b[0m                                 Traceback (most recent call last)",
            "\u001b[0;32m<ipython-input-1-fb882e8e8d80>\u001b[0m in \u001b[0;36m<module>\u001b[0;34m()\u001b[0m\n\u001b[1;32m      2\u001b[0m \u001b[0mbestScore\u001b[0m \u001b[0;34m=\u001b[0m \u001b[0;36m0\u001b[0m\u001b[0;34m\u001b[0m\u001b[0;34m\u001b[0m\u001b[0m\n\u001b[1;32m      3\u001b[0m \u001b[0mcolumn_name\u001b[0m \u001b[0;34m=\u001b[0m \u001b[0;34m\"blueWins\"\u001b[0m\u001b[0;34m\u001b[0m\u001b[0;34m\u001b[0m\u001b[0m\n\u001b[0;32m----> 4\u001b[0;31m \u001b[0my\u001b[0m \u001b[0;34m=\u001b[0m \u001b[0mdf\u001b[0m\u001b[0;34m[\u001b[0m\u001b[0mcolumn_name\u001b[0m\u001b[0;34m]\u001b[0m\u001b[0;34m.\u001b[0m\u001b[0mcopy\u001b[0m\u001b[0;34m(\u001b[0m\u001b[0;34m)\u001b[0m\u001b[0;34m\u001b[0m\u001b[0;34m\u001b[0m\u001b[0m\n\u001b[0m\u001b[1;32m      5\u001b[0m \u001b[0mdf\u001b[0m\u001b[0;34m.\u001b[0m\u001b[0mdrop\u001b[0m\u001b[0;34m(\u001b[0m\u001b[0mcolumn_name\u001b[0m\u001b[0;34m,\u001b[0m \u001b[0maxis\u001b[0m\u001b[0;34m=\u001b[0m\u001b[0;36m1\u001b[0m\u001b[0;34m)\u001b[0m\u001b[0;34m\u001b[0m\u001b[0;34m\u001b[0m\u001b[0m\n\u001b[1;32m      6\u001b[0m \u001b[0mx\u001b[0m \u001b[0;34m=\u001b[0m \u001b[0mdf\u001b[0m\u001b[0;34m\u001b[0m\u001b[0;34m\u001b[0m\u001b[0m\n",
            "\u001b[0;31mNameError\u001b[0m: name 'df' is not defined"
          ]
        }
      ]
    },
    {
      "cell_type": "code",
      "metadata": {
        "id": "kIIep2hGkjoS",
        "colab": {
          "base_uri": "https://localhost:8080/"
        },
        "outputId": "635da5a5-c813-4fee-d859-7d8057095f55"
      },
      "source": [
        "#KNN for Total Gold\n",
        "import os\n",
        "import pandas as pd\n",
        "import numpy as np\n",
        "%matplotlib inline\n",
        "import matplotlib.pyplot as plt\n",
        "from matplotlib import style\n",
        "import seaborn as sns\n",
        "from google.colab import drive\n",
        "drive.mount('/content/gdrive')\n",
        "os.chdir('/content/gdrive/MyDrive/MA440')\n",
        "!pwd\n",
        "!ls\n",
        "\n",
        "df = pd.read_csv('/content/gdrive/MyDrive/MA440/LoL First 10 Minutes.csv')\n",
        "column_name = \"blueTotalGold\"\n",
        "y = df.iloc[:,8].copy()\n",
        "print(df)\n",
        "df.drop(column_name, axis=1)\n",
        "normalized_df = (df-df.mean())/df.std().copy()\n",
        "\n",
        "from sklearn.neighbors import KNeighborsClassifier \n",
        "from sklearn.model_selection import train_test_split\n",
        "X = normalized_df.iloc[:, 1:13]\n",
        "X_train, X_test, y_train, y_test = train_test_split(\n",
        "             X, y, test_size = 0.2, random_state=42)\n",
        "knn = KNeighborsClassifier(n_neighbors=13)\n",
        " \n",
        "knn.fit(X_train, y_train)\n",
        " \n",
        "# Calculate the accuracy of the model\n",
        "print(knn.score(X_test, y_test))"
      ],
      "execution_count": null,
      "outputs": [
        {
          "output_type": "stream",
          "name": "stdout",
          "text": [
            "Drive already mounted at /content/gdrive; to attempt to forcibly remount, call drive.mount(\"/content/gdrive\", force_remount=True).\n",
            "/content/gdrive/MyDrive/MA440\n",
            "'First 15 Minutes LoL Data.csv'\t\t\t      Salaries.csv\n",
            "'First 15 Minutes LoL Data Edit (Test for SVM).csv'   sonar_test.csv\n",
            " iris.csv\t\t\t\t\t      sonar_train.csv\n",
            "'LoL First 10 Minutes.csv'\t\t\t      Testing_Data_Set.csv\n",
            "'LoL First 10 Minutes Edit (Test for SVM).csv'\t      Training_Data_Set.csv\n",
            " myfirstdata.csv\t\t\t\t      tree.dot\n",
            " myLib.py\t\t\t\t\t      tree.png\n",
            " my_small_df.csv\t\t\t\t      twomillion.csv\n",
            "      blueWins  ...  redTotalJungleMinionsKilled\n",
            "0            0  ...                           55\n",
            "1            0  ...                           52\n",
            "2            0  ...                           28\n",
            "3            0  ...                           47\n",
            "4            0  ...                           67\n",
            "...        ...  ...                          ...\n",
            "9874         1  ...                           34\n",
            "9875         1  ...                           56\n",
            "9876         0  ...                           60\n",
            "9877         0  ...                           40\n",
            "9878         1  ...                           46\n",
            "\n",
            "[9879 rows x 26 columns]\n",
            "0.9984817813765182\n"
          ]
        }
      ]
    },
    {
      "cell_type": "code",
      "source": [],
      "metadata": {
        "id": "myo4QTkWnRPA"
      },
      "execution_count": null,
      "outputs": []
    },
    {
      "cell_type": "markdown",
      "metadata": {
        "id": "J_xpzcJEhS_W"
      },
      "source": [
        "Logistic Regression"
      ]
    },
    {
      "cell_type": "code",
      "metadata": {
        "colab": {
          "base_uri": "https://localhost:8080/",
          "height": 1000
        },
        "id": "RZkWFbawhUm9",
        "outputId": "e75ff923-6439-4d45-db6a-6da06d318768"
      },
      "source": [
        "from sklearn import linear_model\n",
        "from sklearn.metrics import recall_score\n",
        "from sklearn.metrics import precision_score\n",
        "from sklearn.metrics import f1_score\n",
        "import numpy as np\n",
        "\n",
        "\n",
        "column_name = \"blueWins\"\n",
        "y = df[column_name].copy()\n",
        "df.drop(column_name, axis=1)\n",
        "x = df\n",
        "\n",
        "log_regress = linear_model.LogisticRegression()\n",
        "\n",
        "from sklearn.model_selection import train_test_split\n",
        "from sklearn.metrics import PrecisionRecallDisplay\n",
        "\n",
        "\n",
        "X_train, X_test, y_train, y_test = train_test_split(\n",
        "             x, y, test_size = 0.2, random_state=42)\n",
        "\n",
        "#---train the model---\n",
        "log_regress.fit(X = X_train,\n",
        "                y = y_train)\n",
        "\n",
        "y_pred = log_regress.predict(X_test)\n",
        "y_true=y_test\n",
        "\n",
        "#confusion matrix\n",
        "cm= confusion_matrix(y_true, y_pred)\n",
        "print(cm)\n",
        "\n",
        "import seaborn as sns \n",
        "f, ax =plt.subplots(figsize = (5,5))\n",
        "\n",
        "sns.heatmap(cm,annot = True, linewidths= 0.5, linecolor=\"red\", fmt=\".0f\", ax=ax)\n",
        "plt.xlabel(\"Prediction\")\n",
        "plt.ylabel(\"True\")\n",
        "plt.show()\n",
        "\n",
        "display = PrecisionRecallDisplay.from_estimator(log_regress, X_test, y_test, name=\"Logistic Regression\")\n",
        "\n",
        "#---print trained model intercept---\n",
        "print(log_regress.intercept_)     # [ 8.19393897]\n",
        "\n",
        "#---print trained model coefficients---\n",
        "print(log_regress.coef_)          # [[-0.54291739]]\n",
        "\n",
        "#--print feature Importance\n",
        "print('Accuracy:')\n",
        "print(log_regress.score(x,y))\n",
        "print('Recall:')\n",
        "print(recall_score(y_pred ,y_test))\n",
        "print('Precision')\n",
        "print(precision_score(y_pred ,y_test))\n",
        "print('F score:')\n",
        "print(f1_score(y_pred, y_test))\n",
        "\n",
        "\n"
      ],
      "execution_count": null,
      "outputs": [
        {
          "output_type": "stream",
          "name": "stderr",
          "text": [
            "/usr/local/lib/python3.7/dist-packages/sklearn/linear_model/_logistic.py:818: ConvergenceWarning: lbfgs failed to converge (status=1):\n",
            "STOP: TOTAL NO. of ITERATIONS REACHED LIMIT.\n",
            "\n",
            "Increase the number of iterations (max_iter) or scale the data as shown in:\n",
            "    https://scikit-learn.org/stable/modules/preprocessing.html\n",
            "Please also refer to the documentation for alternative solver options:\n",
            "    https://scikit-learn.org/stable/modules/linear_model.html#logistic-regression\n",
            "  extra_warning_msg=_LOGISTIC_SOLVER_CONVERGENCE_MSG,\n"
          ]
        },
        {
          "output_type": "stream",
          "name": "stdout",
          "text": [
            "[[722 261]\n",
            " [266 727]]\n"
          ]
        },
        {
          "output_type": "display_data",
          "data": {
            "image/png": "[encoded data removed]",
            "text/plain": [
              "<Figure size 360x360 with 2 Axes>"
            ]
          },
          "metadata": {
            "needs_background": "light"
          }
        },
        {
          "output_type": "stream",
          "name": "stdout",
          "text": [
            "[-7.85113859e-06]\n",
            "[[ 1.01425990e-01  1.00993528e-03  2.43768718e-03 -2.28954533e-03\n",
            "  -3.02090095e-03  1.13433487e-02  1.01429049e-02  1.20044386e-03\n",
            "  -1.68449784e-04  5.43506990e-04 -2.25997780e-04 -3.21319222e-05\n",
            "   3.23251678e-03  4.25767961e-02 -6.04436172e-03 -2.64516263e-03\n",
            "  -8.75327371e-05 -1.07663356e-02 -9.72388466e-03 -1.04245095e-03\n",
            "   9.85104850e-04 -3.90510631e-04  2.03960509e-04 -2.95100931e-04\n",
            "   7.26829673e-04  8.64049363e-03]]\n",
            "Accuracy:\n",
            "0.7351958700273307\n",
            "Recall:\n",
            "0.7358299595141701\n",
            "Precision\n",
            "0.7321248741188319\n",
            "F score:\n",
            "0.7339727410398789\n"
          ]
        },
        {
          "output_type": "display_data",
          "data": {
            "image/png": "[encoded data removed]",
            "text/plain": [
              "<Figure size 432x288 with 1 Axes>"
            ]
          },
          "metadata": {
            "needs_background": "light"
          }
        },
        {
          "output_type": "display_data",
          "data": {
            "image/png": "[encoded data removed]",
            "text/plain": [
              "<Figure size 432x288 with 1 Axes>"
            ]
          },
          "metadata": {
            "needs_background": "light"
          }
        }
      ]
    },
    {
      "cell_type": "markdown",
      "metadata": {
        "id": "ooUllS1m-EFN"
      },
      "source": [
        "Charts and stuff"
      ]
    },
    {
      "cell_type": "code",
      "metadata": {
        "colab": {
          "base_uri": "https://localhost:8080/",
          "height": 282
        },
        "id": "wfa8IVK0U77G",
        "outputId": "0b4a790b-f605-4702-b9a3-af499c8c774d"
      },
      "source": [
        "%matplotlib inline\n",
        "import matplotlib.pyplot as plt\n",
        "\n",
        "df = pd.read_csv('/content/gdrive/MyDrive/Riddle/Riddle 2021-2022/MA 440/JakobNickIsabelleJosephine/LoL First 10 Minutes #1.csv')\n",
        "\n",
        "wins_column = 'blueWins'\n",
        "y2 = df['blueTowersDestroyed']\n",
        "y = df[wins_column].copy()\n",
        "\n",
        "\n",
        "plt.plot(y2,y, 'o')"
      ],
      "execution_count": null,
      "outputs": [
        {
          "output_type": "execute_result",
          "data": {
            "text/plain": [
              "[<matplotlib.lines.Line2D at 0x7f9c7eee0050>]"
            ]
          },
          "metadata": {},
          "execution_count": 26
        },
        {
          "output_type": "display_data",
          "data": {
            "image/png": "[encoded data removed]",
            "text/plain": [
              "<Figure size 432x288 with 1 Axes>"
            ]
          },
          "metadata": {
            "needs_background": "light"
          }
        }
      ]
    },
    {
      "cell_type": "code",
      "metadata": {
        "colab": {
          "base_uri": "https://localhost:8080/",
          "height": 1000
        },
        "id": "uvHnSs41-HN9",
        "outputId": "636ee738-c4ae-4616-d914-a3d90c054db0"
      },
      "source": [
        "import matplotlib.pyplot as plt\n",
        "\n",
        "df = pd.read_csv('/content/gdrive/MyDrive/Riddle/Riddle 2021-2022/MA 440/JakobNickIsabelleJosephine/LoL First 10 Minutes #1.csv')\n",
        "\n",
        "wins_column = 'blueWins'\n",
        "y = df[wins_column].copy()\n",
        "df = df.drop(wins_column, axis=1)\n",
        "i=0\n",
        "j=0\n",
        "numRows = 5\n",
        "numColumns = 5\n",
        "fig, ax = plt.subplots(numRows, numColumns, figsize=(20,20))\n",
        "fig.tight_layout()\n",
        "\n",
        "for key,value in df.iteritems():\n",
        "  y2 = df[key]\n",
        "  ax[j,i].set_title(key)\n",
        "  ax[j,i].plot(y2,y,'o')\n",
        "  i+=1\n",
        "  if(i == numColumns):\n",
        "    j+=1\n",
        "    i=0\n",
        "\n"
      ],
      "execution_count": null,
      "outputs": [
        {
          "output_type": "display_data",
          "data": {
            "image/png": "[encoded data removed]",
            "text/plain": [
              "<Figure size 1440x1440 with 25 Axes>"
            ]
          },
          "metadata": {
            "needs_background": "light"
          }
        }
      ]
    }
  ]
}